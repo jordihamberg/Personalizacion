{
 "cells": [
  {
   "cell_type": "markdown",
   "id": "af0d13e1",
   "metadata": {},
   "source": [
    "Creamos la matriz de ratings"
   ]
  },
  {
   "cell_type": "code",
   "execution_count": 1,
   "id": "b5ff3077",
   "metadata": {},
   "outputs": [],
   "source": [
    "from funciones import preprocesar_dataframe_animes"
   ]
  },
  {
   "cell_type": "code",
   "execution_count": null,
   "id": "f24c6750",
   "metadata": {},
   "outputs": [],
   "source": [
    "PATH_RATINGS_CSV = 'csv/rating.csv'\n",
    "MIN_USER_RATINGS_FILTER = 5     # Umbral para filtrar usuarios\n",
    "MIN_ANIME_RATINGS_FILTER = 5    # Umbral para filtrar animes\n",
    "RANDOM_STATE = 42 \n",
    "\n",
    "(train_df, test_df, \n",
    " ratings_train_matrix, ratings_test_matrix,\n",
    " NUM_USERS, NUM_ANIMES, MIN_RATING, MAX_RATING, SCORES\n",
    ") = preprocesar_dataframe_animes(\n",
    "    path_ratings_csv=PATH_RATINGS_CSV,\n",
    "    min_user_ratings=MIN_USER_RATINGS_FILTER,\n",
    "    min_anime_ratings=MIN_ANIME_RATINGS_FILTER,\n",
    "    test_size=0.2,\n",
    "    RANDOM_STATE=42)\n",
    "\n",
    "print(f\"\\nDatos preprocesados listos para KNN.\")\n",
    "print(f\"NUM_USERS: {NUM_USERS}, NUM_ANIMES: {NUM_ANIMES}\")\n",
    "print(f\"MIN_RATING: {MIN_RATING}, MAX_RATING: {MAX_RATING}\")\n",
    "print(f\"Tamaño train_df: {len(train_df)}, Tamaño test_df: {len(test_df)}\")"
   ]
  }
 ],
 "metadata": {
  "kernelspec": {
   "display_name": "Python 3",
   "language": "python",
   "name": "python3"
  },
  "language_info": {
   "codemirror_mode": {
    "name": "ipython",
    "version": 3
   },
   "file_extension": ".py",
   "mimetype": "text/x-python",
   "name": "python",
   "nbconvert_exporter": "python",
   "pygments_lexer": "ipython3",
   "version": "3.12.5"
  }
 },
 "nbformat": 4,
 "nbformat_minor": 5
}
