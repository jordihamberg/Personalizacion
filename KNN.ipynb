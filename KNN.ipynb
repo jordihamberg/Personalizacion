{
 "cells": [
  {
   "cell_type": "markdown",
   "id": "af0d13e1",
   "metadata": {},
   "source": [
    "Creamos la matriz de ratings"
   ]
  },
  {
   "cell_type": "code",
   "execution_count": null,
   "id": "b5ff3077",
   "metadata": {},
   "outputs": [],
   "source": []
  },
  {
   "cell_type": "code",
   "execution_count": null,
   "id": "b109c630",
   "metadata": {},
   "outputs": [],
   "source": [
    "import pandas as pd\n",
    "import numpy as np\n",
    "import math\n",
    "import time\n",
    "from funciones import (preprocesar_dataframe_animes, \n",
    "                       rating_average, correlation_similarity, jmsd_similarity, # Funciones de similitud y avg\n",
    "                       get_neighbors, # Búsqueda de vecinos\n",
    "                       average_prediction, weighted_average_prediction, deviation_from_mean_prediction, # Agregación\n",
    "                       get_recommendations, # Para métricas de ranking\n",
    "                       get_mae, get_rmse, get_precision, get_recall, get_f1, get_ndcg, # Métricas globales\n",
    "                       # No necesitas importar las get_user_* de métricas aquí si solo usas las globales\n",
    "                       # a menos que quieras hacer análisis por usuario.\n",
    "                       # También importa has_test_ratings, get_ordered_test_animes, get_user_idcg, get_user_dcg si son usadas por las métricas globales\n",
    "                       # que importas, lo cual parece ser el caso para nDCG.\n",
    "                       get_ordered_test_animes, get_user_idcg, get_user_dcg, # Necesarias para get_ndcg\n",
    "                       get_metricas # Tu función para imprimir todas las métricas\n",
    "                      )\n",
    "RANDOM_STATE = 42 \n"
   ]
  },
  {
   "cell_type": "code",
   "execution_count": 10,
   "id": "f24c6750",
   "metadata": {},
   "outputs": [
    {
     "name": "stdout",
     "output_type": "stream",
     "text": [
      "  NUM_USERS: 1000, NUM_ANIMES: 3707\n",
      "  Tamaño train_df: 85686, Tamaño test_df: 21413\n"
     ]
    }
   ],
   "source": [
    "PATH_RATINGS_CSV = 'csv/rating.csv'    # Ajusta esta ruta\n",
    "MIN_USER_RATINGS = 5                   # Tu umbral\n",
    "MIN_ANIME_RATINGS = 5                  # Tu umbral\n",
    "SAMPLE_NUM_USERS_FOR_DEV = 1000\n",
    "\n",
    "(train_df, test_df, \n",
    " ratings_train_matrix, ratings_test_matrix,\n",
    " NUM_USERS, NUM_ANIMES, MIN_RATING, MAX_RATING, SCORES\n",
    ") = preprocesar_dataframe_animes( # Tu función importada\n",
    "    dataframe_path=PATH_RATINGS_CSV, # El nombre del parámetro en tu función\n",
    "    n_user_ratings=MIN_USER_RATINGS, # El nombre del parámetro en tu función\n",
    "    n_anime_ratings=MIN_ANIME_RATINGS, # El nombre del parámetro en tu función\n",
    "    num_users=SAMPLE_NUM_USERS_FOR_DEV,    # El nombre del parámetro en tu función\n",
    "    test_size=0.2,\n",
    "    RANDOM_STATE=RANDOM_STATE\n",
    ")\n",
    "\n",
    "\n",
    "print(f\"  NUM_USERS: {NUM_USERS}, NUM_ANIMES: {NUM_ANIMES}\")\n",
    "print(f\"  Tamaño train_df: {len(train_df)}, Tamaño test_df: {len(test_df)}\")"
   ]
  }
 ],
 "metadata": {
  "kernelspec": {
   "display_name": "Python 3",
   "language": "python",
   "name": "python3"
  },
  "language_info": {
   "codemirror_mode": {
    "name": "ipython",
    "version": 3
   },
   "file_extension": ".py",
   "mimetype": "text/x-python",
   "name": "python",
   "nbconvert_exporter": "python",
   "pygments_lexer": "ipython3",
   "version": "3.12.5"
  }
 },
 "nbformat": 4,
 "nbformat_minor": 5
}
