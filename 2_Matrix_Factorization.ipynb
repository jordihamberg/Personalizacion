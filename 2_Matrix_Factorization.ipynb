{
 "cells": [
  {
   "cell_type": "markdown",
   "id": "72dea3ac",
   "metadata": {},
   "source": [
    "# Método 2: Probabilistic Matrix Factorization"
   ]
  },
  {
   "cell_type": "code",
   "execution_count": 10,
   "id": "cfa3076b",
   "metadata": {},
   "outputs": [],
   "source": [
    "import random\n",
    "from funciones import preprocesar_dataframe_animes, \\\n",
    "                      get_metricas"
   ]
  },
  {
   "cell_type": "code",
   "execution_count": 11,
   "id": "df227077",
   "metadata": {},
   "outputs": [],
   "source": [
    "(train_df, test_df, \n",
    " ratings_train_matrix, ratings_test_matrix,\n",
    " NUM_USERS, NUM_ANIMES, MIN_RATING, MAX_RATING, SCORES) = \\\n",
    "    preprocesar_dataframe_animes(\n",
    "    dataframe_path='csv/rating.csv',\n",
    "    n_user_ratings=5,\n",
    "    n_anime_ratings=5,\n",
    "    num_users=1000,\n",
    "    test_size=0.2, \n",
    "    RANDOM_STATE=42 \n",
    "    )"
   ]
  },
  {
   "cell_type": "code",
   "execution_count": 12,
   "id": "e41ba834",
   "metadata": {},
   "outputs": [
    {
     "data": {
      "text/html": [
       "<div>\n",
       "<style scoped>\n",
       "    .dataframe tbody tr th:only-of-type {\n",
       "        vertical-align: middle;\n",
       "    }\n",
       "\n",
       "    .dataframe tbody tr th {\n",
       "        vertical-align: top;\n",
       "    }\n",
       "\n",
       "    .dataframe thead th {\n",
       "        text-align: right;\n",
       "    }\n",
       "</style>\n",
       "<table border=\"1\" class=\"dataframe\">\n",
       "  <thead>\n",
       "    <tr style=\"text-align: right;\">\n",
       "      <th></th>\n",
       "      <th>user_id</th>\n",
       "      <th>anime_id</th>\n",
       "      <th>rating</th>\n",
       "    </tr>\n",
       "  </thead>\n",
       "  <tbody>\n",
       "    <tr>\n",
       "      <th>90138</th>\n",
       "      <td>840</td>\n",
       "      <td>421</td>\n",
       "      <td>10</td>\n",
       "    </tr>\n",
       "    <tr>\n",
       "      <th>78068</th>\n",
       "      <td>739</td>\n",
       "      <td>1822</td>\n",
       "      <td>6</td>\n",
       "    </tr>\n",
       "    <tr>\n",
       "      <th>59641</th>\n",
       "      <td>568</td>\n",
       "      <td>548</td>\n",
       "      <td>10</td>\n",
       "    </tr>\n",
       "    <tr>\n",
       "      <th>41391</th>\n",
       "      <td>383</td>\n",
       "      <td>948</td>\n",
       "      <td>4</td>\n",
       "    </tr>\n",
       "    <tr>\n",
       "      <th>15836</th>\n",
       "      <td>150</td>\n",
       "      <td>451</td>\n",
       "      <td>10</td>\n",
       "    </tr>\n",
       "    <tr>\n",
       "      <th>...</th>\n",
       "      <td>...</td>\n",
       "      <td>...</td>\n",
       "      <td>...</td>\n",
       "    </tr>\n",
       "    <tr>\n",
       "      <th>48297</th>\n",
       "      <td>437</td>\n",
       "      <td>2242</td>\n",
       "      <td>10</td>\n",
       "    </tr>\n",
       "    <tr>\n",
       "      <th>2321</th>\n",
       "      <td>30</td>\n",
       "      <td>818</td>\n",
       "      <td>8</td>\n",
       "    </tr>\n",
       "    <tr>\n",
       "      <th>62304</th>\n",
       "      <td>597</td>\n",
       "      <td>304</td>\n",
       "      <td>10</td>\n",
       "    </tr>\n",
       "    <tr>\n",
       "      <th>68211</th>\n",
       "      <td>647</td>\n",
       "      <td>632</td>\n",
       "      <td>7</td>\n",
       "    </tr>\n",
       "    <tr>\n",
       "      <th>25298</th>\n",
       "      <td>266</td>\n",
       "      <td>456</td>\n",
       "      <td>6</td>\n",
       "    </tr>\n",
       "  </tbody>\n",
       "</table>\n",
       "<p>82951 rows × 3 columns</p>\n",
       "</div>"
      ],
      "text/plain": [
       "       user_id  anime_id  rating\n",
       "90138      840       421      10\n",
       "78068      739      1822       6\n",
       "59641      568       548      10\n",
       "41391      383       948       4\n",
       "15836      150       451      10\n",
       "...        ...       ...     ...\n",
       "48297      437      2242      10\n",
       "2321        30       818       8\n",
       "62304      597       304      10\n",
       "68211      647       632       7\n",
       "25298      266       456       6\n",
       "\n",
       "[82951 rows x 3 columns]"
      ]
     },
     "execution_count": 12,
     "metadata": {},
     "output_type": "execute_result"
    }
   ],
   "source": [
    "train_df"
   ]
  },
  {
   "cell_type": "markdown",
   "id": "bb1b7cf7",
   "metadata": {},
   "source": [
    "Definimos los parámetros para la factorización matricial mediante PMF."
   ]
  },
  {
   "cell_type": "markdown",
   "id": "b02d213e",
   "metadata": {},
   "source": [
    "Hemos probado con distintos num_factores y no hay mucha diferencia entre 5, 7, 10, 16 y 32. Lo mismo con Regularization y Learning Rate, probamos distintos parámetros y el cambio era mínimo."
   ]
  },
  {
   "cell_type": "code",
   "execution_count": 14,
   "id": "5485e206",
   "metadata": {},
   "outputs": [],
   "source": [
    "NUM_FACTORS = 2       # Número de factores latentes.\n",
    "LEARNING_RATE = 0.001 # Tasa de aprendizaje (gamma).\n",
    "REGULARIZATION = 0.01  # Parámetro de regularización(lambda).\n",
    "NUM_ITERATIONS = 100   # Número de iteraciones en el proceso de entrenamiento."
   ]
  },
  {
   "cell_type": "code",
   "execution_count": 15,
   "id": "0723c0c5",
   "metadata": {},
   "outputs": [],
   "source": [
    "def compute_biased_prediction (avg, b_u, b_i, p_u, q_i):\n",
    "  deviation = 0\n",
    "  for k in range(NUM_FACTORS):\n",
    "    deviation += p_u[k] * q_i[k]\n",
    "\n",
    "  prediction = avg + b_u + b_i + deviation\n",
    "  return prediction"
   ]
  },
  {
   "cell_type": "markdown",
   "id": "987d124e",
   "metadata": {},
   "source": [
    "Ahora vamos a inicializar las matrices de factores.\n",
    "\n",
    "- `p` es la matriz de factores de los usuarios.\n",
    "- `q` es la matriz de factores de los animes (los items).\n",
    "\n",
    "Y también los vectores de bias.\n",
    "\n",
    "- `bu` es el bias del usuario u.\n",
    "- `ba` es el bias del anime a."
   ]
  },
  {
   "cell_type": "code",
   "execution_count": 16,
   "id": "835210af",
   "metadata": {},
   "outputs": [],
   "source": [
    "p = [[random.random() for _ in range(NUM_FACTORS)] for _ in range(NUM_USERS)]\n",
    "q = [[random.random() for _ in range(NUM_FACTORS)] for _ in range(NUM_ANIMES)]\n",
    "\n",
    "bu = [random.random() for _ in range(NUM_USERS)]\n",
    "bi = [random.random() for _ in range(NUM_ANIMES)]"
   ]
  },
  {
   "cell_type": "markdown",
   "id": "3a64ee5c",
   "metadata": {},
   "source": [
    "Calculamos el voto medio."
   ]
  },
  {
   "cell_type": "code",
   "execution_count": 17,
   "id": "b6fd1ed0",
   "metadata": {},
   "outputs": [],
   "source": [
    "rating_average = 0\n",
    "rating_count = 0\n",
    "\n",
    "for u in range(NUM_USERS):\n",
    "  for i in range(NUM_ANIMES):\n",
    "    if ratings_train_matrix[u][i] != None:\n",
    "      rating_average += ratings_train_matrix[u][i]\n",
    "      rating_count += 1\n",
    "\n",
    "rating_average /= rating_count"
   ]
  },
  {
   "cell_type": "markdown",
   "id": "98305b2a",
   "metadata": {},
   "source": [
    "Ahora entrenamos nuestro modelo."
   ]
  },
  {
   "cell_type": "code",
   "execution_count": 18,
   "id": "04bc6e65",
   "metadata": {},
   "outputs": [
    {
     "name": "stdout",
     "output_type": "stream",
     "text": [
      "Iteración 1 de 100\n",
      "Iteración 2 de 100\n",
      "Iteración 3 de 100\n",
      "Iteración 4 de 100\n",
      "Iteración 5 de 100\n",
      "Iteración 6 de 100\n",
      "Iteración 7 de 100\n",
      "Iteración 8 de 100\n",
      "Iteración 9 de 100\n",
      "Iteración 10 de 100\n",
      "Iteración 11 de 100\n",
      "Iteración 12 de 100\n",
      "Iteración 13 de 100\n",
      "Iteración 14 de 100\n",
      "Iteración 15 de 100\n",
      "Iteración 16 de 100\n",
      "Iteración 17 de 100\n",
      "Iteración 18 de 100\n",
      "Iteración 19 de 100\n",
      "Iteración 20 de 100\n",
      "Iteración 21 de 100\n",
      "Iteración 22 de 100\n",
      "Iteración 23 de 100\n",
      "Iteración 24 de 100\n",
      "Iteración 25 de 100\n",
      "Iteración 26 de 100\n",
      "Iteración 27 de 100\n",
      "Iteración 28 de 100\n",
      "Iteración 29 de 100\n",
      "Iteración 30 de 100\n",
      "Iteración 31 de 100\n",
      "Iteración 32 de 100\n",
      "Iteración 33 de 100\n",
      "Iteración 34 de 100\n",
      "Iteración 35 de 100\n",
      "Iteración 36 de 100\n",
      "Iteración 37 de 100\n",
      "Iteración 38 de 100\n",
      "Iteración 39 de 100\n",
      "Iteración 40 de 100\n",
      "Iteración 41 de 100\n",
      "Iteración 42 de 100\n",
      "Iteración 43 de 100\n",
      "Iteración 44 de 100\n",
      "Iteración 45 de 100\n",
      "Iteración 46 de 100\n",
      "Iteración 47 de 100\n",
      "Iteración 48 de 100\n",
      "Iteración 49 de 100\n",
      "Iteración 50 de 100\n",
      "Iteración 51 de 100\n",
      "Iteración 52 de 100\n",
      "Iteración 53 de 100\n",
      "Iteración 54 de 100\n",
      "Iteración 55 de 100\n",
      "Iteración 56 de 100\n",
      "Iteración 57 de 100\n",
      "Iteración 58 de 100\n",
      "Iteración 59 de 100\n",
      "Iteración 60 de 100\n",
      "Iteración 61 de 100\n",
      "Iteración 62 de 100\n",
      "Iteración 63 de 100\n",
      "Iteración 64 de 100\n",
      "Iteración 65 de 100\n",
      "Iteración 66 de 100\n",
      "Iteración 67 de 100\n",
      "Iteración 68 de 100\n",
      "Iteración 69 de 100\n",
      "Iteración 70 de 100\n",
      "Iteración 71 de 100\n",
      "Iteración 72 de 100\n",
      "Iteración 73 de 100\n",
      "Iteración 74 de 100\n",
      "Iteración 75 de 100\n",
      "Iteración 76 de 100\n",
      "Iteración 77 de 100\n",
      "Iteración 78 de 100\n",
      "Iteración 79 de 100\n",
      "Iteración 80 de 100\n",
      "Iteración 81 de 100\n",
      "Iteración 82 de 100\n",
      "Iteración 83 de 100\n",
      "Iteración 84 de 100\n",
      "Iteración 85 de 100\n",
      "Iteración 86 de 100\n",
      "Iteración 87 de 100\n",
      "Iteración 88 de 100\n",
      "Iteración 89 de 100\n",
      "Iteración 90 de 100\n",
      "Iteración 91 de 100\n",
      "Iteración 92 de 100\n",
      "Iteración 93 de 100\n",
      "Iteración 94 de 100\n",
      "Iteración 95 de 100\n",
      "Iteración 96 de 100\n",
      "Iteración 97 de 100\n",
      "Iteración 98 de 100\n",
      "Iteración 99 de 100\n",
      "Iteración 100 de 100\n"
     ]
    }
   ],
   "source": [
    "for it in range(NUM_ITERATIONS):\n",
    "  print(\"Iteración \" + str(it + 1) + \" de \" + str(NUM_ITERATIONS))\n",
    "\n",
    "  updated_p = list(p) # clone p matrix\n",
    "  updated_q = list(q) # clone q matrix\n",
    "\n",
    "  updated_bu = list(bu) # clone bu vector\n",
    "  updated_bi = list(bi) # clone bi vector\n",
    "\n",
    "  for u in range(NUM_USERS):\n",
    "    for i in range(NUM_ANIMES):\n",
    "      if ratings_train_matrix[u][i] != None:\n",
    "\n",
    "        prediction = compute_biased_prediction(rating_average, bu[u], bi[i], p[u], q[i])\n",
    "        rating = ratings_train_matrix[u][i]\n",
    "        error = rating - prediction\n",
    "\n",
    "        for k in range(NUM_FACTORS):\n",
    "          updated_p[u][k] += LEARNING_RATE * (error * q[i][k] - REGULARIZATION * p[u][k])\n",
    "          updated_q[i][k] += LEARNING_RATE * (error * p[u][k] - REGULARIZATION * q[i][k])\n",
    "\n",
    "        updated_bu[u] += LEARNING_RATE * (error - REGULARIZATION * bu[u])\n",
    "        updated_bi[i] += LEARNING_RATE * (error - REGULARIZATION * bi[i])\n",
    "\n",
    "\n",
    "  p = updated_p\n",
    "  q = updated_q\n",
    "\n",
    "  bu = updated_bu\n",
    "  bi = updated_bi"
   ]
  },
  {
   "cell_type": "markdown",
   "id": "f52e34eb",
   "metadata": {},
   "source": [
    "Calculamos las predicciones para todos los items que haya recibido una votación de test:"
   ]
  },
  {
   "cell_type": "code",
   "execution_count": 19,
   "id": "1fbb50d6",
   "metadata": {},
   "outputs": [],
   "source": [
    "predictions = [[None for _ in range(NUM_ANIMES)] for _ in range(NUM_USERS)]\n",
    "\n",
    "for u in range(NUM_USERS):\n",
    "  for i in range(NUM_ANIMES):\n",
    "    if ratings_test_matrix[u][i] != None:\n",
    "      predictions[u][i] = compute_biased_prediction(rating_average, bu[u], bi[i], p[u], q[i])"
   ]
  },
  {
   "cell_type": "markdown",
   "id": "fdb52f2b",
   "metadata": {},
   "source": [
    "Obtenemos las métricas."
   ]
  },
  {
   "cell_type": "code",
   "execution_count": null,
   "id": "1c4a4480",
   "metadata": {},
   "outputs": [
    {
     "name": "stdout",
     "output_type": "stream",
     "text": [
      "MAE =  0.9246024329416812\n",
      "RMSE =  1.1537824555524556\n",
      "Precision =  0.9221297619047587\n",
      "Recall =  0.5682123876346582\n",
      "F1 =  0.6521459897901318\n"
     ]
    }
   ],
   "source": [
    "# 100 K RATINGS ENTRENAMIENTO\n",
    "# 40 ANIMES MIN Y 40 USUARIOS MIN\n",
    "# 10 RECOMENDACIONES THETA = 7\n",
    "\n",
    "get_metricas(ratings_test_matrix, NUM_ANIMES, NUM_USERS,\n",
    "             predictions, 7, 10)"
   ]
  },
  {
   "cell_type": "code",
   "execution_count": null,
   "id": "18e5f839",
   "metadata": {},
   "outputs": [
    {
     "name": "stdout",
     "output_type": "stream",
     "text": [
      "MAE =  0.9246024329416812\n",
      "RMSE =  1.1537824555524556\n",
      "Precision =  0.9466666666666643\n",
      "Recall =  0.3096209621479688\n",
      "F1 =  0.43566036224052956\n"
     ]
    }
   ],
   "source": [
    "# 100 K RATINGS ENTRENAMIENTO\n",
    "# 40 ANIMES MIN Y 40 USUARIOS MIN\n",
    "# 5 RECOMENDACIONES THETA = 7\n",
    "\n",
    "get_metricas(ratings_test_matrix, NUM_ANIMES, NUM_USERS,\n",
    "             predictions, 7, 5)"
   ]
  },
  {
   "cell_type": "markdown",
   "id": "ea642d30",
   "metadata": {},
   "source": [
    "# Nuestro modelo para las métricas"
   ]
  },
  {
   "cell_type": "code",
   "execution_count": 26,
   "id": "70c51d2c",
   "metadata": {},
   "outputs": [
    {
     "name": "stdout",
     "output_type": "stream",
     "text": [
      "MAE =  0.9314183742273114\n",
      "RMSE =  1.127376965191136\n",
      "Precision =  0.9354666666666654\n",
      "Recall =  0.5457409308811286\n",
      "F1 =  0.6151643122072391\n"
     ]
    }
   ],
   "source": [
    "# 100K RATINGS ENTRENAMIENTO\n",
    "# 5 ANIMES MIN Y 5 USUARIOS MIN\n",
    "get_metricas(ratings_test_matrix, NUM_ANIMES, NUM_USERS,\n",
    "             predictions, 7, 5)"
   ]
  },
  {
   "cell_type": "code",
   "execution_count": 25,
   "id": "6c1d439f",
   "metadata": {},
   "outputs": [
    {
     "data": {
      "text/plain": [
       "0.6318250483174597"
      ]
     },
     "execution_count": 25,
     "metadata": {},
     "output_type": "execute_result"
    }
   ],
   "source": [
    "from funciones import get_ndcg\n",
    "get_ndcg(ratings_test_matrix, NUM_ANIMES, NUM_USERS, predictions, 5)"
   ]
  },
  {
   "cell_type": "markdown",
   "id": "aa62c69c",
   "metadata": {},
   "source": [
    "Vemos que este método logra una gran precisión en general."
   ]
  },
  {
   "cell_type": "markdown",
   "id": "a1a33f02",
   "metadata": {},
   "source": [
    "# Extra:"
   ]
  },
  {
   "cell_type": "markdown",
   "id": "4600b19d",
   "metadata": {},
   "source": [
    "Aunque nuestras pruebas son con tan solo 5 recomendaciones, queríamos demostrar que en este modelo en específico al recomendar 10 animes lo hace bastante bien y con un ndcg bastante alto."
   ]
  },
  {
   "cell_type": "code",
   "execution_count": 71,
   "id": "bf6e5348",
   "metadata": {},
   "outputs": [
    {
     "name": "stdout",
     "output_type": "stream",
     "text": [
      "MAE =  0.983056802860995\n",
      "RMSE =  1.2002274211754953\n",
      "Precision =  0.9141645613867814\n",
      "Recall =  0.713685245626937\n",
      "F1 =  0.7507595686567121\n"
     ]
    }
   ],
   "source": [
    "# 100K RATINGS ENTRENAMIENTO\n",
    "# 5 ANIMES MIN Y 5 USUARIOS MIN\n",
    "get_metricas(ratings_test_matrix, NUM_ANIMES, NUM_USERS,\n",
    "             predictions, 7, 10)"
   ]
  },
  {
   "cell_type": "code",
   "execution_count": 24,
   "id": "3e581f1d",
   "metadata": {},
   "outputs": [
    {
     "data": {
      "text/plain": [
       "0.7460843459579647"
      ]
     },
     "execution_count": 24,
     "metadata": {},
     "output_type": "execute_result"
    }
   ],
   "source": [
    "from funciones import get_ndcg\n",
    "get_ndcg(ratings_test_matrix, NUM_ANIMES, NUM_USERS, predictions, 10)"
   ]
  }
 ],
 "metadata": {
  "kernelspec": {
   "display_name": "Python 3",
   "language": "python",
   "name": "python3"
  },
  "language_info": {
   "codemirror_mode": {
    "name": "ipython",
    "version": 3
   },
   "file_extension": ".py",
   "mimetype": "text/x-python",
   "name": "python",
   "nbconvert_exporter": "python",
   "pygments_lexer": "ipython3",
   "version": "3.12.5"
  }
 },
 "nbformat": 4,
 "nbformat_minor": 5
}
