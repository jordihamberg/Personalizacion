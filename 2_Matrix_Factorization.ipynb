{
 "cells": [
  {
   "cell_type": "markdown",
   "id": "72dea3ac",
   "metadata": {},
   "source": [
    "# Método 2: Probabilistic Matrix Factorization"
   ]
  },
  {
   "cell_type": "code",
   "execution_count": 1,
   "id": "cfa3076b",
   "metadata": {},
   "outputs": [],
   "source": [
    "import random\n",
    "from funciones import preprocesar_dataframe_animes, \\\n",
    "                      get_metricas"
   ]
  },
  {
   "cell_type": "code",
   "execution_count": 2,
   "id": "df227077",
   "metadata": {},
   "outputs": [],
   "source": [
    "(train_df, test_df, \n",
    " ratings_train_matrix, ratings_test_matrix,\n",
    " NUM_USERS, NUM_ANIMES, MIN_RATING, MAX_RATING, SCORES) = \\\n",
    "    preprocesar_dataframe_animes(\n",
    "    dataframe_path='csv/rating.csv',\n",
    "    n_user_ratings=5,\n",
    "    n_anime_ratings=5,\n",
    "    num_users=1000,\n",
    "    test_size=0.2, \n",
    "    RANDOM_STATE=42 \n",
    "    )"
   ]
  },
  {
   "cell_type": "code",
   "execution_count": 3,
   "id": "e41ba834",
   "metadata": {},
   "outputs": [
    {
     "data": {
      "text/html": [
       "<div>\n",
       "<style scoped>\n",
       "    .dataframe tbody tr th:only-of-type {\n",
       "        vertical-align: middle;\n",
       "    }\n",
       "\n",
       "    .dataframe tbody tr th {\n",
       "        vertical-align: top;\n",
       "    }\n",
       "\n",
       "    .dataframe thead th {\n",
       "        text-align: right;\n",
       "    }\n",
       "</style>\n",
       "<table border=\"1\" class=\"dataframe\">\n",
       "  <thead>\n",
       "    <tr style=\"text-align: right;\">\n",
       "      <th></th>\n",
       "      <th>user_id</th>\n",
       "      <th>anime_id</th>\n",
       "      <th>rating</th>\n",
       "    </tr>\n",
       "  </thead>\n",
       "  <tbody>\n",
       "    <tr>\n",
       "      <th>49219</th>\n",
       "      <td>463</td>\n",
       "      <td>3777</td>\n",
       "      <td>7</td>\n",
       "    </tr>\n",
       "    <tr>\n",
       "      <th>94597</th>\n",
       "      <td>861</td>\n",
       "      <td>506</td>\n",
       "      <td>9</td>\n",
       "    </tr>\n",
       "    <tr>\n",
       "      <th>34307</th>\n",
       "      <td>318</td>\n",
       "      <td>1997</td>\n",
       "      <td>7</td>\n",
       "    </tr>\n",
       "    <tr>\n",
       "      <th>59130</th>\n",
       "      <td>552</td>\n",
       "      <td>1948</td>\n",
       "      <td>8</td>\n",
       "    </tr>\n",
       "    <tr>\n",
       "      <th>64556</th>\n",
       "      <td>588</td>\n",
       "      <td>39</td>\n",
       "      <td>9</td>\n",
       "    </tr>\n",
       "    <tr>\n",
       "      <th>...</th>\n",
       "      <td>...</td>\n",
       "      <td>...</td>\n",
       "      <td>...</td>\n",
       "    </tr>\n",
       "    <tr>\n",
       "      <th>10061</th>\n",
       "      <td>104</td>\n",
       "      <td>1012</td>\n",
       "      <td>9</td>\n",
       "    </tr>\n",
       "    <tr>\n",
       "      <th>33062</th>\n",
       "      <td>307</td>\n",
       "      <td>599</td>\n",
       "      <td>9</td>\n",
       "    </tr>\n",
       "    <tr>\n",
       "      <th>59421</th>\n",
       "      <td>558</td>\n",
       "      <td>1602</td>\n",
       "      <td>10</td>\n",
       "    </tr>\n",
       "    <tr>\n",
       "      <th>44708</th>\n",
       "      <td>418</td>\n",
       "      <td>14</td>\n",
       "      <td>10</td>\n",
       "    </tr>\n",
       "    <tr>\n",
       "      <th>103728</th>\n",
       "      <td>992</td>\n",
       "      <td>149</td>\n",
       "      <td>9</td>\n",
       "    </tr>\n",
       "  </tbody>\n",
       "</table>\n",
       "<p>83964 rows × 3 columns</p>\n",
       "</div>"
      ],
      "text/plain": [
       "        user_id  anime_id  rating\n",
       "49219       463      3777       7\n",
       "94597       861       506       9\n",
       "34307       318      1997       7\n",
       "59130       552      1948       8\n",
       "64556       588        39       9\n",
       "...         ...       ...     ...\n",
       "10061       104      1012       9\n",
       "33062       307       599       9\n",
       "59421       558      1602      10\n",
       "44708       418        14      10\n",
       "103728      992       149       9\n",
       "\n",
       "[83964 rows x 3 columns]"
      ]
     },
     "execution_count": 3,
     "metadata": {},
     "output_type": "execute_result"
    }
   ],
   "source": [
    "train_df"
   ]
  },
  {
   "cell_type": "markdown",
   "id": "bb1b7cf7",
   "metadata": {},
   "source": [
    "Definimos los parámetros para la factorización matricial mediante PMF."
   ]
  },
  {
   "cell_type": "markdown",
   "id": "b02d213e",
   "metadata": {},
   "source": [
    "Hemos probado con distintos num_factores y no hay mucha diferencia entre 5, 7, 10, 16 y 32. Lo mismo con Regularization y Learning Rate, probamos distintos parámetros y el cambio era mínimo."
   ]
  },
  {
   "cell_type": "code",
   "execution_count": 4,
   "id": "5485e206",
   "metadata": {},
   "outputs": [],
   "source": [
    "NUM_FACTORS = 2       # Número de factores latentes.\n",
    "LEARNING_RATE = 0.001 # Tasa de aprendizaje (gamma).\n",
    "REGULARIZATION = 0.01  # Parámetro de regularización(lambda).\n",
    "NUM_ITERATIONS = 100   # Número de iteraciones en el proceso de entrenamiento."
   ]
  },
  {
   "cell_type": "code",
   "execution_count": 5,
   "id": "0723c0c5",
   "metadata": {},
   "outputs": [],
   "source": [
    "def compute_biased_prediction (avg, b_u, b_i, p_u, q_i):\n",
    "  deviation = 0\n",
    "  for k in range(NUM_FACTORS):\n",
    "    deviation += p_u[k] * q_i[k]\n",
    "\n",
    "  prediction = avg + b_u + b_i + deviation\n",
    "  return prediction"
   ]
  },
  {
   "cell_type": "markdown",
   "id": "987d124e",
   "metadata": {},
   "source": [
    "Ahora vamos a inicializar las matrices de factores.\n",
    "\n",
    "- `p` es la matriz de factores de los usuarios.\n",
    "- `q` es la matriz de factores de los animes (los items).\n",
    "\n",
    "Y también los vectores de bias.\n",
    "\n",
    "- `bu` es el bias del usuario u.\n",
    "- `ba` es el bias del anime a."
   ]
  },
  {
   "cell_type": "code",
   "execution_count": 6,
   "id": "835210af",
   "metadata": {},
   "outputs": [],
   "source": [
    "p = [[random.random() for _ in range(NUM_FACTORS)] for _ in range(NUM_USERS)]\n",
    "q = [[random.random() for _ in range(NUM_FACTORS)] for _ in range(NUM_ANIMES)]\n",
    "\n",
    "bu = [random.random() for _ in range(NUM_USERS)]\n",
    "bi = [random.random() for _ in range(NUM_ANIMES)]"
   ]
  },
  {
   "cell_type": "markdown",
   "id": "3a64ee5c",
   "metadata": {},
   "source": [
    "Calculamos el voto medio."
   ]
  },
  {
   "cell_type": "code",
   "execution_count": 7,
   "id": "b6fd1ed0",
   "metadata": {},
   "outputs": [],
   "source": [
    "rating_average = 0\n",
    "rating_count = 0\n",
    "\n",
    "for u in range(NUM_USERS):\n",
    "  for i in range(NUM_ANIMES):\n",
    "    if ratings_train_matrix[u][i] != None:\n",
    "      rating_average += ratings_train_matrix[u][i]\n",
    "      rating_count += 1\n",
    "\n",
    "rating_average /= rating_count"
   ]
  },
  {
   "cell_type": "markdown",
   "id": "98305b2a",
   "metadata": {},
   "source": [
    "Ahora entrenamos nuestro modelo."
   ]
  },
  {
   "cell_type": "code",
   "execution_count": null,
   "id": "04bc6e65",
   "metadata": {},
   "outputs": [],
   "source": [
    "for it in range(NUM_ITERATIONS):\n",
    "  print(\"Iteración \" + str(it + 1) + \" de \" + str(NUM_ITERATIONS))\n",
    "\n",
    "  updated_p = list(p) # clone p matrix\n",
    "  updated_q = list(q) # clone q matrix\n",
    "\n",
    "  updated_bu = list(bu) # clone bu vector\n",
    "  updated_bi = list(bi) # clone bi vector\n",
    "\n",
    "  for u in range(NUM_USERS):\n",
    "    for i in range(NUM_ANIMES):\n",
    "      if ratings_train_matrix[u][i] != None:\n",
    "\n",
    "        prediction = compute_biased_prediction(rating_average, bu[u], bi[i], p[u], q[i])\n",
    "        rating = ratings_train_matrix[u][i]\n",
    "        error = rating - prediction\n",
    "\n",
    "        for k in range(NUM_FACTORS):\n",
    "          updated_p[u][k] += LEARNING_RATE * (error * q[i][k] - REGULARIZATION * p[u][k])\n",
    "          updated_q[i][k] += LEARNING_RATE * (error * p[u][k] - REGULARIZATION * q[i][k])\n",
    "\n",
    "        updated_bu[u] += LEARNING_RATE * (error - REGULARIZATION * bu[u])\n",
    "        updated_bi[i] += LEARNING_RATE * (error - REGULARIZATION * bi[i])\n",
    "\n",
    "\n",
    "  p = updated_p\n",
    "  q = updated_q\n",
    "\n",
    "  bu = updated_bu\n",
    "  bi = updated_bi"
   ]
  },
  {
   "cell_type": "markdown",
   "id": "f52e34eb",
   "metadata": {},
   "source": [
    "Calculamos las predicciones para todos los items que haya recibido una votación de test:"
   ]
  },
  {
   "cell_type": "code",
   "execution_count": null,
   "id": "1fbb50d6",
   "metadata": {},
   "outputs": [],
   "source": [
    "predictions = [[None for _ in range(NUM_ANIMES)] for _ in range(NUM_USERS)]\n",
    "\n",
    "for u in range(NUM_USERS):\n",
    "  for i in range(NUM_ANIMES):\n",
    "    if ratings_test_matrix[u][i] != None:\n",
    "      predictions[u][i] = compute_biased_prediction(rating_average, bu[u], bi[i], p[u], q[i])"
   ]
  },
  {
   "cell_type": "markdown",
   "id": "fdb52f2b",
   "metadata": {},
   "source": [
    "Obtenemos las métricas."
   ]
  },
  {
   "cell_type": "code",
   "execution_count": null,
   "id": "1c4a4480",
   "metadata": {},
   "outputs": [
    {
     "name": "stdout",
     "output_type": "stream",
     "text": [
      "MAE =  0.9246024329416812\n",
      "RMSE =  1.1537824555524556\n",
      "Precision =  0.9221297619047587\n",
      "Recall =  0.5682123876346582\n",
      "F1 =  0.6521459897901318\n"
     ]
    }
   ],
   "source": [
    "# 100 K RATINGS ENTRENAMIENTO\n",
    "# 40 ANIMES MIN Y 40 USUARIOS MIN\n",
    "# 10 RECOMENDACIONES THETA = 7\n",
    "\n",
    "get_metricas(ratings_test_matrix, NUM_ANIMES, NUM_USERS,\n",
    "             predictions, 7, 10)"
   ]
  },
  {
   "cell_type": "code",
   "execution_count": null,
   "id": "18e5f839",
   "metadata": {},
   "outputs": [
    {
     "name": "stdout",
     "output_type": "stream",
     "text": [
      "MAE =  0.9246024329416812\n",
      "RMSE =  1.1537824555524556\n",
      "Precision =  0.9466666666666643\n",
      "Recall =  0.3096209621479688\n",
      "F1 =  0.43566036224052956\n"
     ]
    }
   ],
   "source": [
    "# 100 K RATINGS ENTRENAMIENTO\n",
    "# 40 ANIMES MIN Y 40 USUARIOS MIN\n",
    "# 5 RECOMENDACIONES THETA = 7\n",
    "\n",
    "get_metricas(ratings_test_matrix, NUM_ANIMES, NUM_USERS,\n",
    "             predictions, 7, 5)"
   ]
  },
  {
   "cell_type": "code",
   "execution_count": 72,
   "id": "70c51d2c",
   "metadata": {},
   "outputs": [
    {
     "name": "stdout",
     "output_type": "stream",
     "text": [
      "MAE =  0.983056802860995\n",
      "RMSE =  1.2002274211754953\n",
      "Precision =  0.9281781781781763\n",
      "Recall =  0.5270781034745438\n",
      "F1 =  0.6004834368749785\n"
     ]
    }
   ],
   "source": [
    "# 100K RATINGS ENTRENAMIENTO\n",
    "# 5 ANIMES MIN Y 5 USUARIOS MIN\n",
    "get_metricas(ratings_test_matrix, NUM_ANIMES, NUM_USERS,\n",
    "             predictions, 7, 5)"
   ]
  },
  {
   "cell_type": "markdown",
   "id": "aa62c69c",
   "metadata": {},
   "source": [
    "Vemos que este método logra una gran precisión en general."
   ]
  },
  {
   "cell_type": "markdown",
   "id": "a1a33f02",
   "metadata": {},
   "source": [
    "# El mejor modelo:"
   ]
  },
  {
   "cell_type": "code",
   "execution_count": 71,
   "id": "bf6e5348",
   "metadata": {},
   "outputs": [
    {
     "name": "stdout",
     "output_type": "stream",
     "text": [
      "MAE =  0.983056802860995\n",
      "RMSE =  1.2002274211754953\n",
      "Precision =  0.9141645613867814\n",
      "Recall =  0.713685245626937\n",
      "F1 =  0.7507595686567121\n"
     ]
    }
   ],
   "source": [
    "# 100K RATINGS ENTRENAMIENTO\n",
    "# 5 ANIMES MIN Y 5 USUARIOS MIN\n",
    "get_metricas(ratings_test_matrix, NUM_ANIMES, NUM_USERS,\n",
    "             predictions, 7, 10)"
   ]
  }
 ],
 "metadata": {
  "kernelspec": {
   "display_name": "Python 3",
   "language": "python",
   "name": "python3"
  },
  "language_info": {
   "codemirror_mode": {
    "name": "ipython",
    "version": 3
   },
   "file_extension": ".py",
   "mimetype": "text/x-python",
   "name": "python",
   "nbconvert_exporter": "python",
   "pygments_lexer": "ipython3",
   "version": "3.12.5"
  }
 },
 "nbformat": 4,
 "nbformat_minor": 5
}
