{
 "cells": [
  {
   "cell_type": "code",
   "execution_count": 25,
   "id": "9a06fff5",
   "metadata": {},
   "outputs": [],
   "source": [
    "import urllib.request\n",
    "\n",
    "import math\n",
    "import numpy as np\n",
    "\n",
    "from keras.models import Model\n",
    "from keras.layers import Embedding, Flatten, Input, Dense, Concatenate, Dot\n",
    "\n",
    "from funciones import preprocesar_dataframe_animes\n",
    "np.random.seed = 42"
   ]
  },
  {
   "cell_type": "code",
   "execution_count": 26,
   "id": "7ce3962a",
   "metadata": {},
   "outputs": [],
   "source": [
    "(train_df, test_df, \n",
    " ratings_train_matrix, ratings_test_matrix,\n",
    " NUM_USERS, NUM_ANIMES, MIN_RATING, MAX_RATING, SCORES) = \\\n",
    "    preprocesar_dataframe_animes(\n",
    "    dataframe_path='csv/rating.csv',\n",
    "    n_user_ratings=5,\n",
    "    n_anime_ratings=5,\n",
    "    num_users=1000,\n",
    "    test_size=0.2, \n",
    "    RANDOM_STATE=42 \n",
    "    )"
   ]
  },
  {
   "cell_type": "code",
   "execution_count": null,
   "id": "740d63bc",
   "metadata": {},
   "outputs": [],
   "source": []
  },
  {
   "cell_type": "markdown",
   "id": "d582cec1",
   "metadata": {},
   "source": [
    "Cargamos los votos de entrenamiento. La carga de estos datos, por imposición de `keras` no se hace en una matriz como en los modelos de factorización matricial. Se generan dos *arrays* con los códigos de los usuarios y los ítems y un tercer *array* con las votaciones:"
   ]
  },
  {
   "cell_type": "code",
   "execution_count": 27,
   "id": "c91b2912",
   "metadata": {},
   "outputs": [],
   "source": [
    "X_train = [np.array([], dtype=int), np.array([], dtype=int)]\n",
    "y_train = np.array([], dtype=int)"
   ]
  },
  {
   "cell_type": "code",
   "execution_count": 28,
   "id": "6a2f7d6e",
   "metadata": {},
   "outputs": [],
   "source": [
    "for u in range(NUM_USERS):\n",
    "  for i in range(NUM_ANIMES):\n",
    "    if ratings_train_matrix[u][i] != None:\n",
    "        X_train[0] = np.append(X_train[0], int(u))\n",
    "        X_train[1] = np.append(X_train[1], int(i))\n",
    "        y_train = np.append(y_train, int(ratings_train_matrix[u][i]))"
   ]
  },
  {
   "cell_type": "markdown",
   "id": "33933394",
   "metadata": {},
   "source": [
    "Cargamos también los votos de test del mismo modo:"
   ]
  },
  {
   "cell_type": "code",
   "execution_count": 29,
   "id": "02d6f891",
   "metadata": {},
   "outputs": [],
   "source": [
    "X_test = [np.array([], dtype=int), np.array([], dtype=int)]\n",
    "y_test = np.array([], dtype=int)\n",
    "\n",
    "for u in range(NUM_USERS):\n",
    "  for i in range(NUM_ANIMES):\n",
    "    if ratings_test_matrix[u][i] != None:\n",
    "        X_test[0] = np.append(X_test[0], int(u))\n",
    "        X_test[1] = np.append(X_test[1], int(i))\n",
    "        y_test = np.append(y_test, int(ratings_test_matrix[u][i]))"
   ]
  },
  {
   "cell_type": "markdown",
   "id": "21ac6d18",
   "metadata": {},
   "source": [
    "Los hiper-parámetros de nuestro modelo serán el número de factores latentes (`latent_dim`) y el número de iteraciones del entrenamiento (`epochs`)."
   ]
  },
  {
   "cell_type": "code",
   "execution_count": 30,
   "id": "d6d70007",
   "metadata": {},
   "outputs": [],
   "source": [
    "latent_dim = 7\n",
    "epochs = 5"
   ]
  },
  {
   "cell_type": "markdown",
   "id": "566315da",
   "metadata": {},
   "source": [
    "Definimos la arquitectura, en este caso con tres capas densas para el MLP .\n",
    "\n"
   ]
  },
  {
   "cell_type": "code",
   "execution_count": null,
   "id": "3850c2ca",
   "metadata": {},
   "outputs": [],
   "source": [
    "user_input = Input(shape=[1])\n",
    "user_embedding = Embedding(NUM_USERS, latent_dim)(user_input)\n",
    "user_vec = Flatten()(user_embedding)\n",
    "\n",
    "item_input = Input(shape=[1])\n",
    "item_embedding = Embedding(NUM_ANIMES, latent_dim)(item_input)\n",
    "item_vec = Flatten()(item_embedding)\n",
    "\n",
    "concat = Concatenate(axis=1)([user_vec, item_vec])\n",
    "d1 = Dense(32, activation='relu')(concat)\n",
    "d2 = Dense(16, activation='relu')(d1)\n",
    "d3 = Dense(8, activation='relu')(d2)\n",
    "output = Dense(1, activation='relu')(d3)\n",
    "\n",
    "MLP = Model([user_input, item_input], output)"
   ]
  },
  {
   "cell_type": "code",
   "execution_count": 48,
   "id": "aa75fd25",
   "metadata": {},
   "outputs": [
    {
     "data": {
      "text/html": [
       "<pre style=\"white-space:pre;overflow-x:auto;line-height:normal;font-family:Menlo,'DejaVu Sans Mono',consolas,'Courier New',monospace\"><span style=\"font-weight: bold\">Model: \"functional_7\"</span>\n",
       "</pre>\n"
      ],
      "text/plain": [
       "\u001b[1mModel: \"functional_7\"\u001b[0m\n"
      ]
     },
     "metadata": {},
     "output_type": "display_data"
    },
    {
     "data": {
      "text/html": [
       "<pre style=\"white-space:pre;overflow-x:auto;line-height:normal;font-family:Menlo,'DejaVu Sans Mono',consolas,'Courier New',monospace\">┏━━━━━━━━━━━━━━━━━━━━━┳━━━━━━━━━━━━━━━━━━━┳━━━━━━━━━━━━┳━━━━━━━━━━━━━━━━━━━┓\n",
       "┃<span style=\"font-weight: bold\"> Layer (type)        </span>┃<span style=\"font-weight: bold\"> Output Shape      </span>┃<span style=\"font-weight: bold\">    Param # </span>┃<span style=\"font-weight: bold\"> Connected to      </span>┃\n",
       "┡━━━━━━━━━━━━━━━━━━━━━╇━━━━━━━━━━━━━━━━━━━╇━━━━━━━━━━━━╇━━━━━━━━━━━━━━━━━━━┩\n",
       "│ input_layer_14      │ (<span style=\"color: #00d7ff; text-decoration-color: #00d7ff\">None</span>, <span style=\"color: #00af00; text-decoration-color: #00af00\">1</span>)         │          <span style=\"color: #00af00; text-decoration-color: #00af00\">0</span> │ -                 │\n",
       "│ (<span style=\"color: #0087ff; text-decoration-color: #0087ff\">InputLayer</span>)        │                   │            │                   │\n",
       "├─────────────────────┼───────────────────┼────────────┼───────────────────┤\n",
       "│ input_layer_15      │ (<span style=\"color: #00d7ff; text-decoration-color: #00d7ff\">None</span>, <span style=\"color: #00af00; text-decoration-color: #00af00\">1</span>)         │          <span style=\"color: #00af00; text-decoration-color: #00af00\">0</span> │ -                 │\n",
       "│ (<span style=\"color: #0087ff; text-decoration-color: #0087ff\">InputLayer</span>)        │                   │            │                   │\n",
       "├─────────────────────┼───────────────────┼────────────┼───────────────────┤\n",
       "│ embedding_14        │ (<span style=\"color: #00d7ff; text-decoration-color: #00d7ff\">None</span>, <span style=\"color: #00af00; text-decoration-color: #00af00\">1</span>, <span style=\"color: #00af00; text-decoration-color: #00af00\">7</span>)      │      <span style=\"color: #00af00; text-decoration-color: #00af00\">7,000</span> │ input_layer_14[<span style=\"color: #00af00; text-decoration-color: #00af00\">0</span>… │\n",
       "│ (<span style=\"color: #0087ff; text-decoration-color: #0087ff\">Embedding</span>)         │                   │            │                   │\n",
       "├─────────────────────┼───────────────────┼────────────┼───────────────────┤\n",
       "│ embedding_15        │ (<span style=\"color: #00d7ff; text-decoration-color: #00d7ff\">None</span>, <span style=\"color: #00af00; text-decoration-color: #00af00\">1</span>, <span style=\"color: #00af00; text-decoration-color: #00af00\">7</span>)      │     <span style=\"color: #00af00; text-decoration-color: #00af00\">24,346</span> │ input_layer_15[<span style=\"color: #00af00; text-decoration-color: #00af00\">0</span>… │\n",
       "│ (<span style=\"color: #0087ff; text-decoration-color: #0087ff\">Embedding</span>)         │                   │            │                   │\n",
       "├─────────────────────┼───────────────────┼────────────┼───────────────────┤\n",
       "│ flatten_14          │ (<span style=\"color: #00d7ff; text-decoration-color: #00d7ff\">None</span>, <span style=\"color: #00af00; text-decoration-color: #00af00\">7</span>)         │          <span style=\"color: #00af00; text-decoration-color: #00af00\">0</span> │ embedding_14[<span style=\"color: #00af00; text-decoration-color: #00af00\">0</span>][<span style=\"color: #00af00; text-decoration-color: #00af00\">…</span> │\n",
       "│ (<span style=\"color: #0087ff; text-decoration-color: #0087ff\">Flatten</span>)           │                   │            │                   │\n",
       "├─────────────────────┼───────────────────┼────────────┼───────────────────┤\n",
       "│ flatten_15          │ (<span style=\"color: #00d7ff; text-decoration-color: #00d7ff\">None</span>, <span style=\"color: #00af00; text-decoration-color: #00af00\">7</span>)         │          <span style=\"color: #00af00; text-decoration-color: #00af00\">0</span> │ embedding_15[<span style=\"color: #00af00; text-decoration-color: #00af00\">0</span>][<span style=\"color: #00af00; text-decoration-color: #00af00\">…</span> │\n",
       "│ (<span style=\"color: #0087ff; text-decoration-color: #0087ff\">Flatten</span>)           │                   │            │                   │\n",
       "├─────────────────────┼───────────────────┼────────────┼───────────────────┤\n",
       "│ concatenate_7       │ (<span style=\"color: #00d7ff; text-decoration-color: #00d7ff\">None</span>, <span style=\"color: #00af00; text-decoration-color: #00af00\">14</span>)        │          <span style=\"color: #00af00; text-decoration-color: #00af00\">0</span> │ flatten_14[<span style=\"color: #00af00; text-decoration-color: #00af00\">0</span>][<span style=\"color: #00af00; text-decoration-color: #00af00\">0</span>], │\n",
       "│ (<span style=\"color: #0087ff; text-decoration-color: #0087ff\">Concatenate</span>)       │                   │            │ flatten_15[<span style=\"color: #00af00; text-decoration-color: #00af00\">0</span>][<span style=\"color: #00af00; text-decoration-color: #00af00\">0</span>]  │\n",
       "├─────────────────────┼───────────────────┼────────────┼───────────────────┤\n",
       "│ dense_34 (<span style=\"color: #0087ff; text-decoration-color: #0087ff\">Dense</span>)    │ (<span style=\"color: #00d7ff; text-decoration-color: #00d7ff\">None</span>, <span style=\"color: #00af00; text-decoration-color: #00af00\">10</span>)        │        <span style=\"color: #00af00; text-decoration-color: #00af00\">150</span> │ concatenate_7[<span style=\"color: #00af00; text-decoration-color: #00af00\">0</span>]… │\n",
       "├─────────────────────┼───────────────────┼────────────┼───────────────────┤\n",
       "│ dense_35 (<span style=\"color: #0087ff; text-decoration-color: #0087ff\">Dense</span>)    │ (<span style=\"color: #00d7ff; text-decoration-color: #00d7ff\">None</span>, <span style=\"color: #00af00; text-decoration-color: #00af00\">1</span>)         │         <span style=\"color: #00af00; text-decoration-color: #00af00\">11</span> │ dense_34[<span style=\"color: #00af00; text-decoration-color: #00af00\">0</span>][<span style=\"color: #00af00; text-decoration-color: #00af00\">0</span>]    │\n",
       "└─────────────────────┴───────────────────┴────────────┴───────────────────┘\n",
       "</pre>\n"
      ],
      "text/plain": [
       "┏━━━━━━━━━━━━━━━━━━━━━┳━━━━━━━━━━━━━━━━━━━┳━━━━━━━━━━━━┳━━━━━━━━━━━━━━━━━━━┓\n",
       "┃\u001b[1m \u001b[0m\u001b[1mLayer (type)       \u001b[0m\u001b[1m \u001b[0m┃\u001b[1m \u001b[0m\u001b[1mOutput Shape     \u001b[0m\u001b[1m \u001b[0m┃\u001b[1m \u001b[0m\u001b[1m   Param #\u001b[0m\u001b[1m \u001b[0m┃\u001b[1m \u001b[0m\u001b[1mConnected to     \u001b[0m\u001b[1m \u001b[0m┃\n",
       "┡━━━━━━━━━━━━━━━━━━━━━╇━━━━━━━━━━━━━━━━━━━╇━━━━━━━━━━━━╇━━━━━━━━━━━━━━━━━━━┩\n",
       "│ input_layer_14      │ (\u001b[38;5;45mNone\u001b[0m, \u001b[38;5;34m1\u001b[0m)         │          \u001b[38;5;34m0\u001b[0m │ -                 │\n",
       "│ (\u001b[38;5;33mInputLayer\u001b[0m)        │                   │            │                   │\n",
       "├─────────────────────┼───────────────────┼────────────┼───────────────────┤\n",
       "│ input_layer_15      │ (\u001b[38;5;45mNone\u001b[0m, \u001b[38;5;34m1\u001b[0m)         │          \u001b[38;5;34m0\u001b[0m │ -                 │\n",
       "│ (\u001b[38;5;33mInputLayer\u001b[0m)        │                   │            │                   │\n",
       "├─────────────────────┼───────────────────┼────────────┼───────────────────┤\n",
       "│ embedding_14        │ (\u001b[38;5;45mNone\u001b[0m, \u001b[38;5;34m1\u001b[0m, \u001b[38;5;34m7\u001b[0m)      │      \u001b[38;5;34m7,000\u001b[0m │ input_layer_14[\u001b[38;5;34m0\u001b[0m… │\n",
       "│ (\u001b[38;5;33mEmbedding\u001b[0m)         │                   │            │                   │\n",
       "├─────────────────────┼───────────────────┼────────────┼───────────────────┤\n",
       "│ embedding_15        │ (\u001b[38;5;45mNone\u001b[0m, \u001b[38;5;34m1\u001b[0m, \u001b[38;5;34m7\u001b[0m)      │     \u001b[38;5;34m24,346\u001b[0m │ input_layer_15[\u001b[38;5;34m0\u001b[0m… │\n",
       "│ (\u001b[38;5;33mEmbedding\u001b[0m)         │                   │            │                   │\n",
       "├─────────────────────┼───────────────────┼────────────┼───────────────────┤\n",
       "│ flatten_14          │ (\u001b[38;5;45mNone\u001b[0m, \u001b[38;5;34m7\u001b[0m)         │          \u001b[38;5;34m0\u001b[0m │ embedding_14[\u001b[38;5;34m0\u001b[0m][\u001b[38;5;34m…\u001b[0m │\n",
       "│ (\u001b[38;5;33mFlatten\u001b[0m)           │                   │            │                   │\n",
       "├─────────────────────┼───────────────────┼────────────┼───────────────────┤\n",
       "│ flatten_15          │ (\u001b[38;5;45mNone\u001b[0m, \u001b[38;5;34m7\u001b[0m)         │          \u001b[38;5;34m0\u001b[0m │ embedding_15[\u001b[38;5;34m0\u001b[0m][\u001b[38;5;34m…\u001b[0m │\n",
       "│ (\u001b[38;5;33mFlatten\u001b[0m)           │                   │            │                   │\n",
       "├─────────────────────┼───────────────────┼────────────┼───────────────────┤\n",
       "│ concatenate_7       │ (\u001b[38;5;45mNone\u001b[0m, \u001b[38;5;34m14\u001b[0m)        │          \u001b[38;5;34m0\u001b[0m │ flatten_14[\u001b[38;5;34m0\u001b[0m][\u001b[38;5;34m0\u001b[0m], │\n",
       "│ (\u001b[38;5;33mConcatenate\u001b[0m)       │                   │            │ flatten_15[\u001b[38;5;34m0\u001b[0m][\u001b[38;5;34m0\u001b[0m]  │\n",
       "├─────────────────────┼───────────────────┼────────────┼───────────────────┤\n",
       "│ dense_34 (\u001b[38;5;33mDense\u001b[0m)    │ (\u001b[38;5;45mNone\u001b[0m, \u001b[38;5;34m10\u001b[0m)        │        \u001b[38;5;34m150\u001b[0m │ concatenate_7[\u001b[38;5;34m0\u001b[0m]… │\n",
       "├─────────────────────┼───────────────────┼────────────┼───────────────────┤\n",
       "│ dense_35 (\u001b[38;5;33mDense\u001b[0m)    │ (\u001b[38;5;45mNone\u001b[0m, \u001b[38;5;34m1\u001b[0m)         │         \u001b[38;5;34m11\u001b[0m │ dense_34[\u001b[38;5;34m0\u001b[0m][\u001b[38;5;34m0\u001b[0m]    │\n",
       "└─────────────────────┴───────────────────┴────────────┴───────────────────┘\n"
      ]
     },
     "metadata": {},
     "output_type": "display_data"
    },
    {
     "data": {
      "text/html": [
       "<pre style=\"white-space:pre;overflow-x:auto;line-height:normal;font-family:Menlo,'DejaVu Sans Mono',consolas,'Courier New',monospace\"><span style=\"font-weight: bold\"> Total params: </span><span style=\"color: #00af00; text-decoration-color: #00af00\">31,507</span> (123.07 KB)\n",
       "</pre>\n"
      ],
      "text/plain": [
       "\u001b[1m Total params: \u001b[0m\u001b[38;5;34m31,507\u001b[0m (123.07 KB)\n"
      ]
     },
     "metadata": {},
     "output_type": "display_data"
    },
    {
     "data": {
      "text/html": [
       "<pre style=\"white-space:pre;overflow-x:auto;line-height:normal;font-family:Menlo,'DejaVu Sans Mono',consolas,'Courier New',monospace\"><span style=\"font-weight: bold\"> Trainable params: </span><span style=\"color: #00af00; text-decoration-color: #00af00\">31,507</span> (123.07 KB)\n",
       "</pre>\n"
      ],
      "text/plain": [
       "\u001b[1m Trainable params: \u001b[0m\u001b[38;5;34m31,507\u001b[0m (123.07 KB)\n"
      ]
     },
     "metadata": {},
     "output_type": "display_data"
    },
    {
     "data": {
      "text/html": [
       "<pre style=\"white-space:pre;overflow-x:auto;line-height:normal;font-family:Menlo,'DejaVu Sans Mono',consolas,'Courier New',monospace\"><span style=\"font-weight: bold\"> Non-trainable params: </span><span style=\"color: #00af00; text-decoration-color: #00af00\">0</span> (0.00 B)\n",
       "</pre>\n"
      ],
      "text/plain": [
       "\u001b[1m Non-trainable params: \u001b[0m\u001b[38;5;34m0\u001b[0m (0.00 B)\n"
      ]
     },
     "metadata": {},
     "output_type": "display_data"
    },
    {
     "name": "stdout",
     "output_type": "stream",
     "text": [
      "Epoch 1/5\n",
      "\u001b[1m2528/2528\u001b[0m \u001b[32m━━━━━━━━━━━━━━━━━━━━\u001b[0m\u001b[37m\u001b[0m \u001b[1m4s\u001b[0m 1ms/step - loss: 22.3062 - mae: 3.5645\n",
      "Epoch 2/5\n",
      "\u001b[1m2528/2528\u001b[0m \u001b[32m━━━━━━━━━━━━━━━━━━━━\u001b[0m\u001b[37m\u001b[0m \u001b[1m4s\u001b[0m 1ms/step - loss: 1.4517 - mae: 0.9212\n",
      "Epoch 3/5\n",
      "\u001b[1m2528/2528\u001b[0m \u001b[32m━━━━━━━━━━━━━━━━━━━━\u001b[0m\u001b[37m\u001b[0m \u001b[1m4s\u001b[0m 1ms/step - loss: 1.4206 - mae: 0.9101\n",
      "Epoch 4/5\n",
      "\u001b[1m2528/2528\u001b[0m \u001b[32m━━━━━━━━━━━━━━━━━━━━\u001b[0m\u001b[37m\u001b[0m \u001b[1m3s\u001b[0m 1ms/step - loss: 1.3793 - mae: 0.8955\n",
      "Epoch 5/5\n",
      "\u001b[1m2528/2528\u001b[0m \u001b[32m━━━━━━━━━━━━━━━━━━━━\u001b[0m\u001b[37m\u001b[0m \u001b[1m3s\u001b[0m 1ms/step - loss: 1.3664 - mae: 0.8914\n"
     ]
    },
    {
     "data": {
      "text/plain": [
       "<keras.src.callbacks.history.History at 0x1b9c6afa4b0>"
      ]
     },
     "execution_count": 48,
     "metadata": {},
     "output_type": "execute_result"
    }
   ],
   "source": [
    "MLP.compile(optimizer='adam', metrics=['mae'], loss='mean_squared_error')\n",
    "MLP.summary()\n",
    "MLP.fit(X_train, y_train, epochs=epochs, verbose=1)"
   ]
  },
  {
   "cell_type": "code",
   "execution_count": 42,
   "id": "e5a4c6dd",
   "metadata": {},
   "outputs": [
    {
     "name": "stdout",
     "output_type": "stream",
     "text": [
      "\u001b[1m632/632\u001b[0m \u001b[32m━━━━━━━━━━━━━━━━━━━━\u001b[0m\u001b[37m\u001b[0m \u001b[1m1s\u001b[0m 1ms/step\n"
     ]
    },
    {
     "data": {
      "text/plain": [
       "array([[9],\n",
       "       [9],\n",
       "       [9],\n",
       "       ...,\n",
       "       [6],\n",
       "       [6],\n",
       "       [6]])"
      ]
     },
     "execution_count": 42,
     "metadata": {},
     "output_type": "execute_result"
    }
   ],
   "source": [
    "y_pred = MLP.predict(X_test)\n",
    "\n",
    "y_pred = np.clip(y_pred, MIN_RATING, MAX_RATING)\n",
    "y_pred = np.round(y_pred).astype(int)\n",
    "y_pred"
   ]
  },
  {
   "cell_type": "code",
   "execution_count": 44,
   "id": "c1f80467",
   "metadata": {},
   "outputs": [
    {
     "name": "stdout",
     "output_type": "stream",
     "text": [
      "Mean Absolute Error 0.9111342145650775\n",
      "Mean Squared Error 1.5529481657507798\n",
      "Precision Score: 0.40122167782405976\n",
      "Recall Score: 0.3397692955096787\n",
      "F1 Score: 0.32010929068013444\n"
     ]
    }
   ],
   "source": [
    "# Métricas de clasificación\n",
    "# LATENT DIMS = 7\n",
    "# EPOCHS = 50\n",
    "# LAYERS = 2 (20,10)\n",
    "#     n_user_ratings=5\n",
    "#    n_anime_ratings=5\n",
    "from sklearn.metrics import precision_score, recall_score, f1_score, mean_absolute_error, mean_squared_error\n",
    "\n",
    "print(\"Mean Absolute Error\", mean_absolute_error(y_test, y_pred))\n",
    "print(\"Mean Squared Error\", mean_squared_error(y_test, y_pred))\n",
    "print(\"Precision Score:\", precision_score(y_test, y_pred, average='weighted'))\n",
    "print(\"Recall Score:\", recall_score(y_test, y_pred, average='weighted'))\n",
    "print(\"F1 Score:\", f1_score(y_test, y_pred, average='weighted'))"
   ]
  },
  {
   "cell_type": "code",
   "execution_count": null,
   "id": "94663af5",
   "metadata": {},
   "outputs": [
    {
     "name": "stdout",
     "output_type": "stream",
     "text": [
      "Mean Absolute Error 0.9336942485348168\n",
      "Mean Squared Error 1.7528061984702494\n",
      "Precision Score: 0.36185198349624476\n",
      "Recall Score: 0.35219032482368134\n",
      "F1 Score: 0.3469808118791166\n"
     ]
    }
   ],
   "source": [
    "# Métricas de clasificación\n",
    "# LATENT DIMS = 7\n",
    "# EPOCHS = 50\n",
    "# LAYERS = 2 (20,10)\n",
    "#     n_user_ratings=5\n",
    "#    n_anime_ratings=5\n",
    "from sklearn.metrics import precision_score, recall_score, f1_score, mean_absolute_error, mean_squared_error\n",
    "\n",
    "print(\"Mean Absolute Error\", mean_absolute_error(y_test, y_pred))\n",
    "print(\"Mean Squared Error\", mean_squared_error(y_test, y_pred))\n",
    "print(\"Precision Score:\", precision_score(y_test, y_pred, average='weighted'))\n",
    "print(\"Recall Score:\", recall_score(y_test, y_pred, average='weighted'))\n",
    "print(\"F1 Score:\", f1_score(y_test, y_pred, average='weighted'))"
   ]
  },
  {
   "cell_type": "code",
   "execution_count": null,
   "id": "915bc1fd",
   "metadata": {},
   "outputs": [
    {
     "name": "stdout",
     "output_type": "stream",
     "text": [
      "Mean Absolute Error 0.8696767954773682\n",
      "Mean Squared Error 1.528359430207907\n",
      "Precision Score: 0.39503548763397844\n",
      "Recall Score: 0.37218730241380593\n",
      "F1 Score: 0.3617941294297779\n"
     ]
    }
   ],
   "source": [
    "# Métricas de clasificación\n",
    "# LATENT DIMS = 5\n",
    "# EPOCHS = 10\n",
    "# LAYERS = 2 (20,10)\n",
    "from sklearn.metrics import precision_score, recall_score, f1_score, mean_absolute_error, mean_squared_error\n",
    "\n",
    "print(\"Mean Absolute Error\", mean_absolute_error(y_test, y_pred))\n",
    "print(\"Mean Squared Error\", mean_squared_error(y_test, y_pred))\n",
    "print(\"Precision Score:\", precision_score(y_test, y_pred, average='weighted'))\n",
    "print(\"Recall Score:\", recall_score(y_test, y_pred, average='weighted'))\n",
    "print(\"F1 Score:\", f1_score(y_test, y_pred, average='weighted'))"
   ]
  },
  {
   "cell_type": "code",
   "execution_count": null,
   "id": "a7d79c4d",
   "metadata": {},
   "outputs": [
    {
     "name": "stdout",
     "output_type": "stream",
     "text": [
      "Mean Absolute Error 0.8393892681494531\n",
      "Mean Squared Error 1.4003523452983924\n",
      "Precision Score: 0.4053295391904056\n",
      "Recall Score: 0.37216472142699847\n",
      "F1 Score: 0.36303433669826013\n"
     ]
    },
    {
     "name": "stderr",
     "output_type": "stream",
     "text": [
      "C:\\Users\\jordi\\AppData\\Roaming\\Python\\Python312\\site-packages\\sklearn\\metrics\\_classification.py:1531: UndefinedMetricWarning: Recall is ill-defined and being set to 0.0 in labels with no true samples. Use `zero_division` parameter to control this behavior.\n",
      "  _warn_prf(average, modifier, f\"{metric.capitalize()} is\", len(result))\n"
     ]
    }
   ],
   "source": [
    "# Métricas de clasificación\n",
    "# LATENT DIMS = 5\n",
    "# EPOCHS = 10\n",
    "# LAYERS = 2 (20,10)\n",
    "from sklearn.metrics import precision_score, recall_score, f1_score, mean_absolute_error, mean_squared_error\n",
    "\n",
    "print(\"Mean Absolute Error\", mean_absolute_error(y_test, y_pred))\n",
    "print(\"Mean Squared Error\", mean_squared_error(y_test, y_pred))\n",
    "print(\"Precision Score:\", precision_score(y_test, y_pred, average='weighted'))\n",
    "print(\"Recall Score:\", recall_score(y_test, y_pred, average='weighted'))\n",
    "print(\"F1 Score:\", f1_score(y_test, y_pred, average='weighted'))"
   ]
  },
  {
   "cell_type": "markdown",
   "id": "0e916147",
   "metadata": {},
   "source": [
    "# Al final el mejor modelo ha sido este: \n",
    "\n",
    " - LATENT DIMS = 5\n",
    " - EPOCHS = 10\n",
    " - LAYERS = 3 (32,16,8)"
   ]
  },
  {
   "cell_type": "code",
   "execution_count": null,
   "id": "c7d40741",
   "metadata": {},
   "outputs": [
    {
     "name": "stdout",
     "output_type": "stream",
     "text": [
      "Mean Absolute Error 0.8428760184981282\n",
      "Mean Squared Error 1.40883065404096\n",
      "Precision Score: 0.4065756563743282\n",
      "Recall Score: 0.37209131615650004\n",
      "F1 Score: 0.36495205357786786\n"
     ]
    },
    {
     "name": "stderr",
     "output_type": "stream",
     "text": [
      "C:\\Users\\jordi\\AppData\\Roaming\\Python\\Python312\\site-packages\\sklearn\\metrics\\_classification.py:1531: UndefinedMetricWarning: Precision is ill-defined and being set to 0.0 in labels with no predicted samples. Use `zero_division` parameter to control this behavior.\n",
      "  _warn_prf(average, modifier, f\"{metric.capitalize()} is\", len(result))\n",
      "C:\\Users\\jordi\\AppData\\Roaming\\Python\\Python312\\site-packages\\sklearn\\metrics\\_classification.py:1531: UndefinedMetricWarning: Recall is ill-defined and being set to 0.0 in labels with no true samples. Use `zero_division` parameter to control this behavior.\n",
      "  _warn_prf(average, modifier, f\"{metric.capitalize()} is\", len(result))\n"
     ]
    }
   ],
   "source": [
    "# Métricas de clasificación\n",
    "# LATENT DIMS = 5\n",
    "# EPOCHS = 10\n",
    "# LAYERS = 3 (32,16,8)\n",
    "from sklearn.metrics import precision_score, recall_score, f1_score, mean_absolute_error, mean_squared_error\n",
    "\n",
    "print(\"Mean Absolute Error\", mean_absolute_error(y_test, y_pred))\n",
    "print(\"Mean Squared Error\", mean_squared_error(y_test, y_pred))\n",
    "print(\"Precision Score:\", precision_score(y_test, y_pred, average='weighted'))\n",
    "print(\"Recall Score:\", recall_score(y_test, y_pred, average='weighted'))\n",
    "print(\"F1 Score:\", f1_score(y_test, y_pred, average='weighted'))"
   ]
  },
  {
   "cell_type": "code",
   "execution_count": null,
   "id": "2706861f",
   "metadata": {},
   "outputs": [
    {
     "name": "stdout",
     "output_type": "stream",
     "text": [
      "Average NDCG Score: 0.35265568415735427\n"
     ]
    }
   ],
   "source": [
    "from sklearn.metrics import ndcg_score\n",
    "y_pred_classes = np.argmax(y_pred, axis=1)\n",
    "# Calcular NDCG para cada clase y promediar los resultados\n",
    "ndcg_scores = []\n",
    "for class_label in range(6):\n",
    "    y_test_class = (y_test == class_label).astype(int)\n",
    "    y_pred_class = (y_pred_classes == class_label).astype(int)\n",
    "    ndcg_class = ndcg_score([y_test_class], [y_pred_class])\n",
    "    ndcg_scores.append(ndcg_class)\n",
    "\n",
    "# Calcular el promedio de los NDCG scores para todas las clases\n",
    "average_ndcg = np.mean(ndcg_scores)\n",
    "\n",
    "print(\"Average NDCG Score:\", average_ndcg)"
   ]
  },
  {
   "cell_type": "markdown",
   "id": "42162f48",
   "metadata": {},
   "source": [
    "También hemos probado algunos con más capas pero tampoco cambiaban mucho las cosas."
   ]
  },
  {
   "cell_type": "code",
   "execution_count": null,
   "id": "025e0ce8",
   "metadata": {},
   "outputs": [
    {
     "name": "stdout",
     "output_type": "stream",
     "text": [
      "Mean Absolute Error 0.8568964251633268\n",
      "Mean Squared Error 1.4248330030096161\n",
      "Precision Score: 0.4214430733843706\n",
      "Recall Score: 0.36137414666373047\n",
      "F1 Score: 0.3440499068992255\n"
     ]
    }
   ],
   "source": [
    "# Métricas de clasificación\n",
    "# LATENT DIMS = 5\n",
    "# EPOCHS = 10\n",
    "# LAYERS = 4 (64,32,16,8)\n",
    "from sklearn.metrics import precision_score, recall_score, f1_score, mean_absolute_error, mean_squared_error\n",
    "\n",
    "print(\"Mean Absolute Error\", mean_absolute_error(y_test, y_pred))\n",
    "print(\"Mean Squared Error\", mean_squared_error(y_test, y_pred))\n",
    "print(\"Precision Score:\", precision_score(y_test, y_pred, average='weighted'))\n",
    "print(\"Recall Score:\", recall_score(y_test, y_pred, average='weighted'))\n",
    "print(\"F1 Score:\", f1_score(y_test, y_pred, average='weighted'))"
   ]
  },
  {
   "cell_type": "code",
   "execution_count": null,
   "id": "c102b1b1",
   "metadata": {},
   "outputs": [
    {
     "name": "stdout",
     "output_type": "stream",
     "text": [
      "Mean Absolute Error 0.9120971885781399\n",
      "Mean Squared Error 1.6058504000587241\n",
      "Precision Score: 0.3690601854335305\n",
      "Recall Score: 0.3469500110107906\n",
      "F1 Score: 0.34070124313941613\n"
     ]
    },
    {
     "name": "stderr",
     "output_type": "stream",
     "text": [
      "C:\\Users\\jordi\\AppData\\Roaming\\Python\\Python312\\site-packages\\sklearn\\metrics\\_classification.py:1531: UndefinedMetricWarning: Recall is ill-defined and being set to 0.0 in labels with no true samples. Use `zero_division` parameter to control this behavior.\n",
      "  _warn_prf(average, modifier, f\"{metric.capitalize()} is\", len(result))\n"
     ]
    }
   ],
   "source": [
    "# Métricas de clasificación\n",
    "# LATENT DIMS = 64\n",
    "# EPOCHS = 10\n",
    "# LAYERS = 4 (64,32,16,8)\n",
    "from sklearn.metrics import precision_score, recall_score, f1_score, mean_absolute_error, mean_squared_error\n",
    "\n",
    "print(\"Mean Absolute Error\", mean_absolute_error(y_test, y_pred))\n",
    "print(\"Mean Squared Error\", mean_squared_error(y_test, y_pred))\n",
    "print(\"Precision Score:\", precision_score(y_test, y_pred, average='weighted'))\n",
    "print(\"Recall Score:\", recall_score(y_test, y_pred, average='weighted'))\n",
    "print(\"F1 Score:\", f1_score(y_test, y_pred, average='weighted'))"
   ]
  }
 ],
 "metadata": {
  "kernelspec": {
   "display_name": "Python 3",
   "language": "python",
   "name": "python3"
  },
  "language_info": {
   "codemirror_mode": {
    "name": "ipython",
    "version": 3
   },
   "file_extension": ".py",
   "mimetype": "text/x-python",
   "name": "python",
   "nbconvert_exporter": "python",
   "pygments_lexer": "ipython3",
   "version": "3.12.5"
  }
 },
 "nbformat": 4,
 "nbformat_minor": 5
}
