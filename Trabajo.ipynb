{
  "cells": [
    {
      "cell_type": "markdown",
      "metadata": {
        "id": "UqAgX2XO9zIp"
      },
      "source": [
        "# 0. IMPORTACIONES Y CONFIGURACIÓN INICIAL"
      ]
    },
    {
      "cell_type": "code",
      "execution_count": 232,
      "metadata": {
        "colab": {
          "base_uri": "https://localhost:8080/",
          "height": 34
        },
        "id": "oyM8zuGM35Zq",
        "outputId": "2b81acb0-8807-464b-fdf2-01a05bac8199"
      },
      "outputs": [],
      "source": [
        "import pandas as pd\n",
        "import numpy as np\n",
        "import math\n",
        "import random\n",
        "import time\n",
        "from collections import defaultdict\n",
        "\n",
        "# Machine Learning y Recommender Systems\n",
        "from sklearn.model_selection import train_test_split\n",
        "from sklearn.metrics import mean_absolute_error, mean_squared_error\n",
        "from keras.models import Model\n",
        "from keras.layers import Embedding, Flatten, Input, Dense, Concatenate, Dot\n",
        "from keras.optimizers import Adam\n",
        "\n",
        "# Visualización (opcional, pero útil para el póster)\n",
        "import matplotlib.pyplot as plt\n",
        "import seaborn as sns\n",
        "\n",
        "# Configuraciones\n",
        "plt.style.use('seaborn-v0_8-whitegrid') # Estilo para los gráficos\n",
        "RANDOM_STATE = 42\n",
        "np.random.seed(RANDOM_STATE)\n",
        "random.seed(RANDOM_STATE)"
      ]
    },
    {
      "cell_type": "code",
      "execution_count": 233,
      "metadata": {},
      "outputs": [],
      "source": [
        "pd.options.display.max_columns = False"
      ]
    },
    {
      "cell_type": "markdown",
      "metadata": {
        "id": "zTqvSdDV9ooH"
      },
      "source": [
        "\n",
        "# PREPROCESAMIENTO DEL DATASET DE ANIME\n"
      ]
    },
    {
      "cell_type": "code",
      "execution_count": 234,
      "metadata": {
        "colab": {
          "base_uri": "https://localhost:8080/"
        },
        "id": "W2U-vckh7Vwq",
        "outputId": "16624a6e-5b4c-496d-d592-153be6d0f573"
      },
      "outputs": [],
      "source": [
        "df_ratings = pd.read_csv('csv/rating.csv', encoding='utf8')\n",
        "df_titles = pd.read_csv('csv/anime.csv', encoding='utf8')"
      ]
    },
    {
      "cell_type": "code",
      "execution_count": 235,
      "metadata": {
        "colab": {
          "base_uri": "https://localhost:8080/",
          "height": 206
        },
        "id": "rv1yhZrs-HRV",
        "outputId": "d4f5bced-162b-4190-e0a8-0864a997e77a"
      },
      "outputs": [
        {
          "data": {
            "text/html": [
              "<div>\n",
              "<style scoped>\n",
              "    .dataframe tbody tr th:only-of-type {\n",
              "        vertical-align: middle;\n",
              "    }\n",
              "\n",
              "    .dataframe tbody tr th {\n",
              "        vertical-align: top;\n",
              "    }\n",
              "\n",
              "    .dataframe thead th {\n",
              "        text-align: right;\n",
              "    }\n",
              "</style>\n",
              "<table border=\"1\" class=\"dataframe\">\n",
              "  <thead>\n",
              "    <tr style=\"text-align: right;\">\n",
              "      <th></th>\n",
              "      <th>user_id</th>\n",
              "      <th>anime_id</th>\n",
              "      <th>rating</th>\n",
              "    </tr>\n",
              "  </thead>\n",
              "  <tbody>\n",
              "    <tr>\n",
              "      <th>0</th>\n",
              "      <td>1</td>\n",
              "      <td>20</td>\n",
              "      <td>-1</td>\n",
              "    </tr>\n",
              "    <tr>\n",
              "      <th>1</th>\n",
              "      <td>1</td>\n",
              "      <td>24</td>\n",
              "      <td>-1</td>\n",
              "    </tr>\n",
              "    <tr>\n",
              "      <th>2</th>\n",
              "      <td>1</td>\n",
              "      <td>79</td>\n",
              "      <td>-1</td>\n",
              "    </tr>\n",
              "    <tr>\n",
              "      <th>3</th>\n",
              "      <td>1</td>\n",
              "      <td>226</td>\n",
              "      <td>-1</td>\n",
              "    </tr>\n",
              "    <tr>\n",
              "      <th>4</th>\n",
              "      <td>1</td>\n",
              "      <td>241</td>\n",
              "      <td>-1</td>\n",
              "    </tr>\n",
              "  </tbody>\n",
              "</table>\n",
              "</div>"
            ],
            "text/plain": [
              "   user_id  anime_id  rating\n",
              "0        1        20      -1\n",
              "1        1        24      -1\n",
              "2        1        79      -1\n",
              "3        1       226      -1\n",
              "4        1       241      -1"
            ]
          },
          "execution_count": 235,
          "metadata": {},
          "output_type": "execute_result"
        }
      ],
      "source": [
        "df_ratings.head()"
      ]
    },
    {
      "cell_type": "code",
      "execution_count": 236,
      "metadata": {
        "colab": {
          "base_uri": "https://localhost:8080/",
          "height": 206
        },
        "id": "-Tf3ojf2-OxF",
        "outputId": "a74060bc-a55c-40c5-8183-caf16f06e35f"
      },
      "outputs": [
        {
          "data": {
            "text/html": [
              "<div>\n",
              "<style scoped>\n",
              "    .dataframe tbody tr th:only-of-type {\n",
              "        vertical-align: middle;\n",
              "    }\n",
              "\n",
              "    .dataframe tbody tr th {\n",
              "        vertical-align: top;\n",
              "    }\n",
              "\n",
              "    .dataframe thead th {\n",
              "        text-align: right;\n",
              "    }\n",
              "</style>\n",
              "<table border=\"1\" class=\"dataframe\">\n",
              "  <thead>\n",
              "    <tr style=\"text-align: right;\">\n",
              "      <th></th>\n",
              "      <th>anime_id</th>\n",
              "      <th>name</th>\n",
              "      <th>genre</th>\n",
              "      <th>type</th>\n",
              "      <th>episodes</th>\n",
              "      <th>rating</th>\n",
              "      <th>members</th>\n",
              "    </tr>\n",
              "  </thead>\n",
              "  <tbody>\n",
              "    <tr>\n",
              "      <th>0</th>\n",
              "      <td>32281</td>\n",
              "      <td>Kimi no Na wa.</td>\n",
              "      <td>Drama, Romance, School, Supernatural</td>\n",
              "      <td>Movie</td>\n",
              "      <td>1</td>\n",
              "      <td>9.37</td>\n",
              "      <td>200630</td>\n",
              "    </tr>\n",
              "    <tr>\n",
              "      <th>1</th>\n",
              "      <td>5114</td>\n",
              "      <td>Fullmetal Alchemist: Brotherhood</td>\n",
              "      <td>Action, Adventure, Drama, Fantasy, Magic, Mili...</td>\n",
              "      <td>TV</td>\n",
              "      <td>64</td>\n",
              "      <td>9.26</td>\n",
              "      <td>793665</td>\n",
              "    </tr>\n",
              "    <tr>\n",
              "      <th>2</th>\n",
              "      <td>28977</td>\n",
              "      <td>Gintama°</td>\n",
              "      <td>Action, Comedy, Historical, Parody, Samurai, S...</td>\n",
              "      <td>TV</td>\n",
              "      <td>51</td>\n",
              "      <td>9.25</td>\n",
              "      <td>114262</td>\n",
              "    </tr>\n",
              "    <tr>\n",
              "      <th>3</th>\n",
              "      <td>9253</td>\n",
              "      <td>Steins;Gate</td>\n",
              "      <td>Sci-Fi, Thriller</td>\n",
              "      <td>TV</td>\n",
              "      <td>24</td>\n",
              "      <td>9.17</td>\n",
              "      <td>673572</td>\n",
              "    </tr>\n",
              "    <tr>\n",
              "      <th>4</th>\n",
              "      <td>9969</td>\n",
              "      <td>Gintama&amp;#039;</td>\n",
              "      <td>Action, Comedy, Historical, Parody, Samurai, S...</td>\n",
              "      <td>TV</td>\n",
              "      <td>51</td>\n",
              "      <td>9.16</td>\n",
              "      <td>151266</td>\n",
              "    </tr>\n",
              "  </tbody>\n",
              "</table>\n",
              "</div>"
            ],
            "text/plain": [
              "   anime_id                              name  ... rating members\n",
              "0     32281                    Kimi no Na wa.  ...   9.37  200630\n",
              "1      5114  Fullmetal Alchemist: Brotherhood  ...   9.26  793665\n",
              "2     28977                          Gintama°  ...   9.25  114262\n",
              "3      9253                       Steins;Gate  ...   9.17  673572\n",
              "4      9969                     Gintama&#039;  ...   9.16  151266\n",
              "\n",
              "[5 rows x 7 columns]"
            ]
          },
          "execution_count": 236,
          "metadata": {},
          "output_type": "execute_result"
        }
      ],
      "source": [
        "df_titles.head()"
      ]
    },
    {
      "cell_type": "code",
      "execution_count": 237,
      "metadata": {},
      "outputs": [
        {
          "name": "stdout",
          "output_type": "stream",
          "text": [
            "Tamaño de ratings: 7813737\n"
          ]
        }
      ],
      "source": [
        "print(f\"Tamaño de ratings: {len(df_ratings)}\")"
      ]
    },
    {
      "cell_type": "markdown",
      "metadata": {},
      "source": [
        "Vamos a mirar los ratings que hay a ver si hay algún valor inesperado."
      ]
    },
    {
      "cell_type": "code",
      "execution_count": 238,
      "metadata": {
        "colab": {
          "base_uri": "https://localhost:8080/"
        },
        "id": "8nQgy04n-izv",
        "outputId": "9b62b510-938f-4588-dc9e-8bed9a1b3166"
      },
      "outputs": [
        {
          "name": "stdout",
          "output_type": "stream",
          "text": [
            "Ratings distintos: [-1, 1, 2, 3, 4, 5, 6, 7, 8, 9, 10]\n"
          ]
        }
      ],
      "source": [
        "print(f\"Ratings distintos: {sorted(df_ratings.rating.unique())}\")"
      ]
    },
    {
      "cell_type": "markdown",
      "metadata": {
        "id": "ZyMzImYk_AHx"
      },
      "source": [
        "Hay ratings que son -1. Según la información oficial del dataset en el kaggle, esto significa que el usuario ha visto el Anime pero no le ha dado una puntuación.\n",
        "Como lo que queremos es predecir los ratings, esto no nos sirve para comprobar cuánto de buena es la predicción.\n",
        "Hemos decidido filtrarlos."
      ]
    },
    {
      "cell_type": "code",
      "execution_count": 239,
      "metadata": {
        "colab": {
          "base_uri": "https://localhost:8080/"
        },
        "id": "Mm5zzfpd_IYl",
        "outputId": "7e50bc55-c5ed-4449-c964-f3ac14261066"
      },
      "outputs": [
        {
          "name": "stdout",
          "output_type": "stream",
          "text": [
            "Tamaño de ratings después de filtrar: 6337241\n",
            "Ratings únicos después de filtrar: [1, 2, 3, 4, 5, 6, 7, 8, 9, 10]\n"
          ]
        }
      ],
      "source": [
        "df_ratings = df_ratings[df_ratings['rating'] != -1]\n",
        "print(f\"Tamaño de ratings después de filtrar: {len(df_ratings)}\")\n",
        "print(f\"Ratings únicos después de filtrar: {sorted(df_ratings.rating.unique())}\")"
      ]
    },
    {
      "cell_type": "markdown",
      "metadata": {},
      "source": [
        "Vamos a ver la distribución del número de votaciones por usuario."
      ]
    },
    {
      "cell_type": "code",
      "execution_count": 240,
      "metadata": {},
      "outputs": [
        {
          "name": "stderr",
          "output_type": "stream",
          "text": [
            "C:\\Users\\jordi\\AppData\\Local\\Temp\\ipykernel_26632\\1365358209.py:5: FutureWarning: The default of observed=False is deprecated and will be changed to True in a future version of pandas. Pass observed=False to retain current behavior or observed=True to adopt the future default and silence this warning.\n",
            "  distribucion_agrupada = distribucion.groupby(distribucion_separada).sum()\n"
          ]
        },
        {
          "data": {
            "image/png": "[encoded data removed]",
            "text/plain": [
              "<Figure size 1200x600 with 1 Axes>"
            ]
          },
          "metadata": {},
          "output_type": "display_data"
        }
      ],
      "source": [
        "bins = [1, 5, 10, 20, 50, 100, 200, 500, 1000, 2000, 3000, 4000]\n",
        "\n",
        "distribucion = df_ratings['user_id'].value_counts().value_counts().sort_index()\n",
        "distribucion_separada = pd.cut(distribucion.index, bins=bins, right=False)\n",
        "distribucion_agrupada = distribucion.groupby(distribucion_separada).sum()\n",
        "\n",
        "plt.figure(figsize=(12,6))\n",
        "sns.barplot(x=distribucion_agrupada.index.astype(str), y=distribucion_agrupada.values)\n",
        "\n",
        "plt.xlabel('Num Ratings')\n",
        "plt.ylabel('Num Usuarios')\n",
        "plt.xticks(rotation=45)\n",
        "plt.tight_layout()\n",
        "plt.show()\n"
      ]
    },
    {
      "cell_type": "markdown",
      "metadata": {},
      "source": [
        "Vamos a mantener los usuarios y animes que tienen más de 40 ratings."
      ]
    },
    {
      "cell_type": "code",
      "execution_count": 241,
      "metadata": {},
      "outputs": [],
      "source": [
        "usuarios_utiles = df_ratings['user_id'].value_counts()[df_ratings['user_id'].value_counts() > 40].index\n",
        "df_ratings = df_ratings[df_ratings['user_id'].isin(usuarios_utiles)]"
      ]
    },
    {
      "cell_type": "code",
      "execution_count": 242,
      "metadata": {},
      "outputs": [],
      "source": [
        "animes_utiles = df_ratings['anime_id'].value_counts()[df_ratings['anime_id'].value_counts() > 40].index\n",
        "df_ratings = df_ratings[df_ratings['anime_id'].isin(animes_utiles)]"
      ]
    },
    {
      "cell_type": "code",
      "execution_count": 243,
      "metadata": {},
      "outputs": [
        {
          "name": "stdout",
          "output_type": "stream",
          "text": [
            "df_ratings.anime_id.nunique()=5413, df_ratings.anime_id.max()=34240\n",
            "df_ratings.user_id.nunique()=36470, df_ratings.user_id.max()=73515\n"
          ]
        }
      ],
      "source": [
        "print(f'{df_ratings.anime_id.nunique()=}, {df_ratings.anime_id.max()=}')\n",
        "print(f'{df_ratings.user_id.nunique()=}, {df_ratings.user_id.max()=}')"
      ]
    },
    {
      "cell_type": "markdown",
      "metadata": {},
      "source": [
        "Vemos que el tamaño sigue siendo demasiado grande para entrenar en nuestros ordenadores, sobre todo para el KNN. Hemos decidido elegir una muestra de solo 1000 usuarios."
      ]
    },
    {
      "cell_type": "code",
      "execution_count": 244,
      "metadata": {},
      "outputs": [],
      "source": [
        "usuarios_unicos = df_ratings['user_id'].unique()\n",
        "sampled_user_ids = np.random.choice(usuarios_unicos, size=1000, replace=False)\n",
        "df_ratings = df_ratings[df_ratings['user_id'].isin(sampled_user_ids)]"
      ]
    },
    {
      "cell_type": "code",
      "execution_count": 245,
      "metadata": {},
      "outputs": [
        {
          "name": "stdout",
          "output_type": "stream",
          "text": [
            "df_ratings.anime_id.nunique()=5139, df_ratings.anime_id.max()=34240\n",
            "df_ratings.user_id.nunique()=1000, df_ratings.user_id.max()=73476\n"
          ]
        }
      ],
      "source": [
        "print(f'{df_ratings.anime_id.nunique()=}, {df_ratings.anime_id.max()=}')\n",
        "print(f'{df_ratings.user_id.nunique()=}, {df_ratings.user_id.max()=}')"
      ]
    },
    {
      "cell_type": "code",
      "execution_count": 246,
      "metadata": {},
      "outputs": [
        {
          "data": {
            "text/plain": [
              "3375"
            ]
          },
          "execution_count": 246,
          "metadata": {},
          "output_type": "execute_result"
        }
      ],
      "source": [
        "sum(df_ratings.anime_id.value_counts() < 20)"
      ]
    },
    {
      "cell_type": "markdown",
      "metadata": {},
      "source": [
        "Vemos que ahora se nos han quedado muchos animes con pocas valoraciones. \n",
        "Vamos a filtrar una última vez para que estén más o menos balanceados."
      ]
    },
    {
      "cell_type": "code",
      "execution_count": 247,
      "metadata": {},
      "outputs": [],
      "source": [
        "animes_utiles = df_ratings['anime_id'].value_counts()[df_ratings['anime_id'].value_counts() > 20].index\n",
        "df_ratings = df_ratings[df_ratings['anime_id'].isin(animes_utiles)]"
      ]
    },
    {
      "cell_type": "code",
      "execution_count": 248,
      "metadata": {},
      "outputs": [
        {
          "data": {
            "text/plain": [
              "(134434, 3)"
            ]
          },
          "execution_count": 248,
          "metadata": {},
          "output_type": "execute_result"
        }
      ],
      "source": [
        "df_ratings.shape"
      ]
    },
    {
      "cell_type": "markdown",
      "metadata": {},
      "source": [
        "Se nos quedan casi 135k reviews, que nos parece un buen número."
      ]
    },
    {
      "cell_type": "code",
      "execution_count": 249,
      "metadata": {},
      "outputs": [
        {
          "data": {
            "text/plain": [
              "(anime_id\n",
              " 1535     654\n",
              " 11757    567\n",
              " 226      528\n",
              " 16498    514\n",
              " 6547     514\n",
              "         ... \n",
              " 3965      21\n",
              " 21677     21\n",
              " 12069     21\n",
              " 6287      21\n",
              " 811       21\n",
              " Name: count, Length: 1713, dtype: int64,\n",
              " user_id\n",
              " 10419    993\n",
              " 49503    791\n",
              " 10240    780\n",
              " 54073    767\n",
              " 30496    655\n",
              "         ... \n",
              " 56645     33\n",
              " 19125     32\n",
              " 51591     27\n",
              " 38969     24\n",
              " 49937     22\n",
              " Name: count, Length: 1000, dtype: int64)"
            ]
          },
          "execution_count": 249,
          "metadata": {},
          "output_type": "execute_result"
        }
      ],
      "source": [
        "df_ratings.anime_id.value_counts(), df_ratings.user_id.value_counts()"
      ]
    },
    {
      "cell_type": "code",
      "execution_count": 250,
      "metadata": {},
      "outputs": [
        {
          "name": "stdout",
          "output_type": "stream",
          "text": [
            "df_ratings.anime_id.nunique()=1713, df_ratings.anime_id.max()=34240\n",
            "df_ratings.user_id.nunique()=1000, df_ratings.user_id.max()=73476\n"
          ]
        }
      ],
      "source": [
        "print(f'{df_ratings.anime_id.nunique()=}, {df_ratings.anime_id.max()=}')\n",
        "print(f'{df_ratings.user_id.nunique()=}, {df_ratings.user_id.max()=}')"
      ]
    },
    {
      "cell_type": "markdown",
      "metadata": {},
      "source": [
        "En ambos tienen por lo menos 20 reviews, nos parece un buen número."
      ]
    },
    {
      "cell_type": "markdown",
      "metadata": {},
      "source": [
        "Vemos que hay solo 1713 animes, pero que hay ids hasta el 34240, vamos a hacer un mapeado para que empiecen desde el índice 0 hasta el 1712. Con el número de usuarios hacemos lo mismo.\n"
      ]
    },
    {
      "cell_type": "code",
      "execution_count": 251,
      "metadata": {},
      "outputs": [],
      "source": [
        "df_ratings['user_id'], user_original_ids = pd.factorize(df_ratings['user_id'])\n",
        "df_ratings['anime_id'], anime_original_ids = pd.factorize(df_ratings['anime_id'])\n",
        "df_ratings.reset_index(drop=True, inplace=True)"
      ]
    },
    {
      "cell_type": "code",
      "execution_count": 252,
      "metadata": {
        "vscode": {
          "languageId": "ruby"
        }
      },
      "outputs": [
        {
          "data": {
            "text/html": [
              "<div>\n",
              "<style scoped>\n",
              "    .dataframe tbody tr th:only-of-type {\n",
              "        vertical-align: middle;\n",
              "    }\n",
              "\n",
              "    .dataframe tbody tr th {\n",
              "        vertical-align: top;\n",
              "    }\n",
              "\n",
              "    .dataframe thead th {\n",
              "        text-align: right;\n",
              "    }\n",
              "</style>\n",
              "<table border=\"1\" class=\"dataframe\">\n",
              "  <thead>\n",
              "    <tr style=\"text-align: right;\">\n",
              "      <th></th>\n",
              "      <th>user_id</th>\n",
              "      <th>anime_id</th>\n",
              "      <th>rating</th>\n",
              "    </tr>\n",
              "  </thead>\n",
              "  <tbody>\n",
              "    <tr>\n",
              "      <th>0</th>\n",
              "      <td>0</td>\n",
              "      <td>0</td>\n",
              "      <td>6</td>\n",
              "    </tr>\n",
              "    <tr>\n",
              "      <th>1</th>\n",
              "      <td>0</td>\n",
              "      <td>1</td>\n",
              "      <td>8</td>\n",
              "    </tr>\n",
              "    <tr>\n",
              "      <th>2</th>\n",
              "      <td>0</td>\n",
              "      <td>2</td>\n",
              "      <td>8</td>\n",
              "    </tr>\n",
              "    <tr>\n",
              "      <th>3</th>\n",
              "      <td>0</td>\n",
              "      <td>3</td>\n",
              "      <td>8</td>\n",
              "    </tr>\n",
              "    <tr>\n",
              "      <th>4</th>\n",
              "      <td>0</td>\n",
              "      <td>4</td>\n",
              "      <td>9</td>\n",
              "    </tr>\n",
              "    <tr>\n",
              "      <th>...</th>\n",
              "      <td>...</td>\n",
              "      <td>...</td>\n",
              "      <td>...</td>\n",
              "    </tr>\n",
              "    <tr>\n",
              "      <th>134429</th>\n",
              "      <td>999</td>\n",
              "      <td>318</td>\n",
              "      <td>9</td>\n",
              "    </tr>\n",
              "    <tr>\n",
              "      <th>134430</th>\n",
              "      <td>999</td>\n",
              "      <td>804</td>\n",
              "      <td>6</td>\n",
              "    </tr>\n",
              "    <tr>\n",
              "      <th>134431</th>\n",
              "      <td>999</td>\n",
              "      <td>805</td>\n",
              "      <td>9</td>\n",
              "    </tr>\n",
              "    <tr>\n",
              "      <th>134432</th>\n",
              "      <td>999</td>\n",
              "      <td>594</td>\n",
              "      <td>3</td>\n",
              "    </tr>\n",
              "    <tr>\n",
              "      <th>134433</th>\n",
              "      <td>999</td>\n",
              "      <td>595</td>\n",
              "      <td>7</td>\n",
              "    </tr>\n",
              "  </tbody>\n",
              "</table>\n",
              "<p>134434 rows × 3 columns</p>\n",
              "</div>"
            ],
            "text/plain": [
              "        user_id  anime_id  rating\n",
              "0             0         0       6\n",
              "1             0         1       8\n",
              "2             0         2       8\n",
              "3             0         3       8\n",
              "4             0         4       9\n",
              "...         ...       ...     ...\n",
              "134429      999       318       9\n",
              "134430      999       804       6\n",
              "134431      999       805       9\n",
              "134432      999       594       3\n",
              "134433      999       595       7\n",
              "\n",
              "[134434 rows x 3 columns]"
            ]
          },
          "execution_count": 252,
          "metadata": {},
          "output_type": "execute_result"
        }
      ],
      "source": [
        "df_ratings"
      ]
    },
    {
      "cell_type": "markdown",
      "metadata": {},
      "source": [
        "Vamos a definir algunas constantes."
      ]
    },
    {
      "cell_type": "code",
      "execution_count": 253,
      "metadata": {},
      "outputs": [
        {
          "name": "stdout",
          "output_type": "stream",
          "text": [
            "NUM_USERS: 1000\n",
            "NUM_ANIMES: 1713\n",
            "MIN_RATING: 1\n",
            "MAX_RATING: 10\n",
            "SCORES: [1, 2, 3, 4, 5, 6, 7, 8, 9, 10]\n"
          ]
        }
      ],
      "source": [
        "NUM_USERS = df_ratings['user_id'].nunique()\n",
        "NUM_ANIMES = df_ratings['anime_id'].nunique()\n",
        "\n",
        "MIN_RATING = df_ratings['rating'].min()\n",
        "MAX_RATING = df_ratings['rating'].max()\n",
        "SCORES = sorted(df_ratings['rating'].unique().tolist()) # Para BeMF\n",
        "\n",
        "print(f\"NUM_USERS: {NUM_USERS}\")\n",
        "print(f\"NUM_ANIMES: {NUM_ANIMES}\")\n",
        "print(f\"MIN_RATING: {MIN_RATING}\")\n",
        "print(f\"MAX_RATING: {MAX_RATING}\")\n",
        "print(f\"SCORES: {SCORES}\")"
      ]
    },
    {
      "cell_type": "markdown",
      "metadata": {},
      "source": [
        "Ahora vamos a dividir el datafram en train y test."
      ]
    },
    {
      "cell_type": "code",
      "execution_count": null,
      "metadata": {},
      "outputs": [
        {
          "name": "stdout",
          "output_type": "stream",
          "text": [
            "Tamaño del conjunto de entrenamiento (train_df): 107547\n",
            "Tamaño del conjunto de prueba (test_df): 26887\n",
            "Tamaño del conjunto de prueba (test_df) después de asegurar overlap: 26887\n"
          ]
        }
      ],
      "source": [
        "train_df, test_df = train_test_split(df_ratings,\n",
        "                                     test_size=0.2,          \n",
        "                                     random_state=RANDOM_STATE,    \n",
        "                                     stratify=df_ratings['user_id'])\n",
        "print(f\"Tamaño del conjunto de entrenamiento (train_df): {len(train_df)}\")\n",
        "print(f\"Tamaño del conjunto de prueba (test_df): {len(test_df)}\")\n",
        "\n",
        "train_user_ids = train_df['user_id'].unique()\n",
        "train_anime_ids = train_df['anime_id'].unique()\n",
        "\n",
        "# Filtrar el conjunto de prueba\n",
        "test_df_original_len = len(test_df)\n",
        "test_df = test_df[test_df['user_id'].isin(train_user_ids)]\n",
        "test_df = test_df[test_df['anime_id'].isin(train_anime_ids)]\n",
        "print(f\"Tamaño del conjunto de prueba (test_df) después de quitar overlap: {len(test_df)}\")\n",
        "if len(test_df) < test_df_original_len:\n",
        "    print(f\"  Se eliminaron {test_df_original_len - len(test_df)} filas de test_df que contenían usuarios/animes no presentes en train_df.\")\n"
      ]
    },
    {
      "cell_type": "markdown",
      "metadata": {},
      "source": [
        "Ahora creamos las matrices de ratings"
      ]
    },
    {
      "cell_type": "code",
      "execution_count": 255,
      "metadata": {},
      "outputs": [],
      "source": [
        "ratings_train_matrix = [[None for _ in range(NUM_ANIMES)] for _ in range(NUM_USERS)]\n",
        "for _, row in train_df.iterrows():\n",
        "    ratings_train_matrix[int(row.user_id)][int(row.anime_id)] = int(row.rating)\n",
        "    \n",
        "ratings_test_matrix = [[None for _ in range(NUM_ANIMES)] for _ in range(NUM_USERS)]\n",
        "for _, row in test_df.iterrows():\n",
        "    ratings_test_matrix[int(row.user_id)][int(row.anime_id)] = int(row.rating)"
      ]
    },
    {
      "cell_type": "code",
      "execution_count": 257,
      "metadata": {},
      "outputs": [
        {
          "data": {
            "text/plain": [
              "(1000, 1713, 1713000)"
            ]
          },
          "execution_count": 257,
          "metadata": {},
          "output_type": "execute_result"
        }
      ],
      "source": [
        "len(ratings_train_matrix),len(ratings_train_matrix[0]), len(ratings_train_matrix) * len(ratings_train_matrix[0])"
      ]
    }
  ],
  "metadata": {
    "colab": {
      "provenance": []
    },
    "kernelspec": {
      "display_name": "Python 3",
      "name": "python3"
    },
    "language_info": {
      "codemirror_mode": {
        "name": "ipython",
        "version": 3
      },
      "file_extension": ".py",
      "mimetype": "text/x-python",
      "name": "python",
      "nbconvert_exporter": "python",
      "pygments_lexer": "ipython3",
      "version": "3.12.5"
    }
  },
  "nbformat": 4,
  "nbformat_minor": 0
}
