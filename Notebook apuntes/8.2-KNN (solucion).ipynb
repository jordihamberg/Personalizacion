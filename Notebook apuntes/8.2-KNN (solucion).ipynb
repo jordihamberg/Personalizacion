{
 "cells": [
  {
   "cell_type": "markdown",
   "metadata": {
    "id": "abIPUQ1LBeq_"
   },
   "source": [
    "# Filtrado Colaborativo: *K-Nearest Neighbors*\n",
    "\n",
    "Los algoritmos de **filtrado colaborativo** basados en la técnica de los *k* vecinos (KNN) tratan de imitar el comportamiento de los seres humanos cuando buscan recibir una recomendación: cuando necesitamos conocer si nos va a interesar un item, preguntamos a personas que sabemos que conocen nuestros intereses si ellos consideran que el item nos va a gustar.\n",
    "\n",
    "El método realizará esta misma operación empleando la matriz de votaciones. Este proceso seguirá el siguiente algoritmo:\n",
    "\n",
    "1. Determinar la similaridad entre los usuarios\n",
    "2. Encontrar el conjunto de *k* usuarios más similares (*k* vecinos)\n",
    "3. Estimar las predicciones a los items no votados utilizando las votaciones realizadas por los *k* vecinos\n",
    "4. (Opcional) Recomendar los *N* items con una predicción más alta\n",
    "\n",
    "En los siguientes subapartados explicaremos en detalle cada uno de estos pasos."
   ]
  },
  {
   "cell_type": "markdown",
   "metadata": {
    "id": "8uIM2LuLtg-B"
   },
   "source": [
    "## Carga del dataset\n",
    "\n",
    "Para ilustrar mejor el funcionamiento de la técnica de KNN, vamos a desarrollar una implementación explicativa de cómo funciona.\n",
    "\n",
    "Para ello usaremos el dataset de [MovieLens 100K](https://grouplens.org/datasets/movielens/) que contiene 100.000 votos de 943 usuarios sobre 1682 películas. Este dataset ha sido dividido en votaciones de entrenamiento (80%) y votaciones de test (20%). Además, los códigos de usuarios e items, han sido modificados para que comience en 0 y terminen en el número de (usuarios / items) - 1.\n",
    "\n",
    "Inicialmente definimos algunas constantes que nos serán necesarias durante la codificación del algoritmo:"
   ]
  },
  {
   "cell_type": "code",
   "execution_count": 1,
   "metadata": {
    "executionInfo": {
     "elapsed": 20,
     "status": "ok",
     "timestamp": 1712313354211,
     "user": {
      "displayName": "Cristian Ramírez Atencia",
      "userId": "02987040682137538367"
     },
     "user_tz": -120
    },
    "id": "9ChKXrFVw01m"
   },
   "outputs": [],
   "source": [
    "import urllib.request\n",
    "import math"
   ]
  },
  {
   "cell_type": "code",
   "execution_count": null,
   "metadata": {},
   "outputs": [
    {
     "name": "stdout",
     "output_type": "stream",
     "text": [
      "pene\n"
     ]
    }
   ],
   "source": [
    "NUM_USERS = 943\n",
    "NUM_ITEMS = 1682\n",
    "\n",
    "MIN_RATING = 1\n",
    "MAX_RATING = 5"
   ]
  },
  {
   "cell_type": "markdown",
   "metadata": {
    "id": "iG-MLAXiv-kK"
   },
   "source": [
    "Cargamos el dataset en la matriz de votaciones. La ausencia de voto se representa con None:"
   ]
  },
  {
   "cell_type": "code",
   "execution_count": 3,
   "metadata": {
    "executionInfo": {
     "elapsed": 4415,
     "status": "ok",
     "timestamp": 1712313380520,
     "user": {
      "displayName": "Cristian Ramírez Atencia",
      "userId": "02987040682137538367"
     },
     "user_tz": -120
    },
    "id": "Q1CTxoLABerB"
   },
   "outputs": [],
   "source": [
    "ratings = [[None for _ in range(NUM_ITEMS)] for _ in range(NUM_USERS)]\n",
    "\n",
    "training_file = urllib.request.urlopen(\"https://drive.upm.es/s/tDdluElfGInyUnU/download\")\n",
    "for line in training_file:\n",
    "  [u, i, rating] = line.decode(\"utf-8\").split(\"::\")\n",
    "  ratings[int(u)][int(i)] = int(rating)"
   ]
  },
  {
   "cell_type": "markdown",
   "metadata": {
    "id": "52_CBchrzkoM"
   },
   "source": [
    "Del mismo modo, cargamos la matriz de votaciones de test:"
   ]
  },
  {
   "cell_type": "code",
   "execution_count": 4,
   "metadata": {
    "executionInfo": {
     "elapsed": 1579,
     "status": "ok",
     "timestamp": 1712313494368,
     "user": {
      "displayName": "Cristian Ramírez Atencia",
      "userId": "02987040682137538367"
     },
     "user_tz": -120
    },
    "id": "Uo5dbgJMzsqd"
   },
   "outputs": [],
   "source": [
    "test_ratings = [[None for _ in range(NUM_ITEMS)] for _ in range(NUM_USERS)]\n",
    "\n",
    "test_file = urllib.request.urlopen(\"https://drive.upm.es/s/Jn75Vg6okOPsgZu/download\")\n",
    "for line in test_file:\n",
    "  [u, i, rating] = line.decode(\"utf-8\").split(\"::\")\n",
    "  test_ratings[int(u)][int(i)] = int(rating)"
   ]
  },
  {
   "cell_type": "markdown",
   "metadata": {
    "id": "XjZYIAKu8KRC"
   },
   "source": [
    "Definimos también algunas funciones auxiliares que nos serán útiles:"
   ]
  },
  {
   "cell_type": "code",
   "execution_count": 5,
   "metadata": {
    "executionInfo": {
     "elapsed": 451,
     "status": "ok",
     "timestamp": 1712313497702,
     "user": {
      "displayName": "Cristian Ramírez Atencia",
      "userId": "02987040682137538367"
     },
     "user_tz": -120
    },
    "id": "mf4LhvfN8R63"
   },
   "outputs": [],
   "source": [
    "def rating_average (u):\n",
    "  acc = 0\n",
    "  count = 0\n",
    "\n",
    "  for i in range(NUM_ITEMS):\n",
    "    if ratings[u][i] != None:\n",
    "      acc += ratings[u][i]\n",
    "      count += 1\n",
    "\n",
    "  avg = acc / count\n",
    "\n",
    "  return avg"
   ]
  },
  {
   "cell_type": "markdown",
   "metadata": {
    "id": "vWbGQlXq0Bqg"
   },
   "source": [
    "## Calculo de la similaridad\n",
    "\n",
    "El primer paso del algoritmo de KNN consiste en determinar el parecido de cada pareja de usuarios basándonos en las votaciones previas de dichos usuarios. Para calcular esta similaridad debemos tener presente que la matriz de votaciones es dispersa y, por lo tanto, parar comparar dos usuarios únicamente podremos emplear los votos sobre aquellos items que sean comunes a ambos usuarios.\n",
    "\n",
    "Por ejemplo, si un usuario *u* ha realizado las siguientes votaciones:\n",
    "\n",
    "|   \t| i1 \t| i2 \t| i3 \t| i4 \t| i5 \t| i6 \t| i7 \t| i8 \t| i9 \t| i10 \t|\n",
    "|:-:\t|:--:\t|:--:\t|:--:\t|:--:\t|:--:\t|:--:\t|:--:\t|:--:\t|:--:\t|-----\t|\n",
    "| u \t|  1 \t|  2 \t|    \t|  4 \t|  2 \t|    \t|  3 \t|    \t|   \t|   5  \t|\n",
    "\n",
    "Y un usuario *v* ha realizado las siguientes votaciones:\n",
    "\n",
    "|   \t| i1 \t| i2 \t| i3 \t| i4 \t| i5 \t| i6 \t| i7 \t| i8 \t| i9 \t| i10 \t|\n",
    "|:-:\t|:--:\t|:--:\t|:--:\t|:--:\t|:--:\t|:--:\t|:--:\t|:--:\t|:--:\t|-----\t|\n",
    "| v \t|  3 \t|   \t|  2  \t|   \t|  5 \t|  4  \t|  3 \t|  3  \t|   \t|  1 \t|\n",
    "\n",
    "Únicamente podremos comparar los votos producidos en los items *i1*, *i5*, *i7* e *i10*.\n",
    "\n",
    "Existen infinidad de métricas de similaridad que permiten conocer el parecido de dos usuarios en función de sus votos comunes. Las más tradicionales se basan en medidas estadísticas clásicas. Por ejemplo, una de las métricas más empleadas es la **correlación**:\n",
    "\n",
    "$$sim(u, v) = \\frac {\n",
    "    \\sum_{i \\in I_{u,v}} (r_{u,i} - \\bar{r}_u)(r_{v,i} - \\bar{r}_v)\n",
    "   } {\n",
    "   \\sqrt{ \\sum_{i \\in I_{u,v}} (r_{u,i} - \\bar{r}_u)^2 \\sum_{i \\in I_{u,v}} (r_{v,i} - \\bar{r}_v)^2 }\n",
    "   }$$\n",
    "   \n",
    "Donde $I_{u,v}$ representa los items que han votado tanto el usuario $u$ como el usuario $v$, $\\bar{r}_u$ representa la votación media del usuario $u$ y $\\bar{r}_v$ representa la votación media del usuario $v$."
   ]
  },
  {
   "cell_type": "markdown",
   "metadata": {
    "id": "qihZSD-P9Cj_"
   },
   "source": [
    "La implementación de esta función podríamos hacerla del siguiente modo:"
   ]
  },
  {
   "cell_type": "code",
   "execution_count": 6,
   "metadata": {
    "executionInfo": {
     "elapsed": 377,
     "status": "ok",
     "timestamp": 1712313502697,
     "user": {
      "displayName": "Cristian Ramírez Atencia",
      "userId": "02987040682137538367"
     },
     "user_tz": -120
    },
    "id": "r-mByaHh86np"
   },
   "outputs": [],
   "source": [
    "def correlation_similarity (u, v):\n",
    "  num = 0\n",
    "\n",
    "  den_u = 0\n",
    "  den_v = 0\n",
    "\n",
    "  count = 0\n",
    "\n",
    "  avg_u = rating_average(u)\n",
    "  avg_v = rating_average(v)\n",
    "\n",
    "  for i in range(NUM_ITEMS):\n",
    "    if ratings[u][i] != None and ratings[v][i] != None:\n",
    "      r_u = ratings[u][i]\n",
    "      r_v = ratings[v][i]\n",
    "\n",
    "      num += (r_u - avg_u) * (r_v - avg_v)\n",
    "      den_u += (r_u - avg_u) * (r_u - avg_u)\n",
    "      den_v += (r_v - avg_v) * (r_v - avg_v)\n",
    "\n",
    "      count += 1\n",
    "\n",
    "  if count > 0 and den_u != 0 and den_v != 0:\n",
    "    cor = num / math.sqrt( den_u * den_v )\n",
    "    return cor;\n",
    "  else:\n",
    "    return None"
   ]
  },
  {
   "cell_type": "code",
   "execution_count": 8,
   "metadata": {
    "colab": {
     "base_uri": "https://localhost:8080/"
    },
    "executionInfo": {
     "elapsed": 549,
     "status": "ok",
     "timestamp": 1712313509004,
     "user": {
      "displayName": "Cristian Ramírez Atencia",
      "userId": "02987040682137538367"
     },
     "user_tz": -120
    },
    "id": "PkogRQ6bERs4",
    "outputId": "744a6ba2-3f55-4825-aa85-553001c3ac25"
   },
   "outputs": [
    {
     "name": "stdout",
     "output_type": "stream",
     "text": [
      "0.010617834767124239\n",
      "-0.08282165590325245\n",
      "None\n"
     ]
    }
   ],
   "source": [
    "# Testing\n",
    "print(correlation_similarity(5,940))\n",
    "print(correlation_similarity(113,534))\n",
    "print(correlation_similarity(92,355))"
   ]
  },
  {
   "cell_type": "markdown",
   "metadata": {
    "id": "Tw-ss9cT-ryZ"
   },
   "source": [
    "Aunque las métricas de similaridad basadas en medidas estadísticas clásicas ofrecen valores \"aceptables\" para el método de los *k* vecinos, existen otras métricas de similaridad específicas para el dominio del filtrado colaborativo. Una de las más populares es **JMSD** que permite calcular la similaridad atendiendo a dos factores: la información no numérica de los votos y la información numérica de los mismos. *JMSD* se define como el producto del índice de Jaccard por la diferencia cuadrática media:\n",
    "\n",
    "$$JMSD(u,v) = Jaccard(u,v) * (1 - MSD(u, v))$$\n",
    "\n",
    "El *índice de Jaccard* es una medida que permite comparar la similitud de dos conjuntos. En este caso se emplea para comprobar si los items votados por ambos usuarios coinciden, independientemente de la votación:\n",
    "\n",
    "$$Jaccard(u,v) =\\frac {I_u \\cap I_v} {I_u \\cup I_v} = \\frac {\\# \\{ i \\in I | r_{u,i} \\neq \\bullet \\wedge r_{v,i} \\neq \\bullet \\}} {\\# \\{ i \\in I | r_{u,i} \\neq \\bullet \\vee r_{v,i} \\neq \\bullet \\}}$$\n",
    "\n",
    "Donde $I_u$ representa los items votados por el usuario $u$ e $I_v$ representa los items votados por el usuario $v$.\n",
    "\n",
    "El *MSD* permite comparar si los usuarios tienen la misma opinión sobre los items que votaron en común. En este caso, el *MSD* retorna el valor 0 cuando los usuarios votaron idéntico, por lo que suele invertirse para lograr que cuanto más se parezcan dos usuarios, mayor sea su similaridad. Para esto, es necesario normalizar previamente las votaciones:\n",
    "\n",
    "$$MSD(u,v) = \\frac {1} {\\#I_{u,v}} \\sum_{i \\in I_{u,v}} (r_{u,i} - r_{v,i})^2$$\n",
    "\n",
    "Donde $I_{u,v}$ representa los items votados en común por $u$ y $v$.\n",
    "\n",
    "Esta medida busca un equilibrio entre los items que los dos usuarios han votado y lo parecidas que son estas votaciones."
   ]
  },
  {
   "cell_type": "markdown",
   "metadata": {
    "id": "YGDVaMakQvqZ"
   },
   "source": [
    "La implementación de esta función podríamos hacerla del siguiente modo:"
   ]
  },
  {
   "cell_type": "code",
   "execution_count": null,
   "metadata": {
    "id": "IX0FmAFLQwYu"
   },
   "outputs": [],
   "source": [
    "def jmsd_similarity (u, v):\n",
    "\n",
    "  union = 0\n",
    "  intersection = 0\n",
    "  diff = 0\n",
    "\n",
    "  for i in range(NUM_ITEMS):\n",
    "    if ratings[u][i] != None and ratings[v][i] != None:\n",
    "      r_u = (ratings[u][i] - MIN_RATING) / (MAX_RATING - MIN_RATING)\n",
    "      r_v = (ratings[v][i] - MIN_RATING) / (MAX_RATING - MIN_RATING)\n",
    "\n",
    "      diff = (r_u - r_v) * (r_u - r_v)\n",
    "\n",
    "      intersection += 1\n",
    "      union += 1\n",
    "\n",
    "    elif ratings[u][i] != None or ratings[v][i] != None:\n",
    "      union += 1\n",
    "\n",
    "\n",
    "  if intersection > 0:\n",
    "    jaccard = intersection / union\n",
    "    msd = diff / intersection\n",
    "    return jaccard * (1 - msd);\n",
    "  else:\n",
    "    return None"
   ]
  },
  {
   "cell_type": "code",
   "execution_count": null,
   "metadata": {
    "colab": {
     "base_uri": "https://localhost:8080/"
    },
    "executionInfo": {
     "elapsed": 281,
     "status": "ok",
     "timestamp": 1712160054737,
     "user": {
      "displayName": "Cristian Ramírez Atencia",
      "userId": "02987040682137538367"
     },
     "user_tz": -120
    },
    "id": "AIOQNSp9H7H7",
    "outputId": "5d1cfb94-5b75-44a7-c226-bb0f49fb8398"
   },
   "outputs": [
    {
     "name": "stdout",
     "output_type": "stream",
     "text": [
      "0.049268018018018014\n",
      "0.12685381355932204\n",
      "None\n"
     ]
    }
   ],
   "source": [
    "# Testing\n",
    "print(jmsd_similarity(5,940))\n",
    "print(jmsd_similarity(113,534))\n",
    "print(jmsd_similarity(92,355))"
   ]
  },
  {
   "cell_type": "markdown",
   "metadata": {
    "id": "DWqaPSYGBerF"
   },
   "source": [
    "## Búsqueda de los *k* vecinos\n",
    "\n",
    "En el método de KNN, las predicciones se realizan a partir del conjunto de *k* vecinos de cada usuario, esto es, el conjunto de *k* usuarios más similares a uno dado. Este *k* será considerado como un parámetro del sistema y deberá tunearse para cada dataset.\n",
    "\n",
    "La búsqueda de los *k* vecinos consiste únicamente en ordenar los usuarios en base a su similaridad y elegir a los *k* con una similaridad más alta."
   ]
  },
  {
   "cell_type": "markdown",
   "metadata": {
    "id": "DEmVC4XMRone"
   },
   "source": [
    "La implementación de esta función podríamos hacerla del siguiente modo:"
   ]
  },
  {
   "cell_type": "code",
   "execution_count": null,
   "metadata": {
    "id": "6rInkOjwRpN_"
   },
   "outputs": [],
   "source": [
    "k = 25"
   ]
  },
  {
   "cell_type": "code",
   "execution_count": null,
   "metadata": {
    "id": "-uNjyly9RxSl"
   },
   "outputs": [],
   "source": [
    "def get_neighbors (u, similarities):\n",
    "\n",
    "  neighbors = [None for _ in range(k)]\n",
    "\n",
    "  for n in range(k):\n",
    "\n",
    "    max_similarity = 0\n",
    "    neighbor = None\n",
    "\n",
    "    for v, sim in enumerate(similarities):\n",
    "      if v not in neighbors and sim != None and sim > max_similarity:\n",
    "        max_similarity = sim\n",
    "        neighbor = v\n",
    "\n",
    "    neighbors[n] = neighbor\n",
    "\n",
    "  return neighbors"
   ]
  },
  {
   "cell_type": "code",
   "execution_count": null,
   "metadata": {
    "colab": {
     "base_uri": "https://localhost:8080/"
    },
    "executionInfo": {
     "elapsed": 1205,
     "status": "ok",
     "timestamp": 1712160391279,
     "user": {
      "displayName": "Cristian Ramírez Atencia",
      "userId": "02987040682137538367"
     },
     "user_tz": -120
    },
    "id": "qN4O7tFvJzxy",
    "outputId": "cc565af4-1d5c-4bf0-e878-96e0613da961"
   },
   "outputs": [
    {
     "name": "stdout",
     "output_type": "stream",
     "text": [
      "[97, 50, 66, 113, 121, 186, 318, 365, 515, 521, 699, 40, 507, 659, 606, 87, 703, 797, 856, 134, 722, 875, 132, 379, 608]\n",
      "[936, 172, 769, 169, 742, 175, 73, 577, 469, 412, 581, 2, 148, 702, 62, 489, 154, 790, 833, 509, 729, 46, 925, 700, 643]\n"
     ]
    }
   ],
   "source": [
    "# Testing\n",
    "u = 112\n",
    "similarities_corr = [None if u == v else correlation_similarity(u, v) for v in range(NUM_USERS)]\n",
    "similarities_jmsd = [None if u == v else jmsd_similarity(u, v) for v in range(NUM_USERS)]\n",
    "neighbors_corr = get_neighbors(u, similarities_corr)\n",
    "neighbors_jmsd = get_neighbors(u, similarities_jmsd)\n",
    "print(neighbors_corr)\n",
    "print(neighbors_jmsd)"
   ]
  },
  {
   "cell_type": "markdown",
   "metadata": {
    "id": "_qXQqvwVTQgm"
   },
   "source": [
    "## Estimación de las predicciones\n",
    "\n",
    "La estimación de las predicciones se realiza agregando las votaciones que los *k* vecinos del usuario activo realizaron al item que se quiere predecir. De nuevo, nos encontramos con el problema de la dispersión de la matriz de votaciones, ya que no todos los *k* vecinos habrán votado los mismos items. Podría incluso darse la circunstancia de que un item no hubiera sido votado por ninguno de los *k* vecinos y, por tanto, no podría estimarse una predicción.\n",
    "\n",
    "Esta situación puede ayudarnos a tunear el parámetro *k*. Si elegimos un *k* muy bajo conseguimos predicciones precisas ya que se realizan con usuarios muy similares al activo, pero existirán muchos items que no podremos predecir. Si elegimos un *k* muy elevado podremos predecir casi todos los items pero estas predicciones serán poco personalizadas. Llevado al extremo si *k* es igual al número de usuario del sistema (menos uno), las predicciones serían equivalentes a la media de los votos.\n",
    "\n",
    "Existen diversas formas de agregar las votaciones de los *k* vecinos (*aggregation approach*), aunque, la más popular debido a su sencillez es la media:\n",
    "\n",
    "$$\\hat{r}_{u,i} = \\frac{1}{\\#N_{u,i}} \\sum_{n \\in N_{u,i}} r_{n,i}$$\n",
    "\n",
    "Donde $N_{u,i}$ representa el conjunto de *k* vecinos del usuario $u$ que votaron el item $i$."
   ]
  },
  {
   "cell_type": "markdown",
   "metadata": {
    "id": "G3I1eqP2Zivy"
   },
   "source": [
    "La implementación de esta medida de agregación podríamos hacerla del siguiente modo:"
   ]
  },
  {
   "cell_type": "code",
   "execution_count": null,
   "metadata": {
    "id": "z5SHyUMOZl1A"
   },
   "outputs": [],
   "source": [
    "def average_prediction (u, i, neighbors):\n",
    "  acc = 0\n",
    "  count = 0\n",
    "\n",
    "  for n in neighbors:\n",
    "    if n == None: break\n",
    "\n",
    "    if ratings[n][i] != None:\n",
    "      acc += ratings[n][i]\n",
    "      count += 1\n",
    "\n",
    "  if count > 0:\n",
    "    prediction = acc / count\n",
    "    return prediction\n",
    "  else:\n",
    "    return None\n"
   ]
  },
  {
   "cell_type": "code",
   "execution_count": null,
   "metadata": {
    "colab": {
     "base_uri": "https://localhost:8080/"
    },
    "executionInfo": {
     "elapsed": 299,
     "status": "ok",
     "timestamp": 1712160396878,
     "user": {
      "displayName": "Cristian Ramírez Atencia",
      "userId": "02987040682137538367"
     },
     "user_tz": -120
    },
    "id": "Vo2C5XsccFMz",
    "outputId": "4c4aee1e-7cdd-4b97-bc21-88982ec4349c"
   },
   "outputs": [
    {
     "name": "stdout",
     "output_type": "stream",
     "text": [
      "1.0\n",
      "1.75\n"
     ]
    }
   ],
   "source": [
    "# Testing\n",
    "i = 324\n",
    "avgpred_corr = average_prediction (u, i, neighbors_corr)\n",
    "avgpred_jmsd = average_prediction (u, i, neighbors_jmsd)\n",
    "print(avgpred_corr)\n",
    "print(avgpred_jmsd)"
   ]
  },
  {
   "cell_type": "markdown",
   "metadata": {
    "id": "qMGJlXIL6bOK"
   },
   "source": [
    "Una evolución simple de esta medida de agregación es la media ponderada, en la cual el voto de cada uno de los vecinos se pondera en función de su similaridad con el usuario sobre el que se está calculando la predicción:\n",
    "\n",
    "$$\\hat{r}_{u,i} = \\frac{\\sum_{n \\in N_{u,i}} sim(u,n) \\cdot r_{n,i}}{\\sum_{n \\in N_{u,i}} sim(u,n)} $$\n",
    "\n",
    "Donde $N_{u,i}$ representa el conjunto de *k* vecinos del usuario $u$ que votaron el item $i$ y $sim(u,n)$ simboliza la similaridad entre el usuario $u$ y el vecino $n$."
   ]
  },
  {
   "cell_type": "code",
   "execution_count": null,
   "metadata": {
    "id": "VZLaWCTH7OYc"
   },
   "outputs": [],
   "source": [
    "def weighted_average_prediction (u, i, neighbors, similarities):\n",
    "  num = 0\n",
    "  den = 0\n",
    "\n",
    "  for n in neighbors:\n",
    "    if n == None: break\n",
    "\n",
    "    if ratings[n][i] != None:\n",
    "      num += similarities[n] * ratings[n][i]\n",
    "      den += similarities[n]\n",
    "\n",
    "  if den > 0:\n",
    "    prediction = num / den\n",
    "    return prediction\n",
    "  else:\n",
    "    return None"
   ]
  },
  {
   "cell_type": "code",
   "execution_count": null,
   "metadata": {
    "colab": {
     "base_uri": "https://localhost:8080/"
    },
    "executionInfo": {
     "elapsed": 278,
     "status": "ok",
     "timestamp": 1712160401685,
     "user": {
      "displayName": "Cristian Ramírez Atencia",
      "userId": "02987040682137538367"
     },
     "user_tz": -120
    },
    "id": "slrfDzJtfJqh",
    "outputId": "3f4d245c-5e68-46d6-8989-8d0818c90d5c"
   },
   "outputs": [
    {
     "name": "stdout",
     "output_type": "stream",
     "text": [
      "1.0\n",
      "1.786271948118128\n"
     ]
    }
   ],
   "source": [
    "# Testing\n",
    "wavgpred_corr = weighted_average_prediction (u, i, neighbors_corr, similarities_corr)\n",
    "wavgpred_jmsd = weighted_average_prediction (u, i, neighbors_jmsd, similarities_jmsd)\n",
    "print(wavgpred_corr)\n",
    "print(wavgpred_jmsd)"
   ]
  },
  {
   "cell_type": "markdown",
   "metadata": {
    "id": "pt_lN0V3afJT"
   },
   "source": [
    "Utilizar la media o la media ponderada como medida de agregación tiene un problema, presupone que todos los usuarios tienen la misma percepción de la escala de votaciones prefijada. Sin embargo, sabemos que esto no es cierto. Existes determinados sesgos que hacen que los usuarios realicen votaciones haciendo una interpretación particular del sentido de su voto. Por ejemplo, existen usuarios más \"generosos\" con las votaciones que tienden a asignar siempre valoraciones altas y existen usuarios más \"tacaños\" con las votaciones que tienden a asignar siempre valoraciones más bajas. Que el primer usuario valore un item con 5 y el segundo usuario valore el mismo item con un 4 no quiere decir que al primero le haya gustado más el item. Cada usuario hace su propia interpretación de lo que significan los votos 4 y 5.\n",
    "\n",
    "Para incluir este fenómeno dentro de las medidas de agregación, es frecuente agregar las votaciones de los k vecinos mediante la **desviación respecto a la media** (*deviation from mean*):\n",
    "\n",
    "$$\\hat{r}_{u,i} = \\bar{r}_{u} + \\frac{ \\sum_{n \\in N_{u,i}} r_{n,i} - \\bar{r}_n }{\\#N_{u,i}}$$\n",
    "\n",
    "Donde $N_{u,i}$ representa el conjunto de *k* vecinos del usuario $u$ que votaron el item $i$, $\\bar{r}_u$ representa la media de votos del usuario $u$ y $\\bar{r}_n$ representa la media de votos del usuario $n$."
   ]
  },
  {
   "cell_type": "markdown",
   "metadata": {
    "id": "lFrM3nbkcGQ9"
   },
   "source": [
    "La implementación de esta medida de agregación podríamos hacerla del siguiente modo:"
   ]
  },
  {
   "cell_type": "code",
   "execution_count": null,
   "metadata": {
    "id": "IzGbdNPkcHF1"
   },
   "outputs": [],
   "source": [
    "def deviation_from_mean_prediction (u, i, neighbors):\n",
    "  acc = 0\n",
    "  count = 0\n",
    "\n",
    "  for n in neighbors:\n",
    "    if n == None: break\n",
    "\n",
    "    if ratings[n][i] != None:\n",
    "      avg_n = rating_average(n)\n",
    "      acc += ratings[n][i] - avg_n\n",
    "      count += 1\n",
    "\n",
    "  if count > 0:\n",
    "    avg_u = rating_average(u)\n",
    "    prediction = avg_u + acc / count\n",
    "    return prediction\n",
    "  else:\n",
    "    return None"
   ]
  },
  {
   "cell_type": "code",
   "execution_count": null,
   "metadata": {
    "colab": {
     "base_uri": "https://localhost:8080/"
    },
    "executionInfo": {
     "elapsed": 232,
     "status": "ok",
     "timestamp": 1712160411678,
     "user": {
      "displayName": "Cristian Ramírez Atencia",
      "userId": "02987040682137538367"
     },
     "user_tz": -120
    },
    "id": "cXXlvuBBfZ-m",
    "outputId": "9f5e683c-3d10-4ff3-851b-639372a97735"
   },
   "outputs": [
    {
     "name": "stdout",
     "output_type": "stream",
     "text": [
      "1.4452214452214451\n",
      "2.367587967587968\n"
     ]
    }
   ],
   "source": [
    "# Testing\n",
    "dfmpred_corr = deviation_from_mean_prediction (u, i, neighbors_corr)\n",
    "dfmpred_jmsd = deviation_from_mean_prediction (u, i, neighbors_jmsd)\n",
    "print(dfmpred_corr)\n",
    "print(dfmpred_jmsd)"
   ]
  },
  {
   "cell_type": "markdown",
   "metadata": {
    "id": "8Wz44ClHcgZy"
   },
   "source": [
    "## Cálculo de las recomendaciones\n",
    "\n",
    "El cálculo de las recomendaciones, por lo general, simplemente implica seleccionar los *N* items con una predicción más alta. Por ejemplo, si quisiéramos recomendar *N = 3* items a un usuario que tuviera las siguientes predicciones:\n",
    "\n",
    "|   \t| i1 \t| i2 \t| i3 \t| i4 \t| i5 \t| i6 \t| i7 \t| i8 \t| i9 \t| i10 \t|\n",
    "|:-:\t|:--:\t|:--:\t|:--:\t|:--:\t|:--:\t|:--:\t|:--:\t|:--:\t|:--:\t|-----\t|\n",
    "| u \t|   \t|  2,9 \t|    \t|  4,7 \t|  5,0 \t|    \t|  1,2 \t|    \t|   \t|  3,1 \t|\n",
    "\n",
    "Se le recomendarían a dicho usuario los items *i5*, *i4* e *i10*.\n",
    "\n",
    "En algunas ocasiones, es posible establecer filtros para acotar los items a recomendar. Por ejemplo: en un sistema de recomendación de restaurantes, es posible filtrar aquellos items que se encuentren a demasiada distancia del usuarios; en un sistema de recomendación de libros, el usuario puede filtrar el idioma o el género literario del libro; en una web de comercio electrónico es posible realizar recomendaciones sobre una categoría concreta...\n"
   ]
  },
  {
   "cell_type": "code",
   "execution_count": null,
   "metadata": {
    "id": "u-0i0xSrkcXX"
   },
   "outputs": [],
   "source": [
    "N = 5"
   ]
  },
  {
   "cell_type": "code",
   "execution_count": null,
   "metadata": {
    "id": "AHnvC0Dbj7_N"
   },
   "outputs": [],
   "source": [
    "def get_recommendations (predictions):\n",
    "  recommendations = [None for _ in range(N)]\n",
    "\n",
    "  for n in range(N):\n",
    "\n",
    "    max_value = 0\n",
    "    item = None\n",
    "\n",
    "    for i, value in enumerate(predictions):\n",
    "      if i not in recommendations and value != None and value > max_value:\n",
    "        max_value = value\n",
    "        item = i\n",
    "\n",
    "    recommendations[n] = item\n",
    "\n",
    "  return recommendations"
   ]
  },
  {
   "cell_type": "code",
   "execution_count": null,
   "metadata": {
    "id": "SkX1_9v3gwv5"
   },
   "outputs": [],
   "source": [
    "# Testing\n",
    "avg_predictions_corr = [None if ratings[u][i] != None else average_prediction(u, i, neighbors_corr) for i in range(NUM_ITEMS)]\n",
    "avg_predictions_jmsd = [None if ratings[u][i] != None else average_prediction(u, i, neighbors_jmsd) for i in range(NUM_ITEMS)]\n",
    "wavg_predictions_corr = [None if ratings[u][i] != None else weighted_average_prediction(u, i, neighbors_corr, similarities_corr) for i in range(NUM_ITEMS)]\n",
    "wavg_predictions_jmsd = [None if ratings[u][i] != None else weighted_average_prediction(u, i, neighbors_jmsd, similarities_jmsd) for i in range(NUM_ITEMS)]\n",
    "dfm_predictions_corr = [None if ratings[u][i] != None else deviation_from_mean_prediction(u, i, neighbors_corr) for i in range(NUM_ITEMS)]\n",
    "dfm_predictions_jmsd = [None if ratings[u][i] != None else deviation_from_mean_prediction(u, i, neighbors_jmsd) for i in range(NUM_ITEMS)]\n",
    "recommendations_avg_corr = get_recommendations(avg_predictions_corr)\n",
    "recommendations_avg_jmsd = get_recommendations(avg_predictions_jmsd)\n",
    "recommendations_wavg_corr = get_recommendations(wavg_predictions_corr)\n",
    "recommendations_wavg_jmsd = get_recommendations(wavg_predictions_jmsd)\n",
    "recommendations_dfm_corr = get_recommendations(dfm_predictions_corr)\n",
    "recommendations_dfm_jmsd = get_recommendations(dfm_predictions_jmsd)\n",
    "print(recommendations_avg_corr)\n",
    "print(recommendations_avg_jmsd)\n",
    "print(recommendations_wavg_corr)\n",
    "print(recommendations_wavg_jmsd)\n",
    "print(recommendations_dfm_corr)\n",
    "print(recommendations_dfm_jmsd)"
   ]
  },
  {
   "cell_type": "markdown",
   "metadata": {
    "id": "dkjnWQAXci_w"
   },
   "source": [
    "##Ejemplo de ejecución: cálculo del MAE\n",
    "\n",
    "En esta sección vamos a mostrar el ejemplo completo de cómo calcular el error medio absoluto (MAE) de las predicciones realizadas por el método de los *k*-vecinos.\n",
    "\n",
    "Para ello, lo primero que debemos hacer es calcular las predicciones para todos los items que haya recibido una votación de test:"
   ]
  },
  {
   "cell_type": "code",
   "execution_count": null,
   "metadata": {
    "id": "O-weSAoCf54x"
   },
   "outputs": [],
   "source": [
    "def has_test_ratings (u):\n",
    "  for i in range(NUM_ITEMS):\n",
    "    if test_ratings[u][i] != None:\n",
    "      return True\n",
    "  return False"
   ]
  },
  {
   "cell_type": "code",
   "execution_count": null,
   "metadata": {
    "id": "4DUFHu__JhZh"
   },
   "outputs": [],
   "source": [
    "avg_predictions_corr = [[None for _ in range(NUM_ITEMS)] for _ in range(NUM_USERS)]\n",
    "avg_predictions_jmsd = [[None for _ in range(NUM_ITEMS)] for _ in range(NUM_USERS)]\n",
    "wavg_predictions_corr = [[None for _ in range(NUM_ITEMS)] for _ in range(NUM_USERS)]\n",
    "wavg_predictions_jmsd = [[None for _ in range(NUM_ITEMS)] for _ in range(NUM_USERS)]\n",
    "dfm_predictions_corr = [[None for _ in range(NUM_ITEMS)] for _ in range(NUM_USERS)]\n",
    "dfm_predictions_jmsd = [[None for _ in range(NUM_ITEMS)] for _ in range(NUM_USERS)]\n",
    "\n",
    "# Rellenamos la matriz de predicciones\n",
    "for u in range(NUM_USERS):\n",
    "  if has_test_ratings(u):\n",
    "\n",
    "    # Calcular similaridades\n",
    "    similarities_corr = [None if u == v else correlation_similarity(u, v) for v in range(NUM_USERS)]\n",
    "    similarities_jmsd = [None if u == v else jmsd_similarity(u, v) for v in range(NUM_USERS)]\n",
    "\n",
    "    # Calcular vecinos\n",
    "    neighbors_corr = get_neighbors(u, similarities_corr)\n",
    "    neighbors_jmsd = get_neighbors(u, similarities_jmsd)\n",
    "\n",
    "    # Calcular predicciones sobre los items de test votados por el usuario\n",
    "    for i in range(NUM_ITEMS):\n",
    "      if test_ratings[u][i] != None:\n",
    "        avg_predictions_corr[u][i] = average_prediction(u, i, neighbors_corr)\n",
    "        avg_predictions_jmsd[u][i] = average_prediction(u, i, neighbors_jmsd)\n",
    "        wavg_predictions_corr[u][i] = weighted_average_prediction(u, i, neighbors_corr, similarities_corr)\n",
    "        wavg_predictions_jmsd[u][i] = weighted_average_prediction(u, i, neighbors_jmsd, similarities_jmsd)\n",
    "        dfm_predictions_corr[u][i] = deviation_from_mean_prediction(u, i, neighbors_corr)\n",
    "        dfm_predictions_jmsd[u][i] = deviation_from_mean_prediction(u, i, neighbors_jmsd)"
   ]
  },
  {
   "cell_type": "markdown",
   "metadata": {
    "id": "aY9mSfJ8JiFk"
   },
   "source": [
    "Y, a continuación, calculamos el MAE:"
   ]
  },
  {
   "cell_type": "code",
   "execution_count": null,
   "metadata": {
    "id": "EbO4UNuAbYAi"
   },
   "outputs": [],
   "source": [
    "def get_user_mae (u, predictions):\n",
    "  mae = 0\n",
    "  count = 0\n",
    "\n",
    "  for i in range(NUM_ITEMS):\n",
    "    if test_ratings[u][i] != None and predictions[u][i] != None:\n",
    "      mae += abs(test_ratings[u][i] - predictions[u][i])\n",
    "      count += 1\n",
    "\n",
    "  if count > 0:\n",
    "    return mae / count\n",
    "  else:\n",
    "    return None"
   ]
  },
  {
   "cell_type": "code",
   "execution_count": null,
   "metadata": {
    "id": "iWWoWTpObMun"
   },
   "outputs": [],
   "source": [
    "def get_mae (predictions):\n",
    "  mae = 0\n",
    "  count = 0\n",
    "\n",
    "  for u in range(NUM_USERS):\n",
    "    if has_test_ratings(u):\n",
    "      user_mae = get_user_mae(u, predictions)\n",
    "\n",
    "      if user_mae != None:\n",
    "        mae += user_mae\n",
    "        count += 1\n",
    "\n",
    "\n",
    "  if count > 0:\n",
    "    return mae / count\n",
    "  else:\n",
    "    return None"
   ]
  },
  {
   "cell_type": "code",
   "execution_count": null,
   "metadata": {
    "colab": {
     "base_uri": "https://localhost:8080/"
    },
    "executionInfo": {
     "elapsed": 1381,
     "status": "ok",
     "timestamp": 1682011163121,
     "user": {
      "displayName": "Cristian “El Cristianzillo” Ramírez Atencia",
      "userId": "02987040682137538367"
     },
     "user_tz": -120
    },
    "id": "WUnIY4ExETZ1",
    "outputId": "f44eab8c-70bb-44d3-a511-77a953643478"
   },
   "outputs": [
    {
     "name": "stdout",
     "output_type": "stream",
     "text": [
      "MAE Avg Prediction with Corr Similarity = 1.00923070340394\n",
      "MAE Avg Prediction with JMSD Similarity = 0.8951441319983335\n",
      "MAE Weighted Avg Prediction with Corr Similarity = 1.0097877459011548\n",
      "MAE Weighted Avg Prediction with JMSD Similarity = 0.8955826103175067\n",
      "MAE Dev from Mean Prediction with Corr Similarity = 1.008429618748919\n",
      "MAE Dev from Mean Prediction with JMSD Similarity = 0.828759929568012\n"
     ]
    }
   ],
   "source": [
    "mae_avg_corr = get_mae(avg_predictions_corr)\n",
    "mae_avg_jmsd = get_mae(avg_predictions_jmsd)\n",
    "mae_wavg_corr = get_mae(wavg_predictions_corr)\n",
    "mae_wavg_jmsd = get_mae(wavg_predictions_jmsd)\n",
    "mae_dfm_corr = get_mae(dfm_predictions_corr)\n",
    "mae_dfm_jmsd = get_mae(dfm_predictions_jmsd)\n",
    "print(\"MAE Avg Prediction with Corr Similarity = \" + str(mae_avg_corr))\n",
    "print(\"MAE Avg Prediction with JMSD Similarity = \" + str(mae_avg_jmsd))\n",
    "print(\"MAE Weighted Avg Prediction with Corr Similarity = \" + str(mae_wavg_corr))\n",
    "print(\"MAE Weighted Avg Prediction with JMSD Similarity = \" + str(mae_wavg_jmsd))\n",
    "print(\"MAE Dev from Mean Prediction with Corr Similarity = \" + str(mae_dfm_corr))\n",
    "print(\"MAE Dev from Mean Prediction with JMSD Similarity = \" + str(mae_dfm_jmsd))"
   ]
  },
  {
   "cell_type": "markdown",
   "metadata": {
    "id": "iLNfjaf-hEOE"
   },
   "source": [
    "# Cálculo del resto de medidas\n",
    "\n",
    "Calcula el resto de medidas (RMSE, Precision, Recall, F1 y nDCG) y compara las distintas combinaciones de funciones de similitud y de agregación para saber cuál combinación proporciona mejores recomendaciones."
   ]
  },
  {
   "cell_type": "code",
   "execution_count": null,
   "metadata": {
    "id": "pjM2NRK-hiRF"
   },
   "outputs": [],
   "source": [
    "def get_user_rmse (u, predictions):\n",
    "  mse = 0\n",
    "  count = 0\n",
    "\n",
    "  for i in range(NUM_ITEMS):\n",
    "    if test_ratings[u][i] != None and predictions[u][i] != None:\n",
    "      mse += (test_ratings[u][i] - predictions[u][i]) * (test_ratings[u][i] - predictions[u][i])\n",
    "      count += 1\n",
    "\n",
    "  if count > 0:\n",
    "    return math.sqrt(mse / count)\n",
    "  else:\n",
    "    return None"
   ]
  },
  {
   "cell_type": "code",
   "execution_count": null,
   "metadata": {
    "id": "x6XR5r0ppWDc"
   },
   "outputs": [],
   "source": [
    "def get_rmse (predictions):\n",
    "  rmse = 0\n",
    "  count = 0\n",
    "\n",
    "  for u in range(NUM_USERS):\n",
    "    if has_test_ratings(u):\n",
    "      user_rmse = get_user_rmse(u, predictions)\n",
    "\n",
    "      if user_rmse != None:\n",
    "        rmse += user_rmse\n",
    "        count += 1\n",
    "\n",
    "\n",
    "  if count > 0:\n",
    "    return rmse / count\n",
    "  else:\n",
    "    return None"
   ]
  },
  {
   "cell_type": "code",
   "execution_count": null,
   "metadata": {
    "colab": {
     "base_uri": "https://localhost:8080/"
    },
    "executionInfo": {
     "elapsed": 1658,
     "status": "ok",
     "timestamp": 1682014523851,
     "user": {
      "displayName": "Cristian “El Cristianzillo” Ramírez Atencia",
      "userId": "02987040682137538367"
     },
     "user_tz": -120
    },
    "id": "W0GFUYP5r0XM",
    "outputId": "b4e328eb-54bb-401b-e2ff-a8164a8e977d"
   },
   "outputs": [
    {
     "name": "stdout",
     "output_type": "stream",
     "text": [
      "RMSE Avg Prediction with Corr Similarity = 1.2145699492647715\n",
      "RMSE Avg Prediction with JMSD Similarity = 1.0887466613587198\n",
      "RMSE Weighted Avg Prediction with Corr Similarity = 1.215036240076365\n",
      "RMSE Weighted Avg Prediction with JMSD Similarity = 1.0878343827807315\n",
      "RMSE Dev from Mean Prediction with Corr Similarity = 1.1827392506731436\n",
      "RMSE Dev from Mean Prediction with JMSD Similarity = 1.0208335949966347\n"
     ]
    }
   ],
   "source": [
    "rmse_avg_corr = get_rmse(avg_predictions_corr)\n",
    "rmse_avg_jmsd = get_rmse(avg_predictions_jmsd)\n",
    "rmse_wavg_corr = get_rmse(wavg_predictions_corr)\n",
    "rmse_wavg_jmsd = get_rmse(wavg_predictions_jmsd)\n",
    "rmse_dfm_corr = get_rmse(dfm_predictions_corr)\n",
    "rmse_dfm_jmsd = get_rmse(dfm_predictions_jmsd)\n",
    "print(\"RMSE Avg Prediction with Corr Similarity = \" + str(rmse_avg_corr))\n",
    "print(\"RMSE Avg Prediction with JMSD Similarity = \" + str(rmse_avg_jmsd))\n",
    "print(\"RMSE Weighted Avg Prediction with Corr Similarity = \" + str(rmse_wavg_corr))\n",
    "print(\"RMSE Weighted Avg Prediction with JMSD Similarity = \" + str(rmse_wavg_jmsd))\n",
    "print(\"RMSE Dev from Mean Prediction with Corr Similarity = \" + str(rmse_dfm_corr))\n",
    "print(\"RMSE Dev from Mean Prediction with JMSD Similarity = \" + str(rmse_dfm_jmsd))"
   ]
  },
  {
   "cell_type": "code",
   "execution_count": null,
   "metadata": {
    "id": "w_PBaHQT1duU"
   },
   "outputs": [],
   "source": [
    "theta = 4"
   ]
  },
  {
   "cell_type": "code",
   "execution_count": null,
   "metadata": {
    "id": "eJD8TYBSh59T"
   },
   "outputs": [],
   "source": [
    "def get_user_precision (u, predictions):\n",
    "  precision = 0\n",
    "  count = 0\n",
    "  recommendations = get_recommendations(predictions[u])\n",
    "\n",
    "  for i in recommendations:\n",
    "    if i != None and test_ratings[u][i] != None:\n",
    "      precision += 1 if test_ratings[u][i] >= theta else 0\n",
    "      count += 1\n",
    "\n",
    "  if count > 0:\n",
    "    return precision / count\n",
    "  else:\n",
    "    return None"
   ]
  },
  {
   "cell_type": "code",
   "execution_count": null,
   "metadata": {
    "id": "TFRrBbCfpxXT"
   },
   "outputs": [],
   "source": [
    "def get_precision (predictions):\n",
    "  precision = 0\n",
    "  count = 0\n",
    "\n",
    "  for u in range(NUM_USERS):\n",
    "    if has_test_ratings(u):\n",
    "      user_precision = get_user_precision(u, predictions)\n",
    "\n",
    "      if user_precision != None:\n",
    "        precision += user_precision\n",
    "        count += 1\n",
    "\n",
    "\n",
    "  if count > 0:\n",
    "    return precision / count\n",
    "  else:\n",
    "    return None"
   ]
  },
  {
   "cell_type": "code",
   "execution_count": null,
   "metadata": {
    "colab": {
     "base_uri": "https://localhost:8080/"
    },
    "executionInfo": {
     "elapsed": 2574,
     "status": "ok",
     "timestamp": 1682015795892,
     "user": {
      "displayName": "Cristian “El Cristianzillo” Ramírez Atencia",
      "userId": "02987040682137538367"
     },
     "user_tz": -120
    },
    "id": "GUAHzacer1Gz",
    "outputId": "c43d300e-1e7b-4a85-b137-733573dd03fb"
   },
   "outputs": [
    {
     "name": "stdout",
     "output_type": "stream",
     "text": [
      "Precision Avg Prediction with Corr Similarity = 0.6281578947368416\n",
      "Precision Avg Prediction with JMSD Similarity = 0.6876923076923074\n",
      "Precision Weighted Avg Prediction with Corr Similarity = 0.6249999999999994\n",
      "Precision Weighted Avg Prediction with JMSD Similarity = 0.6897435897435894\n",
      "Precision Dev from Mean Prediction with Corr Similarity = 0.6239473684210521\n",
      "Precision Dev from Mean Prediction with JMSD Similarity = 0.6641025641025636\n"
     ]
    }
   ],
   "source": [
    "precision_avg_corr = get_precision(avg_predictions_corr)\n",
    "precision_avg_jmsd = get_precision(avg_predictions_jmsd)\n",
    "precision_wavg_corr = get_precision(wavg_predictions_corr)\n",
    "precision_wavg_jmsd = get_precision(wavg_predictions_jmsd)\n",
    "precision_dfm_corr = get_precision(dfm_predictions_corr)\n",
    "precision_dfm_jmsd = get_precision(dfm_predictions_jmsd)\n",
    "print(\"Precision Avg Prediction with Corr Similarity = \" + str(precision_avg_corr))\n",
    "print(\"Precision Avg Prediction with JMSD Similarity = \" + str(precision_avg_jmsd))\n",
    "print(\"Precision Weighted Avg Prediction with Corr Similarity = \" + str(precision_wavg_corr))\n",
    "print(\"Precision Weighted Avg Prediction with JMSD Similarity = \" + str(precision_wavg_jmsd))\n",
    "print(\"Precision Dev from Mean Prediction with Corr Similarity = \" + str(precision_dfm_corr))\n",
    "print(\"Precision Dev from Mean Prediction with JMSD Similarity = \" + str(precision_dfm_jmsd))"
   ]
  },
  {
   "cell_type": "code",
   "execution_count": null,
   "metadata": {
    "id": "KzNCSAB4iF3b"
   },
   "outputs": [],
   "source": [
    "def get_user_recall (u, predictions):\n",
    "  recall = 0\n",
    "  count = 0\n",
    "  recommendations = get_recommendations(predictions[u])\n",
    "\n",
    "  for i in range(NUM_ITEMS):\n",
    "    if test_ratings[u][i] != None and predictions[u][i] != None:\n",
    "      if test_ratings[u][i] >= theta:\n",
    "        recall += 1 if i in recommendations else 0\n",
    "        count += 1\n",
    "\n",
    "  if count > 0:\n",
    "    return recall / count\n",
    "  else:\n",
    "    return None"
   ]
  },
  {
   "cell_type": "code",
   "execution_count": null,
   "metadata": {
    "id": "gFl5jPclp7_n"
   },
   "outputs": [],
   "source": [
    "def get_recall (predictions):\n",
    "  recall = 0\n",
    "  count = 0\n",
    "\n",
    "  for u in range(NUM_USERS):\n",
    "    if has_test_ratings(u):\n",
    "      user_recall = get_user_recall(u, predictions)\n",
    "\n",
    "      if user_recall != None:\n",
    "        recall += user_recall\n",
    "        count += 1\n",
    "\n",
    "\n",
    "  if count > 0:\n",
    "    return recall / count\n",
    "  else:\n",
    "    return None"
   ]
  },
  {
   "cell_type": "code",
   "execution_count": null,
   "metadata": {
    "colab": {
     "base_uri": "https://localhost:8080/"
    },
    "executionInfo": {
     "elapsed": 6082,
     "status": "ok",
     "timestamp": 1682015400481,
     "user": {
      "displayName": "Cristian “El Cristianzillo” Ramírez Atencia",
      "userId": "02987040682137538367"
     },
     "user_tz": -120
    },
    "id": "wVkAv2s3r11x",
    "outputId": "67711f7c-da5d-4186-f930-c59c56e830db"
   },
   "outputs": [
    {
     "name": "stdout",
     "output_type": "stream",
     "text": [
      "Recall Avg Prediction with Corr Similarity = 0.8688305006142428\n",
      "Recall Avg Prediction with JMSD Similarity = 0.5559909977686648\n",
      "Recall Weighted Avg Prediction with Corr Similarity = 0.8668824486661909\n",
      "Recall Weighted Avg Prediction with JMSD Similarity = 0.5514566108031268\n",
      "Recall Dev from Mean Prediction with Corr Similarity = 0.8657731598160424\n",
      "Recall Dev from Mean Prediction with JMSD Similarity = 0.5397417491845959\n"
     ]
    }
   ],
   "source": [
    "recall_avg_corr = get_recall(avg_predictions_corr)\n",
    "recall_avg_jmsd = get_recall(avg_predictions_jmsd)\n",
    "recall_wavg_corr = get_recall(wavg_predictions_corr)\n",
    "recall_wavg_jmsd = get_recall(wavg_predictions_jmsd)\n",
    "recall_dfm_corr = get_recall(dfm_predictions_corr)\n",
    "recall_dfm_jmsd = get_recall(dfm_predictions_jmsd)\n",
    "print(\"Recall Avg Prediction with Corr Similarity = \" + str(recall_avg_corr))\n",
    "print(\"Recall Avg Prediction with JMSD Similarity = \" + str(recall_avg_jmsd))\n",
    "print(\"Recall Weighted Avg Prediction with Corr Similarity = \" + str(recall_wavg_corr))\n",
    "print(\"Recall Weighted Avg Prediction with JMSD Similarity = \" + str(recall_wavg_jmsd))\n",
    "print(\"Recall Dev from Mean Prediction with Corr Similarity = \" + str(recall_dfm_corr))\n",
    "print(\"Recall Dev from Mean Prediction with JMSD Similarity = \" + str(recall_dfm_jmsd))"
   ]
  },
  {
   "cell_type": "code",
   "execution_count": null,
   "metadata": {
    "id": "cQlYJN_xiI8R"
   },
   "outputs": [],
   "source": [
    "def get_user_f1 (u, predictions):\n",
    "  precision = get_user_precision(u, predictions)\n",
    "  recall = get_user_recall(u, predictions)\n",
    "\n",
    "  if precision == None or recall == None:\n",
    "    return None\n",
    "  elif precision == 0 and recall == 0:\n",
    "    return 0\n",
    "  else:\n",
    "    return 2 * precision * recall / (precision + recall)"
   ]
  },
  {
   "cell_type": "code",
   "execution_count": null,
   "metadata": {
    "id": "P0f19jqtp_8e"
   },
   "outputs": [],
   "source": [
    "def get_f1 (predictions):\n",
    "  f1 = 0\n",
    "  count = 0\n",
    "\n",
    "  for u in range(NUM_USERS):\n",
    "    if has_test_ratings(u):\n",
    "      user_f1 = get_user_f1(u, predictions)\n",
    "\n",
    "      if user_f1 != None:\n",
    "        f1 += user_f1\n",
    "        count += 1\n",
    "\n",
    "\n",
    "  if count > 0:\n",
    "    return f1 / count\n",
    "  else:\n",
    "    return None"
   ]
  },
  {
   "cell_type": "code",
   "execution_count": null,
   "metadata": {
    "colab": {
     "base_uri": "https://localhost:8080/"
    },
    "executionInfo": {
     "elapsed": 5830,
     "status": "ok",
     "timestamp": 1682015908397,
     "user": {
      "displayName": "Cristian “El Cristianzillo” Ramírez Atencia",
      "userId": "02987040682137538367"
     },
     "user_tz": -120
    },
    "id": "1IJikR4pr2gH",
    "outputId": "405f4657-6adf-4c0a-b68d-02d429e86d6f"
   },
   "outputs": [
    {
     "name": "stdout",
     "output_type": "stream",
     "text": [
      "F1 Avg Prediction with Corr Similarity = 0.7218337038142232\n",
      "F1 Avg Prediction with JMSD Similarity = 0.5342544051079944\n",
      "F1 Weighted Avg Prediction with Corr Similarity = 0.7192647449952644\n",
      "F1 Weighted Avg Prediction with JMSD Similarity = 0.5324311280164647\n",
      "F1 Dev from Mean Prediction with Corr Similarity = 0.7183381057975211\n",
      "F1 Dev from Mean Prediction with JMSD Similarity = 0.5174990149479768\n"
     ]
    }
   ],
   "source": [
    "f1_avg_corr = get_f1(avg_predictions_corr)\n",
    "f1_avg_jmsd = get_f1(avg_predictions_jmsd)\n",
    "f1_wavg_corr = get_f1(wavg_predictions_corr)\n",
    "f1_wavg_jmsd = get_f1(wavg_predictions_jmsd)\n",
    "f1_dfm_corr = get_f1(dfm_predictions_corr)\n",
    "f1_dfm_jmsd = get_f1(dfm_predictions_jmsd)\n",
    "print(\"F1 Avg Prediction with Corr Similarity = \" + str(f1_avg_corr))\n",
    "print(\"F1 Avg Prediction with JMSD Similarity = \" + str(f1_avg_jmsd))\n",
    "print(\"F1 Weighted Avg Prediction with Corr Similarity = \" + str(f1_wavg_corr))\n",
    "print(\"F1 Weighted Avg Prediction with JMSD Similarity = \" + str(f1_wavg_jmsd))\n",
    "print(\"F1 Dev from Mean Prediction with Corr Similarity = \" + str(f1_dfm_corr))\n",
    "print(\"F1 Dev from Mean Prediction with JMSD Similarity = \" + str(f1_dfm_jmsd))"
   ]
  },
  {
   "cell_type": "code",
   "execution_count": null,
   "metadata": {
    "id": "iMDWDRU29-Tn"
   },
   "outputs": [],
   "source": [
    "def get_ordered_test_items(u):\n",
    "  num_items = sum(x is not None for x in test_ratings[u])\n",
    "  items = [None for _ in range(num_items)]\n",
    "\n",
    "  for n in range(num_items):\n",
    "\n",
    "    max_value = 0\n",
    "    item = None\n",
    "\n",
    "    for i,value in enumerate(test_ratings[u]):\n",
    "      if i not in items and value != None and value > max_value:\n",
    "        max_value = value\n",
    "        item = i\n",
    "\n",
    "    items[n] = item\n",
    "\n",
    "  return items"
   ]
  },
  {
   "cell_type": "code",
   "execution_count": null,
   "metadata": {
    "id": "eMCUOuwUiQmA"
   },
   "outputs": [],
   "source": [
    "def get_user_idcg (u):\n",
    "  items = get_ordered_test_items(u)\n",
    "  idcg = 0\n",
    "\n",
    "  for pos, i in enumerate(items):\n",
    "    idcg += (2 ** test_ratings[u][i] - 1) / math.log(pos+2, 2)\n",
    "\n",
    "  return idcg"
   ]
  },
  {
   "cell_type": "code",
   "execution_count": null,
   "metadata": {
    "id": "_WHg0opXx3du"
   },
   "outputs": [],
   "source": [
    "def get_user_dcg (u, recommendations):\n",
    "  dcg = 0\n",
    "\n",
    "  for pos, i in enumerate(recommendations):\n",
    "    if i != None and test_ratings[u][i] != None:\n",
    "      dcg += (2 ** test_ratings[u][i] - 1) / math.log(pos+2, 2)\n",
    "\n",
    "  return dcg"
   ]
  },
  {
   "cell_type": "code",
   "execution_count": null,
   "metadata": {
    "id": "l4Vz0UTVvymf"
   },
   "outputs": [],
   "source": [
    "def get_user_ndcg (u, predictions):\n",
    "  recommendations = get_recommendations(predictions[u])\n",
    "  dcg = get_user_dcg(u, recommendations)\n",
    "  idcg = get_user_idcg(u)\n",
    "  if idcg == 0:\n",
    "    return 0\n",
    "  else:\n",
    "    return dcg / idcg"
   ]
  },
  {
   "cell_type": "code",
   "execution_count": null,
   "metadata": {
    "id": "7Krf2lPdqNpJ"
   },
   "outputs": [],
   "source": [
    "def get_ndcg (predictions):\n",
    "  ndcg = 0\n",
    "  count = 0\n",
    "\n",
    "  for u in range(NUM_USERS):\n",
    "    if has_test_ratings(u):\n",
    "      user_ndcg = get_user_ndcg(u, predictions)\n",
    "\n",
    "      if user_ndcg != None:\n",
    "        ndcg += user_ndcg\n",
    "        count += 1\n",
    "\n",
    "\n",
    "  if count > 0:\n",
    "    return ndcg / count\n",
    "  else:\n",
    "    return None"
   ]
  },
  {
   "cell_type": "code",
   "execution_count": null,
   "metadata": {
    "colab": {
     "base_uri": "https://localhost:8080/"
    },
    "executionInfo": {
     "elapsed": 33093,
     "status": "ok",
     "timestamp": 1682030168986,
     "user": {
      "displayName": "Cristian “El Cristianzillo” Ramírez Atencia",
      "userId": "02987040682137538367"
     },
     "user_tz": -120
    },
    "id": "7nr-levUr3Uq",
    "outputId": "9bea6802-d144-45e6-d647-f4df46701975"
   },
   "outputs": [
    {
     "name": "stdout",
     "output_type": "stream",
     "text": [
      "nDCG Avg Prediction with Corr Similarity = 0.4159898617717814\n",
      "nDCG Avg Prediction with JMSD Similarity = 0.5458288843769105\n",
      "nDCG Weighted Avg Prediction with Corr Similarity = 0.4149921091918133\n",
      "nDCG Weighted Avg Prediction with JMSD Similarity = 0.5447775527663378\n",
      "nDCG Dev from Mean Prediction with Corr Similarity = 0.4137352449188077\n",
      "nDCG Dev from Mean Prediction with JMSD Similarity = 0.5336847977402612\n"
     ]
    }
   ],
   "source": [
    "ndcg_avg_corr = get_ndcg(avg_predictions_corr)\n",
    "ndcg_avg_jmsd = get_ndcg(avg_predictions_jmsd)\n",
    "ndcg_wavg_corr = get_ndcg(wavg_predictions_corr)\n",
    "ndcg_wavg_jmsd = get_ndcg(wavg_predictions_jmsd)\n",
    "ndcg_dfm_corr = get_ndcg(dfm_predictions_corr)\n",
    "ndcg_dfm_jmsd = get_ndcg(dfm_predictions_jmsd)\n",
    "print(\"nDCG Avg Prediction with Corr Similarity = \" + str(ndcg_avg_corr))\n",
    "print(\"nDCG Avg Prediction with JMSD Similarity = \" + str(ndcg_avg_jmsd))\n",
    "print(\"nDCG Weighted Avg Prediction with Corr Similarity = \" + str(ndcg_wavg_corr))\n",
    "print(\"nDCG Weighted Avg Prediction with JMSD Similarity = \" + str(ndcg_wavg_jmsd))\n",
    "print(\"nDCG Dev from Mean Prediction with Corr Similarity = \" + str(ndcg_dfm_corr))\n",
    "print(\"nDCG Dev from Mean Prediction with JMSD Similarity = \" + str(ndcg_dfm_jmsd))"
   ]
  },
  {
   "cell_type": "markdown",
   "metadata": {
    "id": "gOzPrmkoXGea"
   },
   "source": [
    "## Referencias\n",
    "\n",
    "Bobadilla, J., Serradilla, F., & Bernal, J. (2010). **A new collaborative filtering metric that improves the behavior of recommender systems**. Knowledge-Based Systems, 23(6), 520-528."
   ]
  }
 ],
 "metadata": {
  "colab": {
   "provenance": []
  },
  "kernelspec": {
   "display_name": "Python 3",
   "language": "python",
   "name": "python3"
  },
  "language_info": {
   "codemirror_mode": {
    "name": "ipython",
    "version": 3
   },
   "file_extension": ".py",
   "mimetype": "text/x-python",
   "name": "python",
   "nbconvert_exporter": "python",
   "pygments_lexer": "ipython3",
   "version": "3.12.5"
  }
 },
 "nbformat": 4,
 "nbformat_minor": 0
}
