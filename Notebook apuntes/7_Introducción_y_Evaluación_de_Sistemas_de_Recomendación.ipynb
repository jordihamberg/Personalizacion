{
  "nbformat": 4,
  "nbformat_minor": 0,
  "metadata": {
    "colab": {
      "provenance": []
    },
    "kernelspec": {
      "display_name": "Python 3",
      "language": "python",
      "name": "python3"
    }
  },
  "cells": [
    {
      "cell_type": "markdown",
      "metadata": {
        "id": "abIPUQ1LBeq_"
      },
      "source": [
        "# Introducción a los Sistemas de Recomendación\n",
        "\n",
        "Cuenta la leyenda que Tántalo, hijo de Zeus y la oceanide Pluto, después de muerto fue eternamente torturado en el Tártaro por los crímenes que había cometido. Su castigo consistió en estar en un lago con el agua a la altura de la barbilla, bajo un árbol de ramas bajas repletas de frutas. Cada vez que Tántalo, desesperado por el hambre o la sed, intenta tomar una fruta o sorber algo de agua, estos se retiran inmediatamente de su alcance.\n",
        "\n",
        "La sociedad digital actual esta \"condenada\" a sufrir este mismo castigo. La llegada de internet, las redes sociales y el internet de las cosas ha provocado que los seres humanos dispongan a su alcance de mucha más información de la que son capaces de asimilar. Cada día se suben cientos de horas de nuevos contenidos a Netflix y Youtube. La lista de canciones de Spotify es interminable. Es imposible leer todos los *tweets* publicados por los *influencers* o estar al tanto de las últimas novedades de los *bloggers* de moda. Se necesitan herramientas que simplifiquen el proceso de acceso y consumo de la información disponible en la red.\n",
        "\n",
        "Un **sistema de recomendación** se define como un sistema inteligente capaz de proporcionar a cada usuario una lista personalizada con los productos que pueden resultar de su interés. Los sistemas de recomendación pueden emplearse para proporcionar recomendaciones sobre una amplia variedad de tipos de productos. Por ejemplo, podemos encontrar sistemas de recomendación de, entre otros:\n",
        "\n",
        "- Películas\n",
        "- Libros\n",
        "- Restaurantes\n",
        "- Destinos vacacionales\n",
        "- Productos de *e-commerce*\n",
        "- Recursos educativos\n",
        "\n",
        "En general, todos los sistemas de recomendación se construirán a partir de 3 elementos esenciales:\n",
        "\n",
        "- **Usuarios**: son los destinatarios de las recomendaciones. El sistema de recomendación deberá analizar su actividad en el pasado para poder inferir sus preferencias y, por tanto, realizar las recomendaciones oportunas.\n",
        "- **Items**: son los productos a recomendar. El sistema de recomendación extraerá las características fundamentales de cada item para recomendarlo a aquellos usuarios a los que pueda interesarles.\n",
        "- **Votaciones**: cuantifican el interés de un determinado usuario por un determinado item. Estas votaciones pueden ser explícitas  (el usuario expresa su interés por un item en una escala preestablecida) o implícitas (el sistema infiere la preferencia de un usuario por un item función de su interacción con el mismo).\n",
        "\n",
        "La siguiente figura representa los diferentes niveles de información sobre los que puede trabajar un sistema de recomendación:\n",
        "\n",
        "<img src=\"https://i.ibb.co/gRpYJZp/recsys-data.png\" alt=\"Datos empleados por los sistemas de recomendación\" style=\"width: 50%;\">\n",
        "\n",
        "  \n",
        "Como podemos observar la figura está dividida en 4 niveles: memoria, contenidos, información social y contexto. Cada nivel está, a su vez, dividido en 4 sectores determinados por si la información proviene de un usuario o un item y si esta ha sido obtenida de forma explícita o implícita.\n",
        "\n",
        "De este modo, el **nivel basado en memoria** recoge las votaciones que los usuarios realizan sobre los items. Cuando se tratan de votaciones explicitas, los usuarios indican su grado de afinidad con un determinado item. Por lo general, estas votaciones se mueven en un ranking preestablecido: me gusta/no me gusta, de 1 a 5 estrellas (con o sin medios puntos) ó valoración de 1 a 10 puntos. Por contra, cuando se trata de votaciones implícitas, el sistema debe inferir el interés de un usuario por un determinado item basándose en la interacción  del usuario con dicho item. Por ejemplo, en un servicio de música, podría inferirse que a un usuario le interesa una canción si la escucha muchas veces o si la añade a una *playlist*. Debido a la generalidad de este nivel, la mayoría de los sistemas de recomendación se construyen  empleando únicamente la información de las votaciones.\n",
        "\n",
        "El **nivel basado en contenidos** agrega información adicional que puede mejorar la calidad de las recomendaciones proporcionadas. Dentro de este nivel encontramos la información demográfica que los usuarios añaden manualmente a sus perfiles: sexo, edad, profesión, nacionalidad, etc. También podemos encontrar información referente a la actividad de los usuarios en la aplicación: ¿cuántas veces se conecta el usuario? ¿cuándo suele hacerlo? Desde el punto de vista de los items, también disponemos de información explicita (descripciones, características, precios, etc.) e información explicita (¿cuánta gente accede a un item? ¿Cuándo lo hacen? ¿Es tendencia?).\n",
        "\n",
        "El **nivel basado en información social** añade los datos referentes a la *web social* a los sistemas de recomendaciones. Por ejemplo, los usuarios pueden disponer de amigos, seguidores, reputación, etc. obtenida tanto de forma explícita como implícita. Por su parte, los items reciben etiquetas (*tags*) por parte de los usuarios y se clasifican en función de sus *likes*, *dislikes*, *retweets*, *refs*, etc. Esta información permite a los sistemas de recomendación conocer mejor a sus usuarios mediante su interacción con otros usuarios del sistema.\n",
        "\n",
        "El **nivel basado en contexto** rehuye de la información explicita y busca incorporar nueva información basada en el internet de las cosas (*Internet of Things*). Por lo tanto, en este nivel se recibe información personal de los usuarios basada en su geolocalización, sus parámetros biométricos o sus hábitos de vida. De los items puede monitorizarse también su integración con el medio ambiente (en caso de que proceda) y detectar su ubicación geográfica, la climatología u otros sensores para medir propiedades físicas. Este nivel permite realizar recomendaciones mucho más precisas como, por ejemplo, \"*recomiéndame restaurantes cercanos que me proporcionen comida adecuada para un día caluroso*."
      ]
    },
    {
      "cell_type": "markdown",
      "metadata": {
        "id": "4Ah_0p2AUxcC"
      },
      "source": [
        "## Clasificación de los sistemas de recomendación\n",
        "\n",
        "Es frecuente denominar los sistemas de recomendación como filtros, ya que estos dejan pasar aquella información que consideran relevante para el usuario y bloquean aquellos items que no se ajustan a las preferencias de este.\n",
        "\n",
        "Ateniendo a esta definición de filtrado, los sistemas de recomendación se clasifican en:\n",
        "\n",
        "- **Filtrado demográfico**. Se proporcionan recomendaciones atendiendo a las características demográficas de los usuarios. Este tipo de sistemas presuponen que usuarios con similares características demográficas dispondrán de intereses similares. Este tipo de filtrado podría, por ejemplo, proporcionar las mismas recomendaciones a usuarios que fueran de la misma edad y vivieran en la misma población. Por lo general, los sistemas de filtrado demográfico proporcionan recomendaciones poco innovadoras y, en general, desacertadas, ya que es extraño disponer de suficiente información demográfica de los usuarios, esta información suele resultar poco fiable y, además, no es habitual que dos personas compartan intereses sólo por tener características demográficas similares.\n",
        "\n",
        "- **Filtrado basado en contenido (*content based filtering*)**. Se proporcionan como recomendaciones aquellos items que se consideran similares a los que el usuario indicó que le gustaban en el pasado. Para ello, los sistemas de filtrado basado en contenido determinan la similaridad entre dos items utilizando su \"contenido\", es decir, las características que describen cada item. Esta similaridad suele determinarse mediante heurísticos, aunque recientemente se ha popularizado determinar la similaridad de dos items en base a información no estructurada. Por ejemplo, el algoritmo de *Latent Dirichlet Allocation (LDA)* permite conocer la similaridad que tienen dos textos. Es habitual utilizar *LDA* para comparar las descripciones existentes de dos items y, posteriormente, recomendar al usuario aquellos items que tienen una descripción similar a aquella que tenían sus items preferidos.\n",
        "\n",
        "- **Filtrado colaborativo (*collaborative filtering*)**. Se proporcionan recomendaciones en base a la actividad de una amplia comunidad de usuarios que valora un conjunto cerrado de items. Este tipo de filtrado basa su funcionamiento en el comportamiento habitual de las personas para recibir recomendaciones: cuando una persona quiere ir al cine a ver una película, pregunta a aquellos amigos con los que comparte intereses su opinión acerca de dicha película. El filtrado colaborativo realiza estas \"preguntas\" empleando una base de datos en la que existen millones de opiniones de miles de usuarios sobre miles de items. El filtrado colaborativo se encarga de buscar patrones de votaciones similares para poder predecir aquellos items que el usuario no ha votado y, por tanto, proporcionarle recomendaciones."
      ]
    },
    {
      "cell_type": "markdown",
      "source": [
        "# Filtrado Colaborativo\n",
        "\n",
        "Debido a su simplicidad y su buen rendimiento, el tipo de filtrado más utilizado es el **filtrado colaborativo**. Esta implementación de los sistemas de recomendación busca proporcionar recomendaciones basándose en la idea de que usuarios que compartieron intereses en el pasado los compartirán también en el futuro. Los sistemas de filtrado colaborativo se construyen en base a una amplia comunidad de usuarios que expresa su opinión, de forma explícita o implícita, sobre un conjunto prefijado de items. Generalmente, esta información viene representada por una matriz en la que las filas son los **usuarios**, las columnas son los **items** y las celdas contienen el valor del **voto** que un usuario ha emitido sobre un item.\n",
        "\n",
        "A esta matriz se la conoce como **matriz de votaciones** y, generalmente, nos referimos a ella como ***R***, por el termino en inglés *ratings*. La principal característica de esta matriz es su elevado grado de dispersión, es decir, la gran mayoría de sus celdas estarán vacías. Este fenómeno se debe a que, por lo general, los usuarios no votan la mayoría de los items existentes en el sistema. Por ejemplo, es impensable que una persona haya visto todas las películas que existen, que un usuario compre todos los productos de Amazon o que un estudiante curse todas las materias de una universidad.\n",
        "\n",
        "La ausencia de voto (generalmente la representaremos con el símbolo $\\bullet$) no significa que al usuario no le haya gustado un item. El *no-voto* suele deberse a dos factores: **el usuario no conocía el item** o **al usuario no le interesa el item**. Cuando trabajamos con sistemas de recomendación asumimos que si un usuario que no ha valorado un item es porque no lo conocía.\n",
        "\n",
        "Al trabajar sobre esta hipótesis, simplificamos el problema del filtrado colaborativo a, simplemente, rellenar los huecos existentes en la matriz de votaciones en función del comportamiento de la comunidad de usuarios que compone sistema de filtrado colaborativo. Ilustremos esto con un ejemplo.\n",
        "\n",
        "Dada la siguiente matriz de votaciones... ¿con que nota valorará el usuario *u3* al item *i5*?\n",
        "\n",
        "| R   \t| i1 \t| i2 \t| i3 \t| i4 \t| i5 \t| i6 \t| i7 \t| i8 \t| i9 \t|\n",
        "|:--:\t|:--:\t|:--:\t|:--:\t|:--:\t|:--:\t|:--:\t|:--:\t|:--:\t|:--:\t|\n",
        "| u1 \t|  5 \t|  5 \t|  5 \t|  5 \t|  5 \t|  5 \t|  5 \t|  5 \t|  5 \t|\n",
        "| u2 \t|  5 \t|  5 \t|  5 \t|  5 \t|  5 \t|  5 \t|  5 \t|  5 \t|  5 \t|\n",
        "| u3 \t|  5 \t|  5 \t|  5 \t|  5 \t|  ? \t|  5 \t|  5 \t|  5 \t|  5 \t|\n",
        "| u4 \t|  5 \t|  5 \t|  5 \t|  5 \t|  5 \t|  5 \t|  5 \t|  5 \t|  5 \t|\n",
        "| u5 \t|  5 \t|  5 \t|  5 \t|  5 \t|  5 \t|  5 \t|  5 \t|  5 \t|  5 \t|\n",
        "\n",
        "Parece lógico pensar que, en este caso, el usuario votará dicho item con un 5, ya que todos los demás votos son un 5.\n",
        "\n",
        "¿Y si la matriz fuese la siguiente?\n",
        "\n",
        "| R   \t| i1 \t| i2 \t| i3 \t| i4 \t| i5 \t| i6 \t| i7 \t| i8 \t| i9 \t|\n",
        "|:--:\t|:--:\t|:--:\t|:--:\t|:--:\t|:--:\t|:--:\t|:--:\t|:--:\t|:--:\t|\n",
        "| u1 \t|  5 \t|  5 \t|  5 \t|  5 \t|  5 \t|  5 \t|  5 \t|  5 \t|  5 \t|\n",
        "| u2 \t|  5 \t|  5 \t|  5 \t|  5 \t|  5 \t|  5 \t|  5 \t|  5 \t|  5 \t|\n",
        "| u3 \t|  5 \t|  5 \t|  5 \t|  5 \t|  ? \t|  5 \t|  5 \t|  5 \t|  5 \t|\n",
        "| u4 \t|  1 \t|  1 \t|  1 \t|  1 \t|  1 \t|  1 \t|  1 \t|  1 \t|  1 \t|\n",
        "| u5 \t|  1 \t|  1 \t|  1 \t|  1 \t|  1 \t|  1 \t|  1 \t|  1 \t|  1 \t|\n",
        "\n",
        "De nuevo, mantenemos la conjetura de que el voto será un 5, ya que los usuarios *u1* y *u2* han coincidido en todas las votaciones con el usuario *u3* y estos han indicado que el item *i5* debe votarse con un 5. Por contra, los usuarios *u4* y *u5* han votado lo contrario que el usuario *u3* y, por tanto, no intervienen en el proceso de la predicción.\n",
        "\n",
        "¿Pero qué pasaría si la matriz de votaciones fuese la siguiente?\n",
        "\n",
        "| R   \t| i1 \t| i2 \t| i3 \t| i4 \t| i5 \t| i6 \t| i7 \t| i8 \t| i9 \t|\n",
        "|:--:\t|:--:\t|:--:\t|:--:\t|:--:\t|:--:\t|:--:\t|:--:\t|:--:\t|:--:\t|\n",
        "| u1 \t|  5 \t|  5 \t|  5 \t|  5 \t|  5 \t|  5 \t|  5 \t|  5 \t|  5 \t|\n",
        "| u2 \t|  5 \t|  5 \t|  5 \t|  5 \t|  5 \t|  5 \t|  5 \t|  5 \t|  5 \t|\n",
        "| u3 \t|  1 \t|  1 \t|  1 \t|  1 \t|  ? \t|  1 \t|  1 \t|  1 \t|  1 \t|\n",
        "| u4 \t|  1 \t|  1 \t|  1 \t|  1 \t|  1 \t|  1 \t|  1 \t|  1 \t|  1 \t|\n",
        "| u5 \t|  1 \t|  1 \t|  1 \t|  1 \t|  1 \t|  1 \t|  1 \t|  1 \t|  1 \t|\n",
        "\n",
        "Siguiendo un razonamiento análogo al anterior, otorgaríamos a dicha predicción un 1.\n",
        "\n",
        "¿Y si la matriz de votacionesfuera esta?\n",
        "\n",
        "| R   \t| i1 \t| i2 \t| i3 \t| i4 \t| i5 \t| i6 \t| i7 \t| i8 \t| i9 \t|\n",
        "|:--:\t|:--:\t|:--:\t|:--:\t|:--:\t|:--:\t|:--:\t|:--:\t|:--:\t|:--:\t|\n",
        "| u1 \t|  5 \t|  5 \t|  5 \t|  5 \t|  5 \t|   \t|   \t|   \t|   \t|\n",
        "| u2 \t|  5 \t|  5 \t|  5 \t|  5 \t|  5 \t|   \t|   \t|   \t|   \t|\n",
        "| u3 \t|  5 \t|  5 \t|  5 \t|  5 \t|  ? \t|  1 \t|  1 \t|  1 \t|  1 \t|\n",
        "| u4 \t|   \t|   \t|   \t|   \t|  1 \t|  1\t|  1 \t|  1 \t|  1 \t|\n",
        "| u5 \t|   \t|   \t|   \t|   \t|  1 \t|  1 \t|  1 \t|  1 \t|  1 \t|\n",
        "\n",
        "Por un lado, los usuarios *u1* y *u2* están \"forzando\" a que la predicción sea un 5, pero por otro, los usuarios *u4* y *u5* están forzando a que la predicción sea 1. En este caso, parece sensato admitir, que no hay evidencias para saber si el item *i5* gustará o no al usuario *u3* y, por tanto, el sistema le asignará una predicción de 3.\n",
        "\n",
        "Este sencillo ejemplo resume a la perfección cómo funciona el filtrado colaborativo. Estos algoritmos analizan las tendencias y patrones de comportamiento existentes en la matriz de votaciones a infieren las votaciones que harán los usuarios a aquellos items que aún no han valorado. A estas inferencias les llamaremos **predicciones**.\n",
        "\n",
        "En función de cómo se calculen las predicciones subclasificaremos los algoritmos de filtrado colaborativo en dos categorías:\n",
        "\n",
        "- **Métodos basados en memoria**. Construyen las predicciones directamente sobre la matriz de votaciones. La implementación más popular es el método de los *K*-vecinos (*K Nearest Neighbors, KNN*), en el cual se busca encontrar los *k* usuarios más similares a uno dado para encontrar las recomendaciones a partir de estos.\n",
        "\n",
        "- **Métodos basados en modelos**. Calculan las predicciones a partir de un modelo construido sobre la matriz de votaciones. Se han realizado multitud de modelos con este fin, pero, sin duda, el que mejores resultados ha reportado es el modelo de factorización matricial (*Matrix Factorization, MF*). En este modelo se plantea la hipótesis de que las votaciones de los usuarios están condicionadas a un conjunto de factores ocultos inherentes al tipo de items a valorar.\n",
        "\n",
        "\n",
        "\n"
      ],
      "metadata": {
        "id": "h-Xt3ryF0KpU"
      }
    },
    {
      "cell_type": "markdown",
      "metadata": {
        "id": "fiVyQRgu2U7j"
      },
      "source": [
        "# Evaluación de los Sistemas de Recomendación\n",
        "\n",
        "Para poder determinar la bondad de los resultados proporcionados por un sistema de recomendación, existe un conjunto de medidas de calidad estandarizadas. Estas medidas tienen por objetivo medir la calidad de las recomendaciones proporcionadas por el sistema de recomendación y compararlo con otros sistemas de recomendación para determinar cuál es el que mejor se ajusta nuestras necesidades.\n",
        "\n",
        "Tradicionalmente, las medidas de calidad se empleaban para medir la bondad de las predicciones, las recomendaciones y las listas de recomendaciones. Sin embargo, en los últimos tiempos, se ha detectado una importante carencia de estas medidas para evaluar otros factores más subjetivos de las recomendaciones. Estas nuevas medidas se engloban dentro de las denominadas \"*beyond accuracy*\", cuya traducción más literal podría considerarse como \"*más allá de la precisión*\".\n",
        "\n",
        "Dentro de estas medidas podemos encontrar:\n",
        "\n",
        "- ***Novelty***. Permite evaluar la novedad de las recomendaciones. Por ejemplo, un sistema de recomendación que indique que nos va a gustar *El Padrino* si no la hemos valorado se considera poco novedoso, sin embargo, si nos indica que nos va a gustar una película de cine alternativo que poca gente conoce se considera muy novedoso.\n",
        "\n",
        "- ***Stability***. Esta medida busca medir la estabilidad del sistema de recomendación frente a la nueva información incorporada al mismo. Lo deseable es que un sistema que ya disponga de cientos de miles de votos no varíe demasiado las recomendaciones proporcioandas cuando se incorporen unos pocos votos nuevos.\n",
        "\n",
        "- ***Diversity***. Esta medida se centra en evaluar la diversidad en las recomendaciones. Por ejemplo, si estamos buscando un restaurante para ir a cenar, no queremos que el sistema de recomendación nos proporciones únicamente restaurantes italianos, es preferible que nos indique cierta variedad de comida para que podamos elegir la que más nos interese.\n",
        "\n",
        "Con el fin de replicar de la forma más certera posible un escenario de recomendación real, es necesario dividir el *dataset* empleado para las recomendaciones en dos: **entrenamiento** y **test**. La parte de **entrenamiento** permitirá \"ajustar\" el sistema para que pueda proporcionar recomendaciones. La parte de **test** permitirá comparar las votaciones reales de los usuarios con las recomendaciones proporcionadas por el sistema para medir la calidad de las mismas.\n",
        "\n",
        "En la mayoría de los problemas de aprendizaje automático, esta división es trivial. Sin embargo, cuando tratamos con sistemas de recomendación, es necesario hacer una división específica para este tipo de problemas. En primer lugar, debemos dividir los usuarios en conjuntos de entrenamiento y test. Los **usuarios de entrenamiento** serán usuarios del sistema que se emplean únicamente para entrenar el sistema. Por su parte, los **usuarios de test** serán usuarios sobre los que se calcularán las recomendaciones que serán contrastadas con las medidas de calidad. Sin embargo, si simplemente dividiéramos a los usuarios, las predicciones realizadas deberían hacerse sobre los votos de los usuarios de test que ya han intervenido en el proceso de entramiento, falseando de este modo las mediciones del sistema. Por lo tanto, además de dividir los usuarios, debemos dividir los items en items entrenamiento y test. Los **items de entrenamiento** serán los items votados por los usuarios de test con los que se inferirán sus preferencias. Los **items de test** serán los items votados por los usuarios de test sobre los que aplicaremos la evaluación mediante medias de calidad. La siguiente figura muestra conceptualmente esta división:\n",
        "\n",
        "<img src=\"https://i.ibb.co/qNp2Xkm/evaluacion.png\" alt=\"Particionado del dataset para evaluacion\">\n",
        "\n",
        "En las siguientes secciones se definirán conceptual y formalmente las diferentes medidas de calidad existentes. Para ello emplearemos las siguientes definiciones:\n",
        "\n",
        "- Sea $U$ el conjunto de **usuarios de entrenamiento**.\n",
        "- Sea $U^T$ el conjunto de **usuarios de test**.\n",
        "- Sea $I$ el conjunto de **items de entrenamiento**.\n",
        "- Sea $I^T$ el conjunto de **items de test**.\n",
        "- Sea $r_{u,i}$ la **votación** del usuario $u$ al item $i$.\n",
        "- Sea $\\hat{r}_{u,i}$ la **predicción** del voto del usuario $u$ al item $i$.\n",
        "\n",
        "\n",
        "\n",
        "\n",
        "\n"
      ]
    },
    {
      "cell_type": "markdown",
      "metadata": {
        "id": "HpyDGM432U78"
      },
      "source": [
        "## Evaluación de las predicciones\n",
        "\n",
        "Las medidas de calidad de las predicciones tienen como objetivo evaluar lo certeras que han sido las predicciones realizadas por el sistema de recomendación. Estas medidas comparan el valor de la predicciones del voto ($\\hat{r}_{u,i}$) con la votación de test real emitida los el usuario ($r_{u,i}$). Disponemos de diferentes alternativas para su implementación.\n",
        "\n",
        "Definimos el **error medio absoluto** (*Mean Absolute Error | MAE*) como la diferencia media en valor absoluto de los votos y las predicciones. Definimos el *MAE* del usuario $u$ como:\n",
        "\n",
        "$$MAE_u = \\frac{ \\sum_{i \\in I^T_u} \\mid r_{u,i} - \\hat{r}_{u,i} \\mid  }{\\#I^T_u} $$\n",
        "\n",
        "donde $I^T_u$ representa el conjunto de items de test votados por el usuario $u$.\n",
        "\n",
        "Definimos el *MAE* del sistema como el promedio del *MAE* de cada usuario:\n",
        "\n",
        "$$MAE = \\frac{ \\sum_{u \\in U^T} MAE_u }{ \\#U^T } $$\n",
        "\n",
        "Definimos el **error cuadrático medio** (*Mean Squared Error | MSE*) como la diferencia cuadrática media de los votos y las predicciones. Este error penaliza más los errores grandes que el *MAE*. Definimos el *MSE* del usuario $u$ como:\n",
        "\n",
        "$$MSE_u = \\frac{ \\sum_{i \\in I^T_u} ( r_{u,i} - \\hat{r}_{u,i} )^2  }{\\#I^T_u} $$\n",
        "\n",
        "Definimos el *MSE* del sistema como el promedio del *MSE* de cada usuario:\n",
        "\n",
        "$$MSE = \\frac{ \\sum_{u \\in U^T} MSE_u }{ \\#U^T } $$\n",
        "\n",
        "Definimos la **raíz del error cuadrático medio** (*Root Mean Squared Error | RMSE*) como la raíz de la diferencia cuadrática media de los votos y las predicciones. Definimos el *RMSE* del usuario $u$ como:\n",
        "\n",
        "$$RMSE_u = \\sqrt{ \\frac{ \\sum_{i \\in I^T_u} ( r_{u,i} - \\hat{r}_{u,i} )^2  }{\\#I^T_u} }$$\n",
        "\n",
        "Definimos el *RMSE* del sistema como el promedio del *RMSE* de cada usuario:\n",
        "\n",
        "$$RMSE = \\frac{ \\sum_{u \\in U^T} RMSE }{ \\#U^T } $$"
      ]
    },
    {
      "cell_type": "markdown",
      "metadata": {
        "id": "JLstFeDD2U78"
      },
      "source": [
        "## Evaluación de las recomendaciones\n",
        "\n",
        "Las medidas de calidad de las recomendaciones tienen como objetivo evaluar lo satisfactorias que han resultados las recomendaciones proporcionadas a un usuario. Incluir el concepto de satisfacción dentro de las medidas de calidad requiere una binarización de los posibles votos que puede emitir un usuario en dos categorías: me gusta y no me gusta. Generalmente, esta binarización se produce mediante un umbral ($\\theta$) que indica a partir de qué valor se considera relevante (me gusta) un voto. Por ejemplo, si las votaciones plausibles van de 1 a 5 estrellas podemos establecer el umbral igual a 4 ($\\theta = 4$) y, de este modo, se consideran como relevantes los votos 4 y 5, y como no relevantes los votos 1, 2 y 3.\n",
        "\n",
        "Basándonos en este concepto, definimos la **precisión** como la proporción de los items recomendados a un usuario que le han resultado relevantes (le han gustado). Definimos *precision* del usuario *u* como:\n",
        "\n",
        "$$precision_u = \\frac {\\# \\{i \\in R_u | r_{u,i} \\geq \\theta\\}} {N}$$\n",
        "\n",
        "Donde $R_u$ representa los items de test recomendados al usuarios $u$ y $N$ es el número de items recomendados. Es habitual denominar a esta medida como $precision_u@N$. Por tanto, definiremos *precision* como el promedio de la precisión de cada usuario de test:\n",
        "\n",
        "$$precision = \\frac{ \\sum_{u \\in U^T} precision_u }{ \\#U^T } $$\n",
        "\n",
        "Definimos el **recall** como la proporción de los items recomendados a un usuario que le han resultados relevantes respecto del total de items relevantes de dicho usuario. Definimos el *recall** del usuario *u* como:\n",
        "\n",
        "$$recall_u = \\frac {\\# \\{i \\in R_u | r_{u,i} \\geq \\theta\\}} {\\# \\{i \\in I^T_u | r_{u,i} \\geq \\theta  \\}}$$\n",
        "\n",
        "Donde $R_u$ representa los items de test recomendados al usuario $u$. Es habitual denominar a esta medida como $recall_u@N$. Por tanto, definiremos *recall* como el promedio del recall de cada usuario de test:\n",
        "\n",
        "$$recall = \\frac{ \\sum_{u \\in U^T} recall_u }{ \\#U^T } $$\n",
        "\n",
        "Generalmente, todo sistema de recomendación, trata de maximizar su precisión para lograr que a un usuario le resulten interesantes la mayoría de items que se le recomienden. No obstante, es posible que, a pesar de tener una precisión baja, se estén obteniendo unos buenos resultados de recomendación siempre y cuando el recall sea cercano a 1.\n",
        "\n",
        "Para encontrar un equilibrio entre precisión y recall se suele emplear **F1**. Definimos el $F1$ del usuario $u$ como:\n",
        "\n",
        "$$F1_u = 2 \\cdot \\frac{ precision_u \\cdot recall_u }{ precision_u + recall_u }$$\n",
        "\n",
        "Asimismo, definiremos *F1* como el promedio de la F1 de cada usuario de test:\n",
        "\n",
        "$$F1 = \\frac{ \\sum_{u \\in U^T} F1_u }{ \\#U^T }$$\n"
      ]
    },
    {
      "cell_type": "markdown",
      "metadata": {
        "id": "rwu0599i0E4s"
      },
      "source": [
        "## Evaluación de las listas de recomendaciones\n",
        "\n",
        "Las medidas de evaluación de las recomendaciones suelen reportar unos resultados bastante representativos del funcionamiento del sistema. Sin embargo, sus resultados no siempre se ajustan correctamente a la satisfacción de los usuarios con las recomendaciones recibidas. Por lo general, un sistema de recomendación proporciona a cada usuario una lista ordenada que contiene *N* recomendaciones. La primera de recomendación de dicha lista será el item que el sistema considera que se ajusta más al perfil del usuario. La segunda, el segundo item que mejor lo haga y así sucesivamente.\n",
        "\n",
        "Las medidas de precisión, recall y F1 no tienen en consideración en qué posición de la lista estaba el item en el que acertamos o fallamos una predicción. Sin embargo, desde el punto de vista del usuario, el sentido común indica que son asumibles errores en las últimas posiciones de la lista de recomendaciones, pero no en las primeras. Ilustremos esto con un ejemplo. Supongamos dos sistemas de recomendación que proporciona 10 recomendaciones a los usuarios. Para un usuario aleatorio, el primera sistema acierta en las 5 primeras recomendaciones y falla en las 5 últimas. Para ese mismo usuario, el segundo sistema falla las 5 primeras recomendaciones y acierta las 5 últimas. Ambos sistemas tienen una precisión de 0.5, pero ¿qué sistema ofrece más confianza al usuario?\n",
        "\n",
        "**nDCG (*normalized Discounted Cumulative Gain*)** es una medida de calidad basada en listas de recomendaciones. Básicamente se encarga de comparar las recomendaciones proporcionadas en una lista con las recomendaciones que idealmente deberían haberse producido. Esta medida además da mucha más importancia a los aciertos (o los fallos) producidos en las primeras posiciones de la lista que a los que se producen en las últimas.\n",
        "\n",
        "Definimos el *nDCG* del usuario *u* como el *Discounted Cumulative Gain* dividido entre el *Ideal Discounted Cumulative Gain*:\n",
        "\n",
        "$$nDCG_u = \\frac {DCG_u} {IDCG_u}$$\n",
        "\n",
        "$$DCG_u = \\sum_{i \\in R_u} \\frac {2^{r_{u,i}} - 1} {log_2(pos(i)+1)}$$\n",
        "\n",
        "$$IDCG_u = \\sum_{i \\in I^T_u} \\frac {2^{r_{u,i}} - 1} {log_2(ipos(i)+1)}$$\n",
        "\n",
        "Donde $R_u$ representa el conjunto de items de test recomendados al usuario $u$, $I^T_u$ representa los items de test votados por el usuario $u$, $pos(i)$ representa la posición que ocupa el item $i$ en la lista de recomendaciones y $ipos(i)$ representa la posición que ocupa el item $i$ en la lista idea de recomendaciones (esto es, los items de test del usuario ordenados de mayor a menor valoración).\n",
        "\n",
        "Finalmente, definimos el $nDCG$ del sistema como el promedio de dicha medida para todos los usuarios de test:\n",
        "\n",
        "$$nDCG = \\frac{ \\sum_{u \\in U^T} nDCG_u }{ \\#U^T }$$\n",
        "\n",
        "\n"
      ]
    },
    {
      "cell_type": "markdown",
      "metadata": {
        "id": "ma6OU41nU13h"
      },
      "source": [
        "# Referencias\n",
        "\n",
        "Adomavicius, G., & Tuzhilin, A. (2005). **Toward the next generation of recommender systems: A survey of the state-of-the-art and possible extensions**. IEEE Transactions on Knowledge & Data Engineering, (6), 734-749.\n",
        "\n",
        "Ricci, F., Rokach, L., & Shapira, B. (2011). **Introduction to recommender systems handbook**. In Recommender systems handbook (pp. 1-35). Springer, Boston, MA.\n",
        "\n",
        "Bobadilla, J., Ortega, F., Hernando, A., & Gutiérrez, A. (2013). **Recommender systems survey**. Knowledge-based systems, 46, 109-132."
      ]
    },
    {
      "cell_type": "markdown",
      "metadata": {
        "id": "bZFCgYfttoIs"
      },
      "source": [
        "---\n",
        "\n",
        "*Este documento ha sido desarrollado por **Cristian Ramírez Atencia**. Dpto. Sistemas Informáticos, ETSI de Sistemas Informáticos, Universidad Politécnica de Madrid.*\n",
        "\n"
      ]
    },
    {
      "cell_type": "markdown",
      "metadata": {
        "id": "5lYkAhnw-Rou"
      },
      "source": [
        "<img src=\"https://i.ibb.co/NNP00fG/CC-BY-NC-SA.png\" alt=\"CC BY-NC\">"
      ]
    }
  ]
}