{
 "cells": [
  {
   "cell_type": "code",
   "execution_count": null,
   "id": "7b68337c",
   "metadata": {},
   "outputs": [],
   "source": [
    "import pandas as pd\n",
    "import numpy as np\n",
    "from tqdm import tqdm\n",
    "import random\n",
    "from funciones import (preprocesar_dataframe_animes, \n",
    "                       rating_average, correlation_similarity, jmsd_similarity, # Funciones de similitud y avg\n",
    "                       get_neighbors, # Búsqueda de vecinos\n",
    "                       average_prediction, weighted_average_prediction, deviation_from_mean_prediction, # Agregación\n",
    "                       get_recommendations, # Para métricas de ranking\n",
    "                       get_mae, get_rmse, get_precision, get_recall, get_f1, get_ndcg, # Métricas globales\n",
    "                       # No necesitas importar las get_user_* de métricas aquí si solo usas las globales\n",
    "                       # a menos que quieras hacer análisis por usuario.\n",
    "                       # También importa has_test_ratings, get_ordered_test_animes, get_user_idcg, get_user_dcg si son usadas por las métricas globales\n",
    "                       # que importas, lo cual parece ser el caso para nDCG.\n",
    "                       get_ordered_test_animes, get_user_idcg, get_user_dcg, # Necesarias para get_ndcg\n",
    "                       get_metricas # Tu función para imprimir todas las métricas\n",
    "                      )\n",
    "RANDOM_STATE = 42 \n"
   ]
  },
  {
   "cell_type": "code",
   "execution_count": 7,
   "id": "bf0b0870",
   "metadata": {},
   "outputs": [
    {
     "name": "stdout",
     "output_type": "stream",
     "text": [
      "  NUM_USERS: 1000, NUM_ANIMES: 3914\n",
      "  Tamaño train_df: 83964, Tamaño test_df: 20968\n"
     ]
    }
   ],
   "source": [
    "PATH_RATINGS_CSV = 'csv/rating.csv'    # Ajusta esta ruta\n",
    "MIN_USER_RATINGS = 5                   # Tu umbral\n",
    "MIN_ANIME_RATINGS = 5                  # Tu umbral\n",
    "SAMPLE_NUM_USERS_FOR_DEV = 1000\n",
    "\n",
    "(train_df, test_df, \n",
    " ratings_train_matrix, ratings_test_matrix,\n",
    " NUM_USERS, NUM_ANIMES, MIN_RATING, MAX_RATING, SCORES\n",
    ") = preprocesar_dataframe_animes( # Tu función importada\n",
    "    dataframe_path=PATH_RATINGS_CSV, # El nombre del parámetro en tu función\n",
    "    n_user_ratings=MIN_USER_RATINGS, # El nombre del parámetro en tu función\n",
    "    n_anime_ratings=MIN_ANIME_RATINGS, # El nombre del parámetro en tu función\n",
    "    num_users=SAMPLE_NUM_USERS_FOR_DEV,    # El nombre del parámetro en tu función\n",
    "    test_size=0.2,\n",
    "    RANDOM_STATE=RANDOM_STATE\n",
    ")\n",
    "\n",
    "\n",
    "print(f\"  NUM_USERS: {NUM_USERS}, NUM_ANIMES: {NUM_ANIMES}\")\n",
    "print(f\"  Tamaño train_df: {len(train_df)}, Tamaño test_df: {len(test_df)}\")"
   ]
  },
  {
   "cell_type": "code",
   "execution_count": 8,
   "id": "6f59d624",
   "metadata": {},
   "outputs": [
    {
     "data": {
      "text/html": [
       "<div>\n",
       "<style scoped>\n",
       "    .dataframe tbody tr th:only-of-type {\n",
       "        vertical-align: middle;\n",
       "    }\n",
       "\n",
       "    .dataframe tbody tr th {\n",
       "        vertical-align: top;\n",
       "    }\n",
       "\n",
       "    .dataframe thead th {\n",
       "        text-align: right;\n",
       "    }\n",
       "</style>\n",
       "<table border=\"1\" class=\"dataframe\">\n",
       "  <thead>\n",
       "    <tr style=\"text-align: right;\">\n",
       "      <th></th>\n",
       "      <th>user_id</th>\n",
       "      <th>anime_id</th>\n",
       "      <th>rating</th>\n",
       "    </tr>\n",
       "  </thead>\n",
       "  <tbody>\n",
       "    <tr>\n",
       "      <th>49219</th>\n",
       "      <td>463</td>\n",
       "      <td>3777</td>\n",
       "      <td>7</td>\n",
       "    </tr>\n",
       "    <tr>\n",
       "      <th>94597</th>\n",
       "      <td>861</td>\n",
       "      <td>506</td>\n",
       "      <td>9</td>\n",
       "    </tr>\n",
       "    <tr>\n",
       "      <th>34307</th>\n",
       "      <td>318</td>\n",
       "      <td>1997</td>\n",
       "      <td>7</td>\n",
       "    </tr>\n",
       "    <tr>\n",
       "      <th>59130</th>\n",
       "      <td>552</td>\n",
       "      <td>1948</td>\n",
       "      <td>8</td>\n",
       "    </tr>\n",
       "    <tr>\n",
       "      <th>64556</th>\n",
       "      <td>588</td>\n",
       "      <td>39</td>\n",
       "      <td>9</td>\n",
       "    </tr>\n",
       "  </tbody>\n",
       "</table>\n",
       "</div>"
      ],
      "text/plain": [
       "       user_id  anime_id  rating\n",
       "49219      463      3777       7\n",
       "94597      861       506       9\n",
       "34307      318      1997       7\n",
       "59130      552      1948       8\n",
       "64556      588        39       9"
      ]
     },
     "execution_count": 8,
     "metadata": {},
     "output_type": "execute_result"
    }
   ],
   "source": [
    "train_df.head()"
   ]
  },
  {
   "cell_type": "code",
   "execution_count": 16,
   "id": "969dedeb",
   "metadata": {},
   "outputs": [
    {
     "name": "stdout",
     "output_type": "stream",
     "text": [
      "[np.int64(1), np.int64(2), np.int64(3), np.int64(4), np.int64(5), np.int64(6), np.int64(7), np.int64(8), np.int64(9), np.int64(10)]\n"
     ]
    }
   ],
   "source": [
    "print(sorted(train_df.rating.unique()) )"
   ]
  },
  {
   "cell_type": "code",
   "execution_count": 20,
   "id": "dec69517",
   "metadata": {},
   "outputs": [],
   "source": [
    "# los valores posibles de rating\n",
    "SCORES = sorted(train_df.rating.unique())\n",
    "NUM_FACTORS = 7\n",
    "\n",
    "# Inicialización aleatoria de U y V\n",
    "U = [[[random.random() for _ in range(NUM_FACTORS)] for _ in range(NUM_USERS)] for _ in range(len(SCORES))]\n",
    "V = [[[random.random() for _ in range(NUM_FACTORS)] for _ in range(NUM_ANIMES)] for _ in range(len(SCORES))]"
   ]
  },
  {
   "cell_type": "markdown",
   "id": "a0bb67ca",
   "metadata": {},
   "source": [
    "definimos la funcion `logit` que sirve para convertir un rating en una probabilidad interpretable para el modelo"
   ]
  },
  {
   "cell_type": "code",
   "execution_count": 23,
   "id": "bf1871d4",
   "metadata": {},
   "outputs": [],
   "source": [
    "def logit(x):\n",
    "    return 1 / (1 + np.exp(-x))"
   ]
  },
  {
   "cell_type": "code",
   "execution_count": 25,
   "id": "059f482b",
   "metadata": {},
   "outputs": [
    {
     "name": "stdout",
     "output_type": "stream",
     "text": [
      "iter 1/35\n"
     ]
    },
    {
     "name": "stderr",
     "output_type": "stream",
     "text": [
      "C:\\Users\\adrig\\AppData\\Local\\Temp\\ipykernel_31184\\2770930846.py:2: RuntimeWarning: overflow encountered in exp\n",
      "  return 1 / (1 + np.exp(-x))\n"
     ]
    },
    {
     "name": "stdout",
     "output_type": "stream",
     "text": [
      "iter 2/35\n",
      "iter 3/35\n",
      "iter 4/35\n",
      "iter 5/35\n",
      "iter 6/35\n",
      "iter 7/35\n",
      "iter 8/35\n",
      "iter 9/35\n",
      "iter 10/35\n",
      "iter 11/35\n",
      "iter 12/35\n",
      "iter 13/35\n",
      "iter 14/35\n",
      "iter 15/35\n",
      "iter 16/35\n",
      "iter 17/35\n",
      "iter 18/35\n",
      "iter 19/35\n",
      "iter 20/35\n",
      "iter 21/35\n",
      "iter 22/35\n",
      "iter 23/35\n",
      "iter 24/35\n",
      "iter 25/35\n",
      "iter 26/35\n",
      "iter 27/35\n",
      "iter 28/35\n",
      "iter 29/35\n",
      "iter 30/35\n",
      "iter 31/35\n",
      "iter 32/35\n",
      "iter 33/35\n",
      "iter 34/35\n",
      "iter 35/35\n"
     ]
    }
   ],
   "source": [
    "NUM_ITERATIONS = 35\n",
    "LEARNING_RATE = 0.001\n",
    "REGULARIZATION = 0.1\n",
    "\n",
    "for it in range(NUM_ITERATIONS):\n",
    "    print(f\"iter {it+1}/{NUM_ITERATIONS}\")\n",
    "    for s_idx, s in enumerate(SCORES):\n",
    "\n",
    "        # users\n",
    "        for u in range(NUM_USERS):\n",
    "            delta = np.zeros(NUM_FACTORS)\n",
    "            for i in range(NUM_ANIMES):\n",
    "                if ratings_train_matrix[u][i] is not None:\n",
    "                    dot = np.dot(U[s_idx][u], V[s_idx][i])\n",
    "                    for f in range(NUM_FACTORS):\n",
    "                        if ratings_train_matrix[u][i] == s:\n",
    "                            delta[f] += (1 - logit(dot)) * V[s_idx][i][f]\n",
    "                        else:\n",
    "                            delta[f] -= logit(dot) * V[s_idx][i][f]\n",
    "                    for f in range(NUM_FACTORS):\n",
    "                        U[s_idx][u][f] += LEARNING_RATE * (delta[f] - REGULARIZATION * U[s_idx][u][f])\n",
    "\n",
    "        #items\n",
    "        for i in range(NUM_ANIMES):\n",
    "            theta = np.zeros(NUM_FACTORS)\n",
    "            for u in range(NUM_USERS):\n",
    "                if ratings_train_matrix[u][i] is not None:\n",
    "                    dot = np.dot(U[s_idx][u], V[s_idx][i])\n",
    "                    for f in range(NUM_FACTORS):\n",
    "                        if ratings_train_matrix[u][i] == s:\n",
    "                            theta[f] += (1 - logit(dot)) * U[s_idx][u][f]\n",
    "                        else:\n",
    "                            theta[f] -= logit(dot) * U[s_idx][u][f]\n",
    "                    for f in range(NUM_FACTORS):\n",
    "                        V[s_idx][i][f] += LEARNING_RATE * (theta[f] - REGULARIZATION * V[s_idx][i][f])\n"
   ]
  },
  {
   "cell_type": "code",
   "execution_count": 26,
   "id": "5b33bcf8",
   "metadata": {},
   "outputs": [],
   "source": [
    "def compute_prediction(u, i):\n",
    "    prediction = None\n",
    "    prob = 0\n",
    "    for s_idx, s in enumerate(SCORES):\n",
    "        dot = np.dot(U[s_idx][u], V[s_idx][i])\n",
    "        p = logit(dot)\n",
    "        if p > prob:\n",
    "            prob = p\n",
    "            prediction = s\n",
    "    return prediction\n"
   ]
  },
  {
   "cell_type": "code",
   "execution_count": 27,
   "id": "e033a87f",
   "metadata": {},
   "outputs": [
    {
     "name": "stdout",
     "output_type": "stream",
     "text": [
      "metricas de Bernoulli Matrix Factorization:\n",
      "MAE =  1.252986384148154\n",
      "RMSE =  1.5965352396166503\n",
      "Precision =  0.8930103174603146\n",
      "Recall =  0.7155707905937282\n",
      "F1 =  0.7402776022257248\n"
     ]
    }
   ],
   "source": [
    "# hacemos las predicciones\n",
    "predictions_bernoulli = [[None for _ in range(NUM_ANIMES)] for _ in range(NUM_USERS)]\n",
    "for u in range(NUM_USERS):\n",
    "    for i in range(NUM_ANIMES):\n",
    "        if ratings_test_matrix[u][i] is not None:\n",
    "            predictions_bernoulli[u][i] = compute_prediction(u, i)\n",
    "\n",
    "# Evaluación\n",
    "print(\"metricas de Bernoulli Matrix Factorization:\")\n",
    "get_metricas(ratings_test_matrix, NUM_ANIMES, NUM_USERS, predictions_bernoulli, theta=7, N=10)\n"
   ]
  },
  {
   "cell_type": "code",
   "execution_count": null,
   "id": "c56ff5cc",
   "metadata": {},
   "outputs": [],
   "source": []
  }
 ],
 "metadata": {
  "kernelspec": {
   "display_name": "Python 3",
   "language": "python",
   "name": "python3"
  },
  "language_info": {
   "codemirror_mode": {
    "name": "ipython",
    "version": 3
   },
   "file_extension": ".py",
   "mimetype": "text/x-python",
   "name": "python",
   "nbconvert_exporter": "python",
   "pygments_lexer": "ipython3",
   "version": "3.11.9"
  }
 },
 "nbformat": 4,
 "nbformat_minor": 5
}
